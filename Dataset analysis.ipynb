{
 "cells": [
  {
   "cell_type": "markdown",
   "id": "forward-passenger",
   "metadata": {},
   "source": [
    "# Installing and importing dependencies"
   ]
  },
  {
   "cell_type": "code",
   "execution_count": 1,
   "id": "destroyed-words",
   "metadata": {
    "scrolled": true
   },
   "outputs": [
    {
     "name": "stdout",
     "output_type": "stream",
     "text": [
      "Requirement already satisfied: openpyxl in /home/giustino/miniconda3/lib/python3.8/site-packages (3.0.10)\n",
      "Requirement already satisfied: et-xmlfile in /home/giustino/miniconda3/lib/python3.8/site-packages (from openpyxl) (1.1.0)\n",
      "Requirement already satisfied: pandas in /home/giustino/.local/lib/python3.8/site-packages (1.3.3)\n",
      "Requirement already satisfied: numpy>=1.17.3 in /home/giustino/.local/lib/python3.8/site-packages (from pandas) (1.19.5)\n",
      "Requirement already satisfied: pytz>=2017.3 in /home/giustino/miniconda3/lib/python3.8/site-packages (from pandas) (2021.1)\n",
      "Requirement already satisfied: python-dateutil>=2.7.3 in /home/giustino/miniconda3/lib/python3.8/site-packages (from pandas) (2.8.2)\n",
      "Requirement already satisfied: six>=1.5 in /home/giustino/.local/lib/python3.8/site-packages (from python-dateutil>=2.7.3->pandas) (1.15.0)\n",
      "Requirement already satisfied: numpy in /home/giustino/.local/lib/python3.8/site-packages (1.19.5)\n",
      "Requirement already satisfied: rdkit in /home/giustino/miniconda3/lib/python3.8/site-packages (2022.3.5)\n",
      "Requirement already satisfied: Pillow in /home/giustino/miniconda3/lib/python3.8/site-packages (from rdkit) (8.2.0)\n",
      "Requirement already satisfied: numpy in /home/giustino/.local/lib/python3.8/site-packages (from rdkit) (1.19.5)\n"
     ]
    }
   ],
   "source": [
    "!pip install openpyxl\n",
    "!pip install pandas\n",
    "!pip install numpy\n",
    "!pip install rdkit"
   ]
  },
  {
   "cell_type": "code",
   "execution_count": 14,
   "id": "furnished-press",
   "metadata": {
    "scrolled": true
   },
   "outputs": [],
   "source": [
    "import pandas as pd\n",
    "import numpy as np\n",
    "from rdkit import Chem\n",
    "from rdkit.Chem import AllChem\n",
    "from rdkit.Chem import Draw\n",
    "import matplotlib.pyplot as plt"
   ]
  },
  {
   "cell_type": "markdown",
   "id": "documented-pharmacology",
   "metadata": {},
   "source": [
    "Function that will be used to check that no \"na\" values appear:"
   ]
  },
  {
   "cell_type": "code",
   "execution_count": 3,
   "id": "bright-token",
   "metadata": {},
   "outputs": [],
   "source": [
    "def check_no_na(data):\n",
    "    if data.isna().sum().eq(0).all():\n",
    "        print(\"Success: No NA values found.\")\n",
    "        return\n",
    "    print(\"Warning: NA values found.\")"
   ]
  },
  {
   "cell_type": "markdown",
   "id": "weird-office",
   "metadata": {},
   "source": [
    "# Importing the dataset"
   ]
  },
  {
   "cell_type": "code",
   "execution_count": 4,
   "id": "decreased-bradford",
   "metadata": {
    "scrolled": true
   },
   "outputs": [
    {
     "data": {
      "text/html": [
       "<div>\n",
       "<style scoped>\n",
       "    .dataframe tbody tr th:only-of-type {\n",
       "        vertical-align: middle;\n",
       "    }\n",
       "\n",
       "    .dataframe tbody tr th {\n",
       "        vertical-align: top;\n",
       "    }\n",
       "\n",
       "    .dataframe thead th {\n",
       "        text-align: right;\n",
       "    }\n",
       "</style>\n",
       "<table border=\"1\" class=\"dataframe\">\n",
       "  <thead>\n",
       "    <tr style=\"text-align: right;\">\n",
       "      <th></th>\n",
       "      <th>Catalyst</th>\n",
       "      <th>Imine</th>\n",
       "      <th>Thiol</th>\n",
       "      <th>Output</th>\n",
       "    </tr>\n",
       "  </thead>\n",
       "  <tbody>\n",
       "    <tr>\n",
       "      <th>0</th>\n",
       "      <td>O=P1(O)OC2=C(C3=C(C4CCCCC4)C=C(C5CCCCC5)C=C3C6...</td>\n",
       "      <td>O=C(C1=CC=CC=C1)/N=C/C2=CC=C(Cl)C=C2Cl</td>\n",
       "      <td>SC1=CC=CC=C1C</td>\n",
       "      <td>3.134625</td>\n",
       "    </tr>\n",
       "    <tr>\n",
       "      <th>1</th>\n",
       "      <td>O=P1(O)OC2=C(C3=CC(C4=C(C)C=C(C)C=C4C)=CC(C5=C...</td>\n",
       "      <td>O=C(C1=CC=CC=C1)/N=C/C2=CC=C(OC)C=C2</td>\n",
       "      <td>SC1=CC=C(OC)C=C1</td>\n",
       "      <td>1.531803</td>\n",
       "    </tr>\n",
       "    <tr>\n",
       "      <th>2</th>\n",
       "      <td>O=P1(O)OC2=C(C3=CC=C(OC)C=C3)C=C4C(C=CC=C4)=C2...</td>\n",
       "      <td>O=C(C1=CC=CC=C1)/N=C/C2=CC=C(Cl)C=C2Cl</td>\n",
       "      <td>SC1=CC=CC=C1</td>\n",
       "      <td>1.074991</td>\n",
       "    </tr>\n",
       "    <tr>\n",
       "      <th>3</th>\n",
       "      <td>O=P1(O)OC2=[C@]([C@]3=C(Cl)C=C(Cl)C=C3Cl)C=C4C...</td>\n",
       "      <td>O=C(C1=CC=CC=C1)/N=C/C2=CC=C(OC)C=C2</td>\n",
       "      <td>SC1=CC=CC=C1C</td>\n",
       "      <td>1.334823</td>\n",
       "    </tr>\n",
       "    <tr>\n",
       "      <th>4</th>\n",
       "      <td>O=P1(O)OC2=C(C3=C(C=CC4=CC=CC(C=C5)=C46)C6=C5C...</td>\n",
       "      <td>O=C(C1=CC=CC=C1)/N=C/C2=CC=CC3=C2C=CC=C3</td>\n",
       "      <td>SC1=CC=CC=C1</td>\n",
       "      <td>1.743658</td>\n",
       "    </tr>\n",
       "  </tbody>\n",
       "</table>\n",
       "</div>"
      ],
      "text/plain": [
       "                                            Catalyst  \\\n",
       "0  O=P1(O)OC2=C(C3=C(C4CCCCC4)C=C(C5CCCCC5)C=C3C6...   \n",
       "1  O=P1(O)OC2=C(C3=CC(C4=C(C)C=C(C)C=C4C)=CC(C5=C...   \n",
       "2  O=P1(O)OC2=C(C3=CC=C(OC)C=C3)C=C4C(C=CC=C4)=C2...   \n",
       "3  O=P1(O)OC2=[C@]([C@]3=C(Cl)C=C(Cl)C=C3Cl)C=C4C...   \n",
       "4  O=P1(O)OC2=C(C3=C(C=CC4=CC=CC(C=C5)=C46)C6=C5C...   \n",
       "\n",
       "                                      Imine             Thiol    Output  \n",
       "0    O=C(C1=CC=CC=C1)/N=C/C2=CC=C(Cl)C=C2Cl     SC1=CC=CC=C1C  3.134625  \n",
       "1      O=C(C1=CC=CC=C1)/N=C/C2=CC=C(OC)C=C2  SC1=CC=C(OC)C=C1  1.531803  \n",
       "2    O=C(C1=CC=CC=C1)/N=C/C2=CC=C(Cl)C=C2Cl      SC1=CC=CC=C1  1.074991  \n",
       "3      O=C(C1=CC=CC=C1)/N=C/C2=CC=C(OC)C=C2     SC1=CC=CC=C1C  1.334823  \n",
       "4  O=C(C1=CC=CC=C1)/N=C/C2=CC=CC3=C2C=CC=C3      SC1=CC=CC=C1  1.743658  "
      ]
     },
     "execution_count": 4,
     "metadata": {},
     "output_type": "execute_result"
    }
   ],
   "source": [
    "df_raw=pd.read_excel(\"denmark.xlsx\")\n",
    "df_raw.head()"
   ]
  },
  {
   "cell_type": "markdown",
   "id": "broad-yahoo",
   "metadata": {},
   "source": [
    "# Looking at the data"
   ]
  },
  {
   "cell_type": "markdown",
   "id": "coral-meditation",
   "metadata": {},
   "source": [
    "### Target values"
   ]
  },
  {
   "cell_type": "markdown",
   "id": "popular-diabetes",
   "metadata": {},
   "source": [
    "First of all, it would be important to look at how output values are distributed:"
   ]
  },
  {
   "cell_type": "code",
   "execution_count": 5,
   "id": "essential-hands",
   "metadata": {
    "scrolled": false
   },
   "outputs": [
    {
     "data": {
      "text/html": [
       "<div>\n",
       "<style scoped>\n",
       "    .dataframe tbody tr th:only-of-type {\n",
       "        vertical-align: middle;\n",
       "    }\n",
       "\n",
       "    .dataframe tbody tr th {\n",
       "        vertical-align: top;\n",
       "    }\n",
       "\n",
       "    .dataframe thead th {\n",
       "        text-align: right;\n",
       "    }\n",
       "</style>\n",
       "<table border=\"1\" class=\"dataframe\">\n",
       "  <thead>\n",
       "    <tr style=\"text-align: right;\">\n",
       "      <th></th>\n",
       "      <th>Output</th>\n",
       "    </tr>\n",
       "  </thead>\n",
       "  <tbody>\n",
       "    <tr>\n",
       "      <th>count</th>\n",
       "      <td>1075.000000</td>\n",
       "    </tr>\n",
       "    <tr>\n",
       "      <th>mean</th>\n",
       "      <td>0.987658</td>\n",
       "    </tr>\n",
       "    <tr>\n",
       "      <th>std</th>\n",
       "      <td>0.700524</td>\n",
       "    </tr>\n",
       "    <tr>\n",
       "      <th>min</th>\n",
       "      <td>-0.419378</td>\n",
       "    </tr>\n",
       "    <tr>\n",
       "      <th>25%</th>\n",
       "      <td>0.473820</td>\n",
       "    </tr>\n",
       "    <tr>\n",
       "      <th>50%</th>\n",
       "      <td>1.050757</td>\n",
       "    </tr>\n",
       "    <tr>\n",
       "      <th>75%</th>\n",
       "      <td>1.370104</td>\n",
       "    </tr>\n",
       "    <tr>\n",
       "      <th>max</th>\n",
       "      <td>3.134625</td>\n",
       "    </tr>\n",
       "  </tbody>\n",
       "</table>\n",
       "</div>"
      ],
      "text/plain": [
       "            Output\n",
       "count  1075.000000\n",
       "mean      0.987658\n",
       "std       0.700524\n",
       "min      -0.419378\n",
       "25%       0.473820\n",
       "50%       1.050757\n",
       "75%       1.370104\n",
       "max       3.134625"
      ]
     },
     "execution_count": 5,
     "metadata": {},
     "output_type": "execute_result"
    }
   ],
   "source": [
    "df_raw.describe()"
   ]
  },
  {
   "cell_type": "code",
   "execution_count": null,
   "id": "solid-pillow",
   "metadata": {},
   "outputs": [],
   "source": []
  },
  {
   "cell_type": "code",
   "execution_count": 30,
   "id": "solar-venice",
   "metadata": {},
   "outputs": [
    {
     "data": {
      "image/png": "[encoded data removed]",
      "text/plain": [
       "<Figure size 432x288 with 1 Axes>"
      ]
     },
     "metadata": {
      "needs_background": "light"
     },
     "output_type": "display_data"
    }
   ],
   "source": [
    "plt.hist(x=df_raw[\"Output\"], bins=20);\n",
    "plt.title(\"Distribution of output values\")\n",
    "plt.xlabel(\"Ouput value\");"
   ]
  },
  {
   "cell_type": "code",
   "execution_count": 32,
   "id": "current-talent",
   "metadata": {},
   "outputs": [
    {
     "data": {
      "image/png": "[encoded data removed]",
      "text/plain": [
       "<Figure size 432x288 with 1 Axes>"
      ]
     },
     "metadata": {
      "needs_background": "light"
     },
     "output_type": "display_data"
    }
   ],
   "source": [
    "plt.hist(x=df_raw[\"Output\"].apply(np.log1p), bins=20);\n",
    "plt.title(\"Distribution of output values\")\n",
    "plt.xlabel(\"Ouput value\");"
   ]
  },
  {
   "cell_type": "markdown",
   "id": "worth-botswana",
   "metadata": {},
   "source": [
    "Here, it should be noted that "
   ]
  },
  {
   "cell_type": "markdown",
   "id": "bright-island",
   "metadata": {},
   "source": [
    "### Features"
   ]
  },
  {
   "cell_type": "markdown",
   "id": "severe-queens",
   "metadata": {},
   "source": [
    "Are there any \"na\" values?"
   ]
  },
  {
   "cell_type": "code",
   "execution_count": 6,
   "id": "broad-snapshot",
   "metadata": {
    "scrolled": true
   },
   "outputs": [
    {
     "name": "stdout",
     "output_type": "stream",
     "text": [
      "Success: No NA values found.\n"
     ]
    }
   ],
   "source": [
    "check_no_na(df_raw)"
   ]
  },
  {
   "cell_type": "markdown",
   "id": "median-latter",
   "metadata": {},
   "source": [
    "How many different molecules are there?"
   ]
  },
  {
   "cell_type": "code",
   "execution_count": 7,
   "id": "amber-aquarium",
   "metadata": {},
   "outputs": [
    {
     "data": {
      "text/html": [
       "<div>\n",
       "<style scoped>\n",
       "    .dataframe tbody tr th:only-of-type {\n",
       "        vertical-align: middle;\n",
       "    }\n",
       "\n",
       "    .dataframe tbody tr th {\n",
       "        vertical-align: top;\n",
       "    }\n",
       "\n",
       "    .dataframe thead th {\n",
       "        text-align: right;\n",
       "    }\n",
       "</style>\n",
       "<table border=\"1\" class=\"dataframe\">\n",
       "  <thead>\n",
       "    <tr style=\"text-align: right;\">\n",
       "      <th></th>\n",
       "      <th>Unique Catalysts</th>\n",
       "      <th>Unique Imines</th>\n",
       "      <th>Unique Thiols</th>\n",
       "    </tr>\n",
       "  </thead>\n",
       "  <tbody>\n",
       "    <tr>\n",
       "      <th>0</th>\n",
       "      <td>43</td>\n",
       "      <td>5</td>\n",
       "      <td>5</td>\n",
       "    </tr>\n",
       "  </tbody>\n",
       "</table>\n",
       "</div>"
      ],
      "text/plain": [
       "   Unique Catalysts  Unique Imines  Unique Thiols\n",
       "0                43              5              5"
      ]
     },
     "execution_count": 7,
     "metadata": {},
     "output_type": "execute_result"
    }
   ],
   "source": [
    "unique_catalysts=df_raw[\"Catalyst\"].unique()\n",
    "unique_imines=df_raw[\"Imine\"].unique()\n",
    "unique_thiols=df_raw[\"Thiol\"].unique()\n",
    "pd.DataFrame({\"Unique Catalysts\": [unique_catalysts.shape[0]], \"Unique Imines\": [unique_imines.shape[0]], \"Unique Thiols\": [unique_thiols.shape[0]]})"
   ]
  },
  {
   "cell_type": "markdown",
   "id": "general-overall",
   "metadata": {},
   "source": [
    "Here, one could use One-hot encoding for the Imines and Thiols. This idea was discarded since in the case another Thiol or Imine is added, one would have to retrain the model instead of being able to fine-tune it. "
   ]
  },
  {
   "cell_type": "markdown",
   "id": "placed-movement",
   "metadata": {},
   "source": [
    "Show 3 random different Catalysts:"
   ]
  },
  {
   "cell_type": "code",
   "execution_count": 8,
   "id": "correct-generation",
   "metadata": {},
   "outputs": [
    {
     "data": {
      "image/png": "[encoded data removed]",
      "text/plain": [
       "<IPython.core.display.Image object>"
      ]
     },
     "execution_count": 8,
     "metadata": {},
     "output_type": "execute_result"
    }
   ],
   "source": [
    "mol_list=[]\n",
    "unique_molecules=df_raw[\"Imine\"].unique()\n",
    "for i in range(3):\n",
    "    index=np.random.randint(0, unique_molecules.shape[0])\n",
    "    mol_list.append(Chem.MolFromSmiles(unique_molecules[index]))\n",
    "    unique_molecules=np.delete(unique_molecules,index)\n",
    "Draw.MolsToGridImage(mol_list)"
   ]
  },
  {
   "cell_type": "markdown",
   "id": "banner-edmonton",
   "metadata": {},
   "source": [
    "Show 3 random different Imine:"
   ]
  },
  {
   "cell_type": "code",
   "execution_count": 9,
   "id": "athletic-washington",
   "metadata": {},
   "outputs": [
    {
     "data": {
      "image/png": "[encoded data removed]",
      "text/plain": [
       "<IPython.core.display.Image object>"
      ]
     },
     "execution_count": 9,
     "metadata": {},
     "output_type": "execute_result"
    }
   ],
   "source": [
    "mol_list=[]\n",
    "unique_molecules=df_raw[\"Imine\"].unique()\n",
    "for i in range(3):\n",
    "    index=np.random.randint(0, unique_molecules.shape[0])\n",
    "    mol_list.append(Chem.MolFromSmiles(unique_molecules[index]))\n",
    "    unique_molecules=np.delete(unique_molecules,index)\n",
    "Draw.MolsToGridImage(mol_list)"
   ]
  },
  {
   "cell_type": "markdown",
   "id": "animated-weapon",
   "metadata": {},
   "source": [
    "Show 3 random different Thiol:"
   ]
  },
  {
   "cell_type": "code",
   "execution_count": 10,
   "id": "republican-business",
   "metadata": {},
   "outputs": [
    {
     "data": {
      "image/png": "[encoded data removed]",
      "text/plain": [
       "<IPython.core.display.Image object>"
      ]
     },
     "execution_count": 10,
     "metadata": {},
     "output_type": "execute_result"
    }
   ],
   "source": [
    "mol_list=[]\n",
    "unique_molecules=df_raw[\"Thiol\"].unique()\n",
    "for i in range(3):\n",
    "    index=np.random.randint(0, unique_molecules.shape[0])\n",
    "    mol_list.append(Chem.MolFromSmiles(unique_molecules[index]))\n",
    "    unique_molecules=np.delete(unique_molecules, index)\n",
    "Draw.MolsToGridImage(mol_list)"
   ]
  },
  {
   "cell_type": "markdown",
   "id": "common-finish",
   "metadata": {},
   "source": [
    "# Preprocessing"
   ]
  },
  {
   "cell_type": "markdown",
   "id": "after-germany",
   "metadata": {},
   "source": [
    "Translating the \"Catalyst\", the \"Imine\" and the \"Thiol\" columns from SMILES to a RDKit molecule:"
   ]
  },
  {
   "cell_type": "code",
   "execution_count": 11,
   "id": "confidential-teach",
   "metadata": {},
   "outputs": [
    {
     "data": {
      "text/html": [
       "<div>\n",
       "<style scoped>\n",
       "    .dataframe tbody tr th:only-of-type {\n",
       "        vertical-align: middle;\n",
       "    }\n",
       "\n",
       "    .dataframe tbody tr th {\n",
       "        vertical-align: top;\n",
       "    }\n",
       "\n",
       "    .dataframe thead th {\n",
       "        text-align: right;\n",
       "    }\n",
       "</style>\n",
       "<table border=\"1\" class=\"dataframe\">\n",
       "  <thead>\n",
       "    <tr style=\"text-align: right;\">\n",
       "      <th></th>\n",
       "      <th>Catalyst</th>\n",
       "      <th>Imine</th>\n",
       "      <th>Thiol</th>\n",
       "    </tr>\n",
       "  </thead>\n",
       "  <tbody>\n",
       "    <tr>\n",
       "      <th>0</th>\n",
       "      <td>&lt;rdkit.Chem.rdchem.Mol object at 0x7fb45c7479e0&gt;</td>\n",
       "      <td>&lt;rdkit.Chem.rdchem.Mol object at 0x7fb45c7471c0&gt;</td>\n",
       "      <td>&lt;rdkit.Chem.rdchem.Mol object at 0x7fb45c6a3ad0&gt;</td>\n",
       "    </tr>\n",
       "    <tr>\n",
       "      <th>1</th>\n",
       "      <td>&lt;rdkit.Chem.rdchem.Mol object at 0x7fb45c751210&gt;</td>\n",
       "      <td>&lt;rdkit.Chem.rdchem.Mol object at 0x7fb45c6a39e0&gt;</td>\n",
       "      <td>&lt;rdkit.Chem.rdchem.Mol object at 0x7fb45c6a3a30&gt;</td>\n",
       "    </tr>\n",
       "    <tr>\n",
       "      <th>2</th>\n",
       "      <td>&lt;rdkit.Chem.rdchem.Mol object at 0x7fb45c751120&gt;</td>\n",
       "      <td>&lt;rdkit.Chem.rdchem.Mol object at 0x7fb45c6a3990&gt;</td>\n",
       "      <td>&lt;rdkit.Chem.rdchem.Mol object at 0x7fb45c68c3a0&gt;</td>\n",
       "    </tr>\n",
       "    <tr>\n",
       "      <th>3</th>\n",
       "      <td>&lt;rdkit.Chem.rdchem.Mol object at 0x7fb45c7511c0&gt;</td>\n",
       "      <td>&lt;rdkit.Chem.rdchem.Mol object at 0x7fb45c6a3bc0&gt;</td>\n",
       "      <td>&lt;rdkit.Chem.rdchem.Mol object at 0x7fb45c68c350&gt;</td>\n",
       "    </tr>\n",
       "    <tr>\n",
       "      <th>4</th>\n",
       "      <td>&lt;rdkit.Chem.rdchem.Mol object at 0x7fb45c751030&gt;</td>\n",
       "      <td>&lt;rdkit.Chem.rdchem.Mol object at 0x7fb45c6a3c10&gt;</td>\n",
       "      <td>&lt;rdkit.Chem.rdchem.Mol object at 0x7fb45c68c300&gt;</td>\n",
       "    </tr>\n",
       "  </tbody>\n",
       "</table>\n",
       "</div>"
      ],
      "text/plain": [
       "                                           Catalyst  \\\n",
       "0  <rdkit.Chem.rdchem.Mol object at 0x7fb45c7479e0>   \n",
       "1  <rdkit.Chem.rdchem.Mol object at 0x7fb45c751210>   \n",
       "2  <rdkit.Chem.rdchem.Mol object at 0x7fb45c751120>   \n",
       "3  <rdkit.Chem.rdchem.Mol object at 0x7fb45c7511c0>   \n",
       "4  <rdkit.Chem.rdchem.Mol object at 0x7fb45c751030>   \n",
       "\n",
       "                                              Imine  \\\n",
       "0  <rdkit.Chem.rdchem.Mol object at 0x7fb45c7471c0>   \n",
       "1  <rdkit.Chem.rdchem.Mol object at 0x7fb45c6a39e0>   \n",
       "2  <rdkit.Chem.rdchem.Mol object at 0x7fb45c6a3990>   \n",
       "3  <rdkit.Chem.rdchem.Mol object at 0x7fb45c6a3bc0>   \n",
       "4  <rdkit.Chem.rdchem.Mol object at 0x7fb45c6a3c10>   \n",
       "\n",
       "                                              Thiol  \n",
       "0  <rdkit.Chem.rdchem.Mol object at 0x7fb45c6a3ad0>  \n",
       "1  <rdkit.Chem.rdchem.Mol object at 0x7fb45c6a3a30>  \n",
       "2  <rdkit.Chem.rdchem.Mol object at 0x7fb45c68c3a0>  \n",
       "3  <rdkit.Chem.rdchem.Mol object at 0x7fb45c68c350>  \n",
       "4  <rdkit.Chem.rdchem.Mol object at 0x7fb45c68c300>  "
      ]
     },
     "execution_count": 11,
     "metadata": {},
     "output_type": "execute_result"
    }
   ],
   "source": [
    "df_molecule_obj=df_raw[[\"Catalyst\", \"Imine\", \"Thiol\"]].applymap(Chem.MolFromSmiles)\n",
    "df_y=df_raw[\"Output\"]\n",
    "df_molecule_obj.head()"
   ]
  },
  {
   "cell_type": "markdown",
   "id": "black-hartford",
   "metadata": {},
   "source": [
    "Verifying that all the smiles transfered successfuly. The RDKit documentaton states:\n",
    "\n",
    ">or None on failure:\n",
    ">\n",
    ">> ```m = Chem.MolFromMolFile('data/invalid.mol')```\n",
    ">>\n",
    ">> ```m is None```\n",
    ">\n",
    ">True\n",
    "\n",
    "So the \"na\" instances are counted and should be 0 if no problems were encountered:"
   ]
  },
  {
   "cell_type": "code",
   "execution_count": 12,
   "id": "nominated-impact",
   "metadata": {
    "scrolled": true
   },
   "outputs": [
    {
     "name": "stdout",
     "output_type": "stream",
     "text": [
      "Success: No NA values found.\n"
     ]
    }
   ],
   "source": [
    "check_no_na(df_molecule_obj)"
   ]
  },
  {
   "cell_type": "markdown",
   "id": "native-identification",
   "metadata": {
    "scrolled": true
   },
   "source": [
    "idea: use qsar fingerprints: http://www.qsar4u.com/files/qsar_rdkit_tutorial/qsar-rdkit.html\n",
    "\n",
    "idea: https://pubs.acs.org/doi/10.1021/acs.jcim.7b00616\n"
   ]
  },
  {
   "cell_type": "code",
   "execution_count": 13,
   "id": "disturbed-opening",
   "metadata": {},
   "outputs": [
    {
     "ename": "SyntaxError",
     "evalue": "unexpected EOF while parsing (<ipython-input-13-43e58012c709>, line 2)",
     "output_type": "error",
     "traceback": [
      "\u001b[0;36m  File \u001b[0;32m\"<ipython-input-13-43e58012c709>\"\u001b[0;36m, line \u001b[0;32m2\u001b[0m\n\u001b[0;31m    \u001b[0m\n\u001b[0m    ^\u001b[0m\n\u001b[0;31mSyntaxError\u001b[0m\u001b[0;31m:\u001b[0m unexpected EOF while parsing\n"
     ]
    }
   ],
   "source": [
    "def preprocessing(df_raw, n_bit, n_atom):\n",
    "    "
   ]
  },
  {
   "cell_type": "code",
   "execution_count": null,
   "id": "unexpected-collective",
   "metadata": {},
   "outputs": [],
   "source": [
    "pipeline = Pipeline([( \"scaler\" , StandardScaler()),\n",
    "                       (\"rf\",RandomForestClassifier())])\n"
   ]
  }
 ],
 "metadata": {
  "kernelspec": {
   "display_name": "Python 3",
   "language": "python",
   "name": "python3"
  },
  "language_info": {
   "codemirror_mode": {
    "name": "ipython",
    "version": 3
   },
   "file_extension": ".py",
   "mimetype": "text/x-python",
   "name": "python",
   "nbconvert_exporter": "python",
   "pygments_lexer": "ipython3",
   "version": "3.8.5"
  }
 },
 "nbformat": 4,
 "nbformat_minor": 5
}
