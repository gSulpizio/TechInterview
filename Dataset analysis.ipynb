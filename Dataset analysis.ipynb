{
 "cells": [
  {
   "cell_type": "markdown",
   "id": "forward-passenger",
   "metadata": {},
   "source": [
    "# Installing and importing dependencies"
   ]
  },
  {
   "cell_type": "code",
   "execution_count": 1,
   "id": "destroyed-words",
   "metadata": {
    "scrolled": true
   },
   "outputs": [
    {
     "name": "stdout",
     "output_type": "stream",
     "text": [
      "Requirement already satisfied: openpyxl in /home/giustino/miniconda3/lib/python3.8/site-packages (3.0.10)\n",
      "Requirement already satisfied: et-xmlfile in /home/giustino/miniconda3/lib/python3.8/site-packages (from openpyxl) (1.1.0)\n",
      "Requirement already satisfied: pandas in /home/giustino/.local/lib/python3.8/site-packages (1.3.3)\n",
      "Requirement already satisfied: numpy>=1.17.3 in /home/giustino/.local/lib/python3.8/site-packages (from pandas) (1.19.5)\n",
      "Requirement already satisfied: pytz>=2017.3 in /home/giustino/miniconda3/lib/python3.8/site-packages (from pandas) (2021.1)\n",
      "Requirement already satisfied: python-dateutil>=2.7.3 in /home/giustino/miniconda3/lib/python3.8/site-packages (from pandas) (2.8.2)\n",
      "Requirement already satisfied: six>=1.5 in /home/giustino/.local/lib/python3.8/site-packages (from python-dateutil>=2.7.3->pandas) (1.15.0)\n",
      "Requirement already satisfied: numpy in /home/giustino/.local/lib/python3.8/site-packages (1.19.5)\n",
      "Requirement already satisfied: rdkit in /home/giustino/miniconda3/lib/python3.8/site-packages (2022.3.5)\n",
      "Requirement already satisfied: Pillow in /home/giustino/miniconda3/lib/python3.8/site-packages (from rdkit) (8.2.0)\n",
      "Requirement already satisfied: numpy in /home/giustino/.local/lib/python3.8/site-packages (from rdkit) (1.19.5)\n"
     ]
    }
   ],
   "source": [
    "!pip install openpyxl\n",
    "!pip install pandas\n",
    "!pip install numpy\n",
    "!pip install rdkit"
   ]
  },
  {
   "cell_type": "code",
   "execution_count": 276,
   "id": "furnished-press",
   "metadata": {
    "scrolled": true
   },
   "outputs": [],
   "source": [
    "import pandas as pd\n",
    "import numpy as np\n",
    "import time\n",
    "\n",
    "from rdkit import Chem\n",
    "from rdkit.Chem import AllChem\n",
    "from rdkit.Chem import Draw\n",
    "from rdkit.Chem import DataStructs\n",
    "from rdkit.Chem import Descriptors\n",
    "\n",
    "\n",
    "from sklearn.base import BaseEstimator, TransformerMixin\n",
    "from sklearn.linear_model import Ridge\n",
    "from sklearn.pipeline import Pipeline\n",
    "from sklearn.model_selection import GridSearchCV\n",
    "from sklearn.model_selection import train_test_split\n",
    "from sklearn.model_selection import KFold\n",
    "from sklearn.metrics import mean_absolute_error, mean_squared_error\n",
    "from sklearn.ensemble import RandomForestRegressor \n",
    "from sklearn.preprocessing import StandardScaler\n",
    "\n",
    "import tensorflow as tf\n",
    "from tensorflow import keras\n",
    "from tensorflow.keras import layers\n",
    "from tensorflow.keras import Sequential\n",
    "from tensorflow.keras.layers import Dense, Dropout\n",
    "from tensorflow.keras.wrappers.scikit_learn import KerasRegressor\n",
    "from keras.callbacks import History \n",
    "\n",
    "\n",
    "\n",
    "import seaborn as sns\n",
    "import matplotlib.pyplot as plt"
   ]
  },
  {
   "cell_type": "code",
   "execution_count": 3,
   "id": "44b5c43e-20ce-40f9-b79e-ced6d88eb9a4",
   "metadata": {},
   "outputs": [],
   "source": [
    "#plt.style.use(['science'])\n",
    "%matplotlib inline\n",
    "sns.set_theme()\n",
    "#plt.style.use([])\n",
    "#plt.style.use(['science','ieee'])"
   ]
  },
  {
   "cell_type": "markdown",
   "id": "documented-pharmacology",
   "metadata": {},
   "source": [
    "Function that will be used to check that no \"na\" values appear:"
   ]
  },
  {
   "cell_type": "code",
   "execution_count": 4,
   "id": "bright-token",
   "metadata": {},
   "outputs": [],
   "source": [
    "def check_no_na(data):\n",
    "    if data.isna().sum().eq(0).all():\n",
    "        print(\"Success: No NA values found.\")\n",
    "        return\n",
    "    print(\"Warning: NA values found.\")"
   ]
  },
  {
   "cell_type": "markdown",
   "id": "ac88f0e4-6b00-4100-bd73-402337d5cef3",
   "metadata": {},
   "source": [
    "Function to build a joint plot:"
   ]
  },
  {
   "cell_type": "code",
   "execution_count": 5,
   "id": "f090c9af-f01b-487e-89c2-2733279ed6f7",
   "metadata": {},
   "outputs": [],
   "source": [
    "def plot_joint(y_pred, height=7, name=\"MODEL\"):\n",
    "    plot = sns.JointGrid(x=y_pred, y=y_test, height=height);\n",
    "    plot.plot_joint(sns.scatterplot, s=100, color='slateblue')\n",
    "    plot.plot_marginals(sns.kdeplot, color='slateblue', fill=True)\n",
    "\n",
    "    x_eq_y=np.arange(np.array(plt.axis()).min(), np.array(plt.axis()).max())\n",
    "\n",
    "    plot.ax_joint.plot(x_eq_y, x_eq_y, 'k', linewidth = 2, linestyle='--')\n",
    "    \n",
    "    plot.ax_joint.set_xlabel(\"y predicted\")\n",
    "    plot.ax_joint.set_ylabel(\"y target\")\n",
    "    plot.fig.suptitle(f\"target vs predicted Output for the {name} model\", y=1.01)\n",
    "    return plot"
   ]
  },
  {
   "cell_type": "markdown",
   "id": "weird-office",
   "metadata": {},
   "source": [
    "# Importing the dataset"
   ]
  },
  {
   "cell_type": "code",
   "execution_count": 6,
   "id": "decreased-bradford",
   "metadata": {
    "scrolled": true
   },
   "outputs": [
    {
     "data": {
      "text/html": [
       "<div>\n",
       "<style scoped>\n",
       "    .dataframe tbody tr th:only-of-type {\n",
       "        vertical-align: middle;\n",
       "    }\n",
       "\n",
       "    .dataframe tbody tr th {\n",
       "        vertical-align: top;\n",
       "    }\n",
       "\n",
       "    .dataframe thead th {\n",
       "        text-align: right;\n",
       "    }\n",
       "</style>\n",
       "<table border=\"1\" class=\"dataframe\">\n",
       "  <thead>\n",
       "    <tr style=\"text-align: right;\">\n",
       "      <th></th>\n",
       "      <th>Catalyst</th>\n",
       "      <th>Imine</th>\n",
       "      <th>Thiol</th>\n",
       "      <th>Output</th>\n",
       "    </tr>\n",
       "  </thead>\n",
       "  <tbody>\n",
       "    <tr>\n",
       "      <th>0</th>\n",
       "      <td>O=P1(O)OC2=C(C3=C(C4CCCCC4)C=C(C5CCCCC5)C=C3C6...</td>\n",
       "      <td>O=C(C1=CC=CC=C1)/N=C/C2=CC=C(Cl)C=C2Cl</td>\n",
       "      <td>SC1=CC=CC=C1C</td>\n",
       "      <td>3.134625</td>\n",
       "    </tr>\n",
       "    <tr>\n",
       "      <th>1</th>\n",
       "      <td>O=P1(O)OC2=C(C3=CC(C4=C(C)C=C(C)C=C4C)=CC(C5=C...</td>\n",
       "      <td>O=C(C1=CC=CC=C1)/N=C/C2=CC=C(OC)C=C2</td>\n",
       "      <td>SC1=CC=C(OC)C=C1</td>\n",
       "      <td>1.531803</td>\n",
       "    </tr>\n",
       "    <tr>\n",
       "      <th>2</th>\n",
       "      <td>O=P1(O)OC2=C(C3=CC=C(OC)C=C3)C=C4C(C=CC=C4)=C2...</td>\n",
       "      <td>O=C(C1=CC=CC=C1)/N=C/C2=CC=C(Cl)C=C2Cl</td>\n",
       "      <td>SC1=CC=CC=C1</td>\n",
       "      <td>1.074991</td>\n",
       "    </tr>\n",
       "    <tr>\n",
       "      <th>3</th>\n",
       "      <td>O=P1(O)OC2=[C@]([C@]3=C(Cl)C=C(Cl)C=C3Cl)C=C4C...</td>\n",
       "      <td>O=C(C1=CC=CC=C1)/N=C/C2=CC=C(OC)C=C2</td>\n",
       "      <td>SC1=CC=CC=C1C</td>\n",
       "      <td>1.334823</td>\n",
       "    </tr>\n",
       "    <tr>\n",
       "      <th>4</th>\n",
       "      <td>O=P1(O)OC2=C(C3=C(C=CC4=CC=CC(C=C5)=C46)C6=C5C...</td>\n",
       "      <td>O=C(C1=CC=CC=C1)/N=C/C2=CC=CC3=C2C=CC=C3</td>\n",
       "      <td>SC1=CC=CC=C1</td>\n",
       "      <td>1.743658</td>\n",
       "    </tr>\n",
       "  </tbody>\n",
       "</table>\n",
       "</div>"
      ],
      "text/plain": [
       "                                            Catalyst  \\\n",
       "0  O=P1(O)OC2=C(C3=C(C4CCCCC4)C=C(C5CCCCC5)C=C3C6...   \n",
       "1  O=P1(O)OC2=C(C3=CC(C4=C(C)C=C(C)C=C4C)=CC(C5=C...   \n",
       "2  O=P1(O)OC2=C(C3=CC=C(OC)C=C3)C=C4C(C=CC=C4)=C2...   \n",
       "3  O=P1(O)OC2=[C@]([C@]3=C(Cl)C=C(Cl)C=C3Cl)C=C4C...   \n",
       "4  O=P1(O)OC2=C(C3=C(C=CC4=CC=CC(C=C5)=C46)C6=C5C...   \n",
       "\n",
       "                                      Imine             Thiol    Output  \n",
       "0    O=C(C1=CC=CC=C1)/N=C/C2=CC=C(Cl)C=C2Cl     SC1=CC=CC=C1C  3.134625  \n",
       "1      O=C(C1=CC=CC=C1)/N=C/C2=CC=C(OC)C=C2  SC1=CC=C(OC)C=C1  1.531803  \n",
       "2    O=C(C1=CC=CC=C1)/N=C/C2=CC=C(Cl)C=C2Cl      SC1=CC=CC=C1  1.074991  \n",
       "3      O=C(C1=CC=CC=C1)/N=C/C2=CC=C(OC)C=C2     SC1=CC=CC=C1C  1.334823  \n",
       "4  O=C(C1=CC=CC=C1)/N=C/C2=CC=CC3=C2C=CC=C3      SC1=CC=CC=C1  1.743658  "
      ]
     },
     "execution_count": 6,
     "metadata": {},
     "output_type": "execute_result"
    }
   ],
   "source": [
    "df_raw=pd.read_excel(\"denmark.xlsx\")\n",
    "df_raw.head()"
   ]
  },
  {
   "cell_type": "markdown",
   "id": "broad-yahoo",
   "metadata": {},
   "source": [
    "# Looking at the data"
   ]
  },
  {
   "cell_type": "markdown",
   "id": "legendary-formation",
   "metadata": {},
   "source": [
    "### Target values"
   ]
  },
  {
   "cell_type": "markdown",
   "id": "popular-diabetes",
   "metadata": {},
   "source": [
    "First of all, it would be important to look at how output values are distributed:"
   ]
  },
  {
   "cell_type": "code",
   "execution_count": 7,
   "id": "essential-hands",
   "metadata": {},
   "outputs": [
    {
     "data": {
      "text/html": [
       "<div>\n",
       "<style scoped>\n",
       "    .dataframe tbody tr th:only-of-type {\n",
       "        vertical-align: middle;\n",
       "    }\n",
       "\n",
       "    .dataframe tbody tr th {\n",
       "        vertical-align: top;\n",
       "    }\n",
       "\n",
       "    .dataframe thead th {\n",
       "        text-align: right;\n",
       "    }\n",
       "</style>\n",
       "<table border=\"1\" class=\"dataframe\">\n",
       "  <thead>\n",
       "    <tr style=\"text-align: right;\">\n",
       "      <th></th>\n",
       "      <th>Output</th>\n",
       "    </tr>\n",
       "  </thead>\n",
       "  <tbody>\n",
       "    <tr>\n",
       "      <th>count</th>\n",
       "      <td>1075.000000</td>\n",
       "    </tr>\n",
       "    <tr>\n",
       "      <th>mean</th>\n",
       "      <td>0.987658</td>\n",
       "    </tr>\n",
       "    <tr>\n",
       "      <th>std</th>\n",
       "      <td>0.700524</td>\n",
       "    </tr>\n",
       "    <tr>\n",
       "      <th>min</th>\n",
       "      <td>-0.419378</td>\n",
       "    </tr>\n",
       "    <tr>\n",
       "      <th>25%</th>\n",
       "      <td>0.473820</td>\n",
       "    </tr>\n",
       "    <tr>\n",
       "      <th>50%</th>\n",
       "      <td>1.050757</td>\n",
       "    </tr>\n",
       "    <tr>\n",
       "      <th>75%</th>\n",
       "      <td>1.370104</td>\n",
       "    </tr>\n",
       "    <tr>\n",
       "      <th>max</th>\n",
       "      <td>3.134625</td>\n",
       "    </tr>\n",
       "  </tbody>\n",
       "</table>\n",
       "</div>"
      ],
      "text/plain": [
       "            Output\n",
       "count  1075.000000\n",
       "mean      0.987658\n",
       "std       0.700524\n",
       "min      -0.419378\n",
       "25%       0.473820\n",
       "50%       1.050757\n",
       "75%       1.370104\n",
       "max       3.134625"
      ]
     },
     "execution_count": 7,
     "metadata": {},
     "output_type": "execute_result"
    }
   ],
   "source": [
    "df_raw.describe()"
   ]
  },
  {
   "cell_type": "markdown",
   "id": "numerous-titanium",
   "metadata": {},
   "source": [
    "One could also look at the distribution of the target variable:"
   ]
  },
  {
   "cell_type": "code",
   "execution_count": 8,
   "id": "inner-norman",
   "metadata": {},
   "outputs": [
    {
     "data": {
      "image/png": "[encoded data removed]",
      "text/plain": [
       "<Figure size 1008x504 with 1 Axes>"
      ]
     },
     "metadata": {},
     "output_type": "display_data"
    }
   ],
   "source": [
    "sns.displot(x=df_raw[\"Output\"], bins=20, height=7, aspect=2)\n",
    "plt.title(\"Distribution of output values\")\n",
    "plt.xlabel(\"Ouput value\")\n",
    "plt.show()"
   ]
  },
  {
   "cell_type": "markdown",
   "id": "186a39b9-d5b8-4e42-8b17-2fcf376314b4",
   "metadata": {},
   "source": [
    "The target variable looks to be roughly in the same magnitude and has an approximate gaussian distribution (with a slight tail), which is a good sign as this means that no further transformation is required for it."
   ]
  },
  {
   "cell_type": "markdown",
   "id": "engaging-battle",
   "metadata": {},
   "source": [
    "### Features"
   ]
  },
  {
   "cell_type": "markdown",
   "id": "severe-queens",
   "metadata": {},
   "source": [
    "Are there any \"na\" values?"
   ]
  },
  {
   "cell_type": "code",
   "execution_count": 9,
   "id": "broad-snapshot",
   "metadata": {
    "scrolled": true
   },
   "outputs": [
    {
     "name": "stdout",
     "output_type": "stream",
     "text": [
      "Success: No NA values found.\n"
     ]
    }
   ],
   "source": [
    "check_no_na(df_raw)"
   ]
  },
  {
   "cell_type": "markdown",
   "id": "median-latter",
   "metadata": {},
   "source": [
    "How many different molecules are there?"
   ]
  },
  {
   "cell_type": "code",
   "execution_count": 10,
   "id": "amber-aquarium",
   "metadata": {},
   "outputs": [
    {
     "data": {
      "text/html": [
       "<div>\n",
       "<style scoped>\n",
       "    .dataframe tbody tr th:only-of-type {\n",
       "        vertical-align: middle;\n",
       "    }\n",
       "\n",
       "    .dataframe tbody tr th {\n",
       "        vertical-align: top;\n",
       "    }\n",
       "\n",
       "    .dataframe thead th {\n",
       "        text-align: right;\n",
       "    }\n",
       "</style>\n",
       "<table border=\"1\" class=\"dataframe\">\n",
       "  <thead>\n",
       "    <tr style=\"text-align: right;\">\n",
       "      <th></th>\n",
       "      <th>Unique Catalysts</th>\n",
       "      <th>Unique Imines</th>\n",
       "      <th>Unique Thiols</th>\n",
       "    </tr>\n",
       "  </thead>\n",
       "  <tbody>\n",
       "    <tr>\n",
       "      <th>0</th>\n",
       "      <td>43</td>\n",
       "      <td>5</td>\n",
       "      <td>5</td>\n",
       "    </tr>\n",
       "  </tbody>\n",
       "</table>\n",
       "</div>"
      ],
      "text/plain": [
       "   Unique Catalysts  Unique Imines  Unique Thiols\n",
       "0                43              5              5"
      ]
     },
     "execution_count": 10,
     "metadata": {},
     "output_type": "execute_result"
    }
   ],
   "source": [
    "unique_catalysts=df_raw[\"Catalyst\"].unique()\n",
    "unique_imines=df_raw[\"Imine\"].unique()\n",
    "unique_thiols=df_raw[\"Thiol\"].unique()\n",
    "pd.DataFrame({\"Unique Catalysts\": [unique_catalysts.shape[0]], \"Unique Imines\": [unique_imines.shape[0]], \"Unique Thiols\": [unique_thiols.shape[0]]})"
   ]
  },
  {
   "cell_type": "markdown",
   "id": "general-overall",
   "metadata": {},
   "source": [
    "Here, one could use One-hot encoding for the Imines and Thiols. This idea was discarded since in the case another Thiol or Imine is added, one would have to retrain the model instead of being able to fine-tune it. "
   ]
  },
  {
   "cell_type": "markdown",
   "id": "placed-movement",
   "metadata": {},
   "source": [
    "Show 3 random different Catalysts:"
   ]
  },
  {
   "cell_type": "code",
   "execution_count": 241,
   "id": "correct-generation",
   "metadata": {},
   "outputs": [
    {
     "data": {
      "image/png": "[encoded data removed]",
      "text/plain": [
       "<IPython.core.display.Image object>"
      ]
     },
     "execution_count": 241,
     "metadata": {},
     "output_type": "execute_result"
    }
   ],
   "source": [
    "mol_list=[]\n",
    "unique_molecules=df_raw[\"Catalyst\"].unique()\n",
    "for i in range(3):\n",
    "    index=np.random.randint(0, unique_molecules.shape[0])\n",
    "    mol_list.append(Chem.MolFromSmiles(unique_molecules[index]))\n",
    "    unique_molecules=np.delete(unique_molecules,index)\n",
    "Draw.MolsToGridImage(mol_list)"
   ]
  },
  {
   "cell_type": "markdown",
   "id": "banner-edmonton",
   "metadata": {},
   "source": [
    "Show 3 random different Imine:"
   ]
  },
  {
   "cell_type": "code",
   "execution_count": 244,
   "id": "athletic-washington",
   "metadata": {},
   "outputs": [
    {
     "data": {
      "image/png": "[encoded data removed]",
      "text/plain": [
       "<IPython.core.display.Image object>"
      ]
     },
     "execution_count": 244,
     "metadata": {},
     "output_type": "execute_result"
    }
   ],
   "source": [
    "mol_list=[]\n",
    "unique_molecules=df_raw[\"Imine\"].unique()\n",
    "for i in range(3):\n",
    "    index=np.random.randint(0, unique_molecules.shape[0])\n",
    "    mol_list.append(Chem.MolFromSmiles(unique_molecules[index]))\n",
    "    unique_molecules=np.delete(unique_molecules,index)\n",
    "Draw.MolsToGridImage(mol_list)"
   ]
  },
  {
   "cell_type": "markdown",
   "id": "animated-weapon",
   "metadata": {},
   "source": [
    "Show 3 random different Thiol:"
   ]
  },
  {
   "cell_type": "code",
   "execution_count": 247,
   "id": "republican-business",
   "metadata": {},
   "outputs": [
    {
     "data": {
      "image/png": "[encoded data removed]",
      "text/plain": [
       "<IPython.core.display.Image object>"
      ]
     },
     "execution_count": 247,
     "metadata": {},
     "output_type": "execute_result"
    }
   ],
   "source": [
    "mol_list=[]\n",
    "unique_molecules=df_raw[\"Thiol\"].unique()\n",
    "for i in range(3):\n",
    "    index=np.random.randint(0, unique_molecules.shape[0])\n",
    "    mol_list.append(Chem.MolFromSmiles(unique_molecules[index]))\n",
    "    unique_molecules=np.delete(unique_molecules, index)\n",
    "Draw.MolsToGridImage(mol_list)"
   ]
  },
  {
   "cell_type": "markdown",
   "id": "common-finish",
   "metadata": {},
   "source": [
    "# Preprocessing"
   ]
  },
  {
   "cell_type": "markdown",
   "id": "thorough-switch",
   "metadata": {},
   "source": [
    "### Creating RDKit molecules"
   ]
  },
  {
   "cell_type": "markdown",
   "id": "after-germany",
   "metadata": {},
   "source": [
    "Translating the \"Catalyst\", the \"Imine\" and the \"Thiol\" columns from SMILES to a RDKit molecule:"
   ]
  },
  {
   "cell_type": "code",
   "execution_count": 14,
   "id": "confidential-teach",
   "metadata": {},
   "outputs": [
    {
     "data": {
      "text/html": [
       "<div>\n",
       "<style scoped>\n",
       "    .dataframe tbody tr th:only-of-type {\n",
       "        vertical-align: middle;\n",
       "    }\n",
       "\n",
       "    .dataframe tbody tr th {\n",
       "        vertical-align: top;\n",
       "    }\n",
       "\n",
       "    .dataframe thead th {\n",
       "        text-align: right;\n",
       "    }\n",
       "</style>\n",
       "<table border=\"1\" class=\"dataframe\">\n",
       "  <thead>\n",
       "    <tr style=\"text-align: right;\">\n",
       "      <th></th>\n",
       "      <th>Catalyst</th>\n",
       "      <th>Imine</th>\n",
       "      <th>Thiol</th>\n",
       "    </tr>\n",
       "  </thead>\n",
       "  <tbody>\n",
       "    <tr>\n",
       "      <th>0</th>\n",
       "      <td>&lt;rdkit.Chem.rdchem.Mol object at 0x7f72c1138df0&gt;</td>\n",
       "      <td>&lt;rdkit.Chem.rdchem.Mol object at 0x7f72c92ad170&gt;</td>\n",
       "      <td>&lt;rdkit.Chem.rdchem.Mol object at 0x7f72c11507b0&gt;</td>\n",
       "    </tr>\n",
       "    <tr>\n",
       "      <th>1</th>\n",
       "      <td>&lt;rdkit.Chem.rdchem.Mol object at 0x7f72c1138b70&gt;</td>\n",
       "      <td>&lt;rdkit.Chem.rdchem.Mol object at 0x7f72c1138b20&gt;</td>\n",
       "      <td>&lt;rdkit.Chem.rdchem.Mol object at 0x7f72c1150710&gt;</td>\n",
       "    </tr>\n",
       "    <tr>\n",
       "      <th>2</th>\n",
       "      <td>&lt;rdkit.Chem.rdchem.Mol object at 0x7f72c1138e40&gt;</td>\n",
       "      <td>&lt;rdkit.Chem.rdchem.Mol object at 0x7f72c1138c60&gt;</td>\n",
       "      <td>&lt;rdkit.Chem.rdchem.Mol object at 0x7f72c1165e90&gt;</td>\n",
       "    </tr>\n",
       "    <tr>\n",
       "      <th>3</th>\n",
       "      <td>&lt;rdkit.Chem.rdchem.Mol object at 0x7f72c1138e90&gt;</td>\n",
       "      <td>&lt;rdkit.Chem.rdchem.Mol object at 0x7f72c11506c0&gt;</td>\n",
       "      <td>&lt;rdkit.Chem.rdchem.Mol object at 0x7f72c1165e40&gt;</td>\n",
       "    </tr>\n",
       "    <tr>\n",
       "      <th>4</th>\n",
       "      <td>&lt;rdkit.Chem.rdchem.Mol object at 0x7f72c1138ee0&gt;</td>\n",
       "      <td>&lt;rdkit.Chem.rdchem.Mol object at 0x7f72c1150670&gt;</td>\n",
       "      <td>&lt;rdkit.Chem.rdchem.Mol object at 0x7f72c1165df0&gt;</td>\n",
       "    </tr>\n",
       "  </tbody>\n",
       "</table>\n",
       "</div>"
      ],
      "text/plain": [
       "                                           Catalyst  \\\n",
       "0  <rdkit.Chem.rdchem.Mol object at 0x7f72c1138df0>   \n",
       "1  <rdkit.Chem.rdchem.Mol object at 0x7f72c1138b70>   \n",
       "2  <rdkit.Chem.rdchem.Mol object at 0x7f72c1138e40>   \n",
       "3  <rdkit.Chem.rdchem.Mol object at 0x7f72c1138e90>   \n",
       "4  <rdkit.Chem.rdchem.Mol object at 0x7f72c1138ee0>   \n",
       "\n",
       "                                              Imine  \\\n",
       "0  <rdkit.Chem.rdchem.Mol object at 0x7f72c92ad170>   \n",
       "1  <rdkit.Chem.rdchem.Mol object at 0x7f72c1138b20>   \n",
       "2  <rdkit.Chem.rdchem.Mol object at 0x7f72c1138c60>   \n",
       "3  <rdkit.Chem.rdchem.Mol object at 0x7f72c11506c0>   \n",
       "4  <rdkit.Chem.rdchem.Mol object at 0x7f72c1150670>   \n",
       "\n",
       "                                              Thiol  \n",
       "0  <rdkit.Chem.rdchem.Mol object at 0x7f72c11507b0>  \n",
       "1  <rdkit.Chem.rdchem.Mol object at 0x7f72c1150710>  \n",
       "2  <rdkit.Chem.rdchem.Mol object at 0x7f72c1165e90>  \n",
       "3  <rdkit.Chem.rdchem.Mol object at 0x7f72c1165e40>  \n",
       "4  <rdkit.Chem.rdchem.Mol object at 0x7f72c1165df0>  "
      ]
     },
     "execution_count": 14,
     "metadata": {},
     "output_type": "execute_result"
    }
   ],
   "source": [
    "df_X=df_raw[[\"Catalyst\", \"Imine\", \"Thiol\"]].applymap(Chem.MolFromSmiles)\n",
    "df_y=df_raw[\"Output\"]\n",
    "df_X.head()"
   ]
  },
  {
   "cell_type": "markdown",
   "id": "black-hartford",
   "metadata": {},
   "source": [
    "Verifying that all the smiles transfered successfuly. The RDKit documentaton states:\n",
    "\n",
    ">or None on failure:\n",
    ">\n",
    ">> ```m = Chem.MolFromMolFile('data/invalid.mol')```\n",
    ">>\n",
    ">> ```m is None```\n",
    ">\n",
    ">True\n",
    "\n",
    "So the \"na\" instances are counted and should be 0 if no problems were encountered:"
   ]
  },
  {
   "cell_type": "code",
   "execution_count": 15,
   "id": "nominated-impact",
   "metadata": {},
   "outputs": [
    {
     "name": "stdout",
     "output_type": "stream",
     "text": [
      "Success: No NA values found.\n"
     ]
    }
   ],
   "source": [
    "check_no_na(df_X)"
   ]
  },
  {
   "cell_type": "markdown",
   "id": "e2d69f38-6b98-400e-84d2-e9000d91b498",
   "metadata": {},
   "source": [
    "The train/test ratio was chosen arbitrarily. This could eventually be added as a hyperparameter to find an optimum as has been done [here](https://www.sciencedirect.com/science/article/pii/S2451929420300851). "
   ]
  },
  {
   "cell_type": "code",
   "execution_count": 16,
   "id": "assumed-server",
   "metadata": {},
   "outputs": [],
   "source": [
    "X_train, X_test, y_train, y_test=train_test_split(df_X.to_numpy(), df_y.to_numpy(), train_size=0.75)"
   ]
  },
  {
   "cell_type": "markdown",
   "id": "preceding-order",
   "metadata": {},
   "source": [
    "For later on, Morgan fingerprints will be used. In order to try and search for the best parameters for these molecules, the atom radius and the number of bits used will be searched using grid search."
   ]
  },
  {
   "cell_type": "markdown",
   "id": "90867f01-4819-45e1-bdc6-c922c1b39fcb",
   "metadata": {},
   "source": [
    "Late addition. This will take out the morgan fingerprints parameters from the models if the (until now) found hyperparameters are not too "
   ]
  },
  {
   "cell_type": "markdown",
   "id": "e4a57c6d-9af2-4c09-b421-ac913c575d89",
   "metadata": {
    "tags": []
   },
   "source": [
    "### Pipeline"
   ]
  },
  {
   "cell_type": "markdown",
   "id": "7b9737af-e5e1-450f-b3be-15c99dceede4",
   "metadata": {},
   "source": [
    "Here, in order to later use SKlearn's ```CVGridSearch```, a custom pipeline will be built in order to be able to find the ideal hyperparameters. First step: creating a custom transformer to be used in the pipeline, in order to use RDKit's ```GetMorganFingerprint```'s parameters as hyperparameters for the model."
   ]
  },
  {
   "cell_type": "markdown",
   "id": "e460227b-0fe2-40e3-9525-4c0bb3c4d5d5",
   "metadata": {},
   "source": [
    "ridge_search.best_estimator_A similar pipeline template will be used for later trials, using the same functions. Although it is intuitive to assume that the same fingerprint parameters should be used for every model, the ```n_bits``` and the ```n_atom``` hyperparameters should be computed in order to verify that this hypothesis holds for different models."
   ]
  },
  {
   "cell_type": "markdown",
   "id": "73fe9c01-6852-4621-b822-7ebaaa6a69cd",
   "metadata": {},
   "source": [
    "Personal note: As this is the first time I work with molecules, my first thought was to build a simple ridge regressor and try to give it a morgan fingerprint as input. This is probably not viable since the number of parameters used is too great. Later on, the idea would be to add descriptors into the features, potentially using TF's functional API."
   ]
  },
  {
   "cell_type": "code",
   "execution_count": 17,
   "id": "d9488e89-c6c3-44f2-a2c9-46ea0d3ddffe",
   "metadata": {},
   "outputs": [],
   "source": [
    "def morgan_fp(X, n_bits, n_atom):\n",
    "    \"\"\"Returns numpy array with bits from morgan fingerprint\"\"\"\n",
    "    fp=AllChem.GetMorganFingerprintAsBitVect(X,int(n_atom), nBits=int(n_bits))\n",
    "    arr = np.zeros((0,), dtype=np.int8)\n",
    "    DataStructs.ConvertToNumpyArray(fp,arr)\n",
    "    return arr\n",
    "\n",
    "class fingerprinter(BaseEstimator, TransformerMixin):\n",
    "    def __init__(self, n_bits=1024, n_atom=2):\n",
    "        self.n_bits = n_bits # int necessary, otherwise rdkit c++ library doesn't play along\n",
    "        self.n_atom = n_atom\n",
    "    def fit(self, X, y=None):\n",
    "        return self\n",
    "    def transform(self, X):\n",
    "        \n",
    "        new_X=np.array([])\n",
    "        for row in X:\n",
    "            new_row=np.array([])\n",
    "            for element in row:\n",
    "                fp=morgan_fp(element, self.n_bits, self.n_atom)\n",
    "                new_row=np.append(new_row, fp, 0)\n",
    "            #new_row=new_row.reshape((df_X.shape[1],-1))\n",
    "            new_X=np.append(new_X, new_row)\n",
    "            new_X=new_X.reshape([-1, new_row.shape[0]])\n",
    "        return new_X\n",
    "#fingerprinter([2,3,4][0], np.linspace(1000, 5000, 10, dtype=int)[0]).transform(X_train)"
   ]
  },
  {
   "cell_type": "markdown",
   "id": "13ef9e7c-eb6a-48a9-b6d7-46a87346f448",
   "metadata": {},
   "source": [
    "Now, the first pipeline can be created:"
   ]
  },
  {
   "cell_type": "code",
   "execution_count": 18,
   "id": "43773639-5971-4559-b62f-75757d9f7ebe",
   "metadata": {},
   "outputs": [],
   "source": [
    "pipe = Pipeline([( \"fingerprinter\" , fingerprinter()),\n",
    "                       (\"ridge\",Ridge())])"
   ]
  },
  {
   "cell_type": "markdown",
   "id": "0471b827-df6f-410a-bdcc-d6ed6d9dce26",
   "metadata": {},
   "source": [
    "Parameter grid, to be fed into the grid search algorithm to find the optimal hyperparameters using cross-validation in order to reduce any biais that could be introduced by the shuffling."
   ]
  },
  {
   "cell_type": "code",
   "execution_count": 19,
   "id": "f01a69be-22f0-4b18-9561-37edecd38028",
   "metadata": {},
   "outputs": [
    {
     "data": {
      "text/plain": [
       "{'fingerprinter__n_bits': array([1500, 1666, 1833, 2000, 2166, 2333, 2500, 2666, 2833, 3000]),\n",
       " 'fingerprinter__n_atom': array([2, 3, 4]),\n",
       " 'ridge__alpha': array([1.00000000e-03, 4.64158883e-03, 2.15443469e-02, 1.00000000e-01,\n",
       "        4.64158883e-01, 2.15443469e+00, 1.00000000e+01, 4.64158883e+01,\n",
       "        2.15443469e+02, 1.00000000e+03])}"
      ]
     },
     "execution_count": 19,
     "metadata": {},
     "output_type": "execute_result"
    }
   ],
   "source": [
    "#param_grid={\"fingerprinter__n_bits\":np.logspace(3, 4, 10, dtype=int), \"fingerprinter__n_atom\":np.arange(1, 4, 1), \"ridge__alpha\":np.logspace(0, 2, 4)}\n",
    "#param_grid={\"fingerprinter__n_bits\": np.linspace(1000, 5000, 10, dtype=int), \"fingerprinter__n_atom\":np.array([2, 3, 4]), \"ridge__alpha\":np.logspace(-3, 1, 5)}\n",
    "param_grid={\"fingerprinter__n_bits\": np.linspace(1500, 3000, 10, dtype=int), \"fingerprinter__n_atom\":np.array([2,3,4]), \"ridge__alpha\":np.logspace(-3, 3, 10)}\n",
    "param_grid"
   ]
  },
  {
   "cell_type": "markdown",
   "id": "7c09e7a0-8454-4316-8152-1f0f49062b0c",
   "metadata": {},
   "source": [
    "The train/test ratio was chosen arbitrarily. This could eventually be added as a hyperparameter to find an optimum as has been done [here](https://www.sciencedirect.com/science/article/pii/S2451929420300851). "
   ]
  },
  {
   "cell_type": "code",
   "execution_count": 20,
   "id": "a448a0a1-9e0c-468c-b295-636e2afd9bb5",
   "metadata": {},
   "outputs": [],
   "source": [
    "X_train, X_test, y_train, y_test=train_test_split(df_X.to_numpy(), df_y.to_numpy(), train_size=0.75)"
   ]
  },
  {
   "cell_type": "markdown",
   "id": "1ca61eca-7760-4d48-a60f-064fcd94cfe6",
   "metadata": {},
   "source": [
    "The default cross-validation of 5-fold were chosen, as the available computational power is relatively low."
   ]
  },
  {
   "cell_type": "markdown",
   "id": "pending-dubai",
   "metadata": {
    "tags": []
   },
   "source": [
    "# Ridge regression"
   ]
  },
  {
   "cell_type": "markdown",
   "id": "2d939d86-13e6-485e-8f0b-87e501feaa5f",
   "metadata": {},
   "source": [
    "Ridge was chosen instead of linear regression in order to avoid overfitting the model. A linear regression with only the morgan fingerprint parameters to optimize with ```GridSearchCV``` could be considered, removing the need to optimize for morgan fingerprints. Nevertheless, This would be a good addition for the future. One detail that could cause problems is that a bigger fingerprint will be prefered, with only marginally better results but a significantly worse performance."
   ]
  },
  {
   "cell_type": "markdown",
   "id": "dcfa3ca5-1055-48f5-aa17-bc4db13afbe9",
   "metadata": {
    "tags": []
   },
   "source": [
    "### Pipeline"
   ]
  },
  {
   "cell_type": "markdown",
   "id": "preceding-forward",
   "metadata": {},
   "source": [
    "Here, in order to later use SKlearn's ```CVGridSearch```, a custom pipeline will be built in order to be able to find the ideal hyperparameters. First step: creating a custom transformer to be used in the pipeline, in order to use RDKit's ```GetMorganFingerprint```'s parameters as hyperparameters for the model."
   ]
  },
  {
   "cell_type": "markdown",
   "id": "06e1517f-d256-4625-86c4-33fa933e3655",
   "metadata": {},
   "source": [
    "ridge_search.best_estimator_A similar pipeline template will be used for later trials, using the same functions. Although it is intuitive to assume that the same fingerprint parameters should be used for every model, the ```n_bits``` and the ```n_atom``` hyperparameters should be computed in order to verify that this hypothesis holds for different models."
   ]
  },
  {
   "cell_type": "markdown",
   "id": "d8b5cb9b-1410-40e9-add2-3f5af3d4afc2",
   "metadata": {},
   "source": [
    "Personal note: As this is the first time I work with molecules, my first thought was to build a simple ridge regressor and try to give it a morgan fingerprint as input. This is probably not viable since the number of parameters used is too great. Later on, the idea would be to add descriptors into the features, potentially using TF's functional API."
   ]
  },
  {
   "cell_type": "code",
   "execution_count": 22,
   "id": "disturbed-opening",
   "metadata": {},
   "outputs": [],
   "source": [
    "def morgan_fp(X, n_bits, n_atom):\n",
    "    \"\"\"Returns numpy array with bits from morgan fingerprint\"\"\"\n",
    "    fp=AllChem.GetMorganFingerprintAsBitVect(X,int(n_atom), nBits=int(n_bits))\n",
    "    arr = np.zeros((0,), dtype=np.int8)\n",
    "    DataStructs.ConvertToNumpyArray(fp,arr)\n",
    "    return arr\n",
    "\n",
    "class fingerprinter(BaseEstimator, TransformerMixin):\n",
    "    def __init__(self, n_bits=1024, n_atom=2):\n",
    "        self.n_bits = n_bits # int necessary, otherwise rdkit c++ library doesn't play along\n",
    "        self.n_atom = n_atom\n",
    "    def fit(self, X, y=None):\n",
    "        return self\n",
    "    def transform(self, X):\n",
    "        \n",
    "        new_X=np.array([])\n",
    "        for row in X:\n",
    "            new_row=np.array([])\n",
    "            for element in row:\n",
    "                fp=morgan_fp(element, self.n_bits, self.n_atom)\n",
    "                new_row=np.append(new_row, fp, 0)\n",
    "            #new_row=new_row.reshape((df_X.shape[1],-1))\n",
    "            new_X=np.append(new_X, new_row)\n",
    "            new_X=new_X.reshape([-1, new_row.shape[0]])\n",
    "        return new_X\n",
    "#fingerprinter([2,3,4][0], np.linspace(1000, 5000, 10, dtype=int)[0]).transform(X_train)"
   ]
  },
  {
   "cell_type": "markdown",
   "id": "headed-contemporary",
   "metadata": {},
   "source": [
    "Now, the first pipeline can be created:"
   ]
  },
  {
   "cell_type": "code",
   "execution_count": 23,
   "id": "unexpected-collective",
   "metadata": {},
   "outputs": [],
   "source": [
    "pipe = Pipeline([( \"fingerprinter\" , fingerprinter()),\n",
    "                       (\"ridge\",Ridge())])"
   ]
  },
  {
   "cell_type": "markdown",
   "id": "e14eee80-0a3f-44f6-899c-ea5834c6dea5",
   "metadata": {},
   "source": [
    "Parameter grid, to be fed into the grid search algorithm to find the optimal hyperparameters using cross-validation in order to reduce any biais that could be introduced by the shuffling."
   ]
  },
  {
   "cell_type": "code",
   "execution_count": 24,
   "id": "focused-centre",
   "metadata": {},
   "outputs": [
    {
     "data": {
      "text/plain": [
       "{'fingerprinter__n_bits': array([1500, 1666, 1833, 2000, 2166, 2333, 2500, 2666, 2833, 3000]),\n",
       " 'fingerprinter__n_atom': array([2, 3, 4]),\n",
       " 'ridge__alpha': array([1.00000000e-03, 4.64158883e-03, 2.15443469e-02, 1.00000000e-01,\n",
       "        4.64158883e-01, 2.15443469e+00, 1.00000000e+01, 4.64158883e+01,\n",
       "        2.15443469e+02, 1.00000000e+03])}"
      ]
     },
     "execution_count": 24,
     "metadata": {},
     "output_type": "execute_result"
    }
   ],
   "source": [
    "#param_grid={\"fingerprinter__n_bits\":np.logspace(3, 4, 10, dtype=int), \"fingerprinter__n_atom\":np.arange(1, 4, 1), \"ridge__alpha\":np.logspace(0, 2, 4)}\n",
    "#param_grid={\"fingerprinter__n_bits\": np.linspace(1000, 5000, 10, dtype=int), \"fingerprinter__n_atom\":np.array([2, 3, 4]), \"ridge__alpha\":np.logspace(-3, 1, 5)}\n",
    "param_grid={\"fingerprinter__n_bits\": np.linspace(1500, 3000, 10, dtype=int), \"fingerprinter__n_atom\":np.array([2,3,4]), \"ridge__alpha\":np.logspace(-3, 3, 10)}\n",
    "param_grid"
   ]
  },
  {
   "cell_type": "markdown",
   "id": "000a9521-0a86-4c88-9747-3af5a2b810fb",
   "metadata": {},
   "source": [
    "The default cross-validation of 5-fold were chosen, as the available computational power is relatively low."
   ]
  },
  {
   "cell_type": "markdown",
   "id": "c563a2cf-853a-4c1c-a682-3338c453640d",
   "metadata": {},
   "source": [
    "### Fitting"
   ]
  },
  {
   "cell_type": "code",
   "execution_count": 25,
   "id": "rental-timing",
   "metadata": {
    "tags": []
   },
   "outputs": [
    {
     "name": "stdout",
     "output_type": "stream",
     "text": [
      "Fitting 5 folds for each of 300 candidates, totalling 1500 fits\n",
      "--- 1674.523609161377 seconds ---\n"
     ]
    }
   ],
   "source": [
    "ridge_search = GridSearchCV(pipe, param_grid, n_jobs=-1, verbose=3)\n",
    "\n",
    "ridge_search.fit(X_train, y_train)\n"
   ]
  },
  {
   "cell_type": "code",
   "execution_count": 231,
   "id": "ceafc059-0708-4c80-9a81-7226a43218de",
   "metadata": {},
   "outputs": [
    {
     "name": "stdout",
     "output_type": "stream",
     "text": [
      " Results from Grid Search \n",
      "\n",
      " The best estimator:\n",
      " Pipeline(steps=[('fingerprinter', fingerprinter(n_bits=1666)),\n",
      "                ('ridge', Ridge(alpha=10.0))])\n",
      "\n",
      " The best mean TRAIN score (R^2):\n",
      " 0.8388925147589729\n",
      "\n",
      " The best STD of TRAIN score (R^2):\n",
      " 0.016831471665377167\n",
      "\n",
      " The TEST MAE of the best estimator:\n",
      " 0.18485517302609014\n",
      "\n",
      " The TEST MSE of the best estimator:\n",
      " 0.2530592876828841\n",
      "\n",
      " The best parameters:\n",
      " {'fingerprinter__n_atom': 2, 'fingerprinter__n_bits': 1666, 'ridge__alpha': 10.0}\n"
     ]
    }
   ],
   "source": [
    "print(\" Results from Grid Search \" )\n",
    "print(\"\\n The best estimator:\\n\",ridge_search.best_estimator_)\n",
    "print(\"\\n The best mean TRAIN score (R^2):\\n\",ridge_search.cv_results_[\"mean_test_score\"].mean())\n",
    "print(\"\\n The best STD of TRAIN score (R^2):\\n\",ridge_search.cv_results_[\"std_test_score\"].mean())\n",
    "print(\"\\n The TEST MAE of the best estimator:\\n\",mean_absolute_error(ridge_search.best_estimator_.predict(X_test), y_test))\n",
    "print(\"\\n The TEST RMSE of the best estimator:\\n\",mean_squared_error(ridge_search.best_estimator_.predict(X_test), y_test, squared=False))\n",
    "print(\"\\n The best parameters:\\n\",ridge_search.best_params_)"
   ]
  },
  {
   "cell_type": "code",
   "execution_count": 27,
   "id": "05df0ab5-9ea7-4985-8fdd-9365ae40d1fe",
   "metadata": {},
   "outputs": [
    {
     "data": {
      "text/plain": [
       "{'fingerprinter__n_atom': 2,\n",
       " 'fingerprinter__n_bits': 1666,\n",
       " 'ridge__alpha': 10.0}"
      ]
     },
     "execution_count": 27,
     "metadata": {},
     "output_type": "execute_result"
    }
   ],
   "source": [
    "ridge_search.best_params_"
   ]
  },
  {
   "cell_type": "markdown",
   "id": "bbbd4d8a-65f5-4d44-827c-6417dd40dcf5",
   "metadata": {},
   "source": [
    "Looking at the relative distributions of the predicted output vs the target output: "
   ]
  },
  {
   "cell_type": "code",
   "execution_count": 28,
   "id": "ecea6d08-1930-41cb-a5b4-4434b0921cf7",
   "metadata": {},
   "outputs": [
    {
     "data": {
      "image/png": "[encoded data removed]",
      "text/plain": [
       "<Figure size 504x504 with 3 Axes>"
      ]
     },
     "metadata": {},
     "output_type": "display_data"
    }
   ],
   "source": [
    "plot_joint(ridge_search.best_estimator_.predict(X_test), name=\"Ridge\");"
   ]
  },
  {
   "cell_type": "markdown",
   "id": "cc74e168-1fe6-4274-a583-d17a22758c49",
   "metadata": {},
   "source": [
    "In order to streamline the process, the fingerprint with the parameters as found above before will be used:"
   ]
  },
  {
   "cell_type": "code",
   "execution_count": 273,
   "id": "719f0be5-0108-4804-84b7-70c15e393084",
   "metadata": {},
   "outputs": [],
   "source": [
    "f=lambda x: fingerprinter(n_bits=ridge_search.best_params_[\"fingerprinter__n_bits\"], n_atom=ridge_search.best_params_[\"fingerprinter__n_atom\"]).transform(x)\n",
    "X_train_fp, X_test_fp=f(X_train), f(X_test)"
   ]
  },
  {
   "cell_type": "code",
   "execution_count": 30,
   "id": "2c643f02-c7b7-405a-839e-f531cbe25e68",
   "metadata": {},
   "outputs": [
    {
     "data": {
      "text/plain": [
       "(269, 4998)"
      ]
     },
     "execution_count": 30,
     "metadata": {},
     "output_type": "execute_result"
    }
   ],
   "source": [
    "X_test_fp.shape"
   ]
  },
  {
   "cell_type": "markdown",
   "id": "305238f7-41c6-48a9-b7a9-11909a44df6f",
   "metadata": {},
   "source": [
    "# Random Forest Regression"
   ]
  },
  {
   "cell_type": "markdown",
   "id": "1f159bf2-5c32-4a7f-b072-4f16dfccc2cc",
   "metadata": {},
   "source": [
    "Same as before, this time with a random forest regressor. Because of the limited computational power, only the n_estimators will be considered along with XXXXXXX, the morgan fingerprints marameters will not be changed as it is suspected that they would probably only get bigger as stated before. The fingerprint parameters are optimized again because of the fear that the ridge regressor punished bigger fingerprints (more added weights, even small, can be punished. Note the big alpha parameter):"
   ]
  },
  {
   "cell_type": "markdown",
   "id": "4baf7a9d-8cba-4f4b-8e5f-302fe6887550",
   "metadata": {},
   "source": [
    "### Pipeline"
   ]
  },
  {
   "cell_type": "code",
   "execution_count": 31,
   "id": "18def783-516c-4788-a0f5-eba65518a1be",
   "metadata": {},
   "outputs": [],
   "source": [
    "pipe = Pipeline([(\"forest\",RandomForestRegressor())])"
   ]
  },
  {
   "cell_type": "markdown",
   "id": "8b8ea931-b0b2-421e-8d3c-f86e330d8ad5",
   "metadata": {},
   "source": [
    "The number of tested parameters have been significantly reduced (Lack of computational power)"
   ]
  },
  {
   "cell_type": "code",
   "execution_count": 32,
   "id": "99abfb60-bfe4-47f5-a28a-f2a78eeec5fb",
   "metadata": {},
   "outputs": [
    {
     "data": {
      "text/plain": [
       "{'forest__max_depth': array([  50,  153,  257,  360,  464,  567,  671,  775,  878,  982, 1085,\n",
       "        1189, 1292, 1396, 1500])}"
      ]
     },
     "execution_count": 32,
     "metadata": {},
     "output_type": "execute_result"
    }
   ],
   "source": [
    "param_grid={\"forest__max_depth\": np.linspace(50, 1500, 15,  dtype=int)}\n",
    "param_grid"
   ]
  },
  {
   "cell_type": "markdown",
   "id": "25d0e96b-302c-4bb4-bb04-84a22991c33d",
   "metadata": {},
   "source": [
    "### Fitting"
   ]
  },
  {
   "cell_type": "code",
   "execution_count": null,
   "id": "052638e3-6b94-4c0e-9461-40532f3e4973",
   "metadata": {},
   "outputs": [
    {
     "name": "stdout",
     "output_type": "stream",
     "text": [
      "Fitting 5 folds for each of 15 candidates, totalling 75 fits\n",
      "--- 54.103111267089844 seconds ---\n"
     ]
    }
   ],
   "source": [
    "forest_search = GridSearchCV(pipe, param_grid, n_jobs=-1, verbose=3)\n",
    "\n",
    "forest_search.fit(X_train_fp, y_train)\n"
   ]
  },
  {
   "cell_type": "code",
   "execution_count": 302,
   "id": "2a1d9523-bc8a-4407-a1dd-acb27bd9dc91",
   "metadata": {},
   "outputs": [
    {
     "name": "stdout",
     "output_type": "stream",
     "text": [
      " Results from Grid Search \n",
      "\n",
      " The best estimator:\n",
      " Pipeline(steps=[('forest', RandomForestRegressor(max_depth=982))])\n",
      "\n",
      " The best mean TRAIN score (R^2):\n",
      " 0.9022393716477305\n",
      "\n",
      " The best STD of TRAIN score (R^2):\n",
      " 0.013991828519526042\n",
      "\n",
      " The TEST MAE of the best estimator:\n",
      " 0.132209648672342\n",
      "\n",
      " The TEST RMSE of the best estimator:\n",
      " 0.1991924323719913\n",
      "\n",
      " The best parameters:\n",
      " {'forest__max_depth': 982}\n"
     ]
    }
   ],
   "source": [
    "print(\" Results from Grid Search \" )\n",
    "print(\"\\n The best estimator:\\n\",forest_search.best_estimator_)\n",
    "print(\"\\n The best mean TRAIN score (R^2):\\n\",forest_search.cv_results_[\"mean_test_score\"].mean())\n",
    "print(\"\\n The best STD of TRAIN score (R^2):\\n\",forest_search.cv_results_[\"std_test_score\"].mean())\n",
    "print(\"\\n The TEST MAE of the best estimator:\\n\",mean_absolute_error(forest_search.best_estimator_.predict(X_test_fp), y_test))\n",
    "print(\"\\n The TEST RMSE of the best estimator:\\n\",mean_squared_error(forest_search.best_estimator_.predict(X_test_fp), y_test, squared=False))\n",
    "print(\"\\n The best parameters:\\n\",forest_search.best_params_)"
   ]
  },
  {
   "cell_type": "code",
   "execution_count": null,
   "id": "facf9ca8-8a55-49f8-9b6e-8de9b81f0f7e",
   "metadata": {},
   "outputs": [
    {
     "data": {
      "text/plain": [
       "{'forest__max_depth': 982}"
      ]
     },
     "execution_count": 36,
     "metadata": {},
     "output_type": "execute_result"
    }
   ],
   "source": [
    "forest_search.best_params_"
   ]
  },
  {
   "cell_type": "code",
   "execution_count": 263,
   "id": "54d449c7-eb9e-45b1-9a78-e59f90c92864",
   "metadata": {},
   "outputs": [
    {
     "data": {
      "image/png": "[encoded data removed]",
      "text/plain": [
       "<Figure size 504x504 with 3 Axes>"
      ]
     },
     "metadata": {},
     "output_type": "display_data"
    }
   ],
   "source": [
    "plot_joint(forest_search.best_estimator_.predict(X_test_fp), name=f\"Random forest (max_depth: {forest_search.best_params_['forest__max_depth']})\");"
   ]
  },
  {
   "cell_type": "markdown",
   "id": "c86d4ff4-0af3-4cf3-acfc-e8218c09dec7",
   "metadata": {},
   "source": [
    "# Neural network"
   ]
  },
  {
   "cell_type": "markdown",
   "id": "f716e6f9-623f-4ce0-a6de-4ff58af84110",
   "metadata": {},
   "source": [
    "### Pipeline"
   ]
  },
  {
   "cell_type": "markdown",
   "id": "5f8c6a48-9b9e-4198-ab41-9824c2084fba",
   "metadata": {},
   "source": [
    "Here, the number of layers  will be fixed and the focus will be on the dropout rate and the number of perceptrons per layer. This was done because of the limited computational power and the architecture of the model should definitively be studied in more details:"
   ]
  },
  {
   "cell_type": "code",
   "execution_count": 209,
   "id": "eec32216-2386-42ee-bff8-289d7348b707",
   "metadata": {},
   "outputs": [],
   "source": [
    "def create_model(optimizer='Adam',\n",
    "                 dropout=0.2, n_perceptrons=64, summary=True):\n",
    "    inputs = keras.Input(shape=(ridge_search.best_params_[\"fingerprinter__n_bits\"]*3,))\n",
    "    \n",
    "    dense = layers.Dense(n_perceptrons, activation=\"relu\")\n",
    "    x1 = dense(inputs)\n",
    "    \n",
    "    dropout1 = Dropout(dropout)(x1)\n",
    "    \n",
    "    dense = layers.Dense(n_perceptrons/2, activation=\"relu\")\n",
    "    x2 = dense(dropout1)\n",
    "    \n",
    "    dropout2 = Dropout(dropout)(x2)\n",
    "    \n",
    "    dense = layers.Dense(1)\n",
    "    outputs = dense(dropout2)\n",
    "    \n",
    "    model = keras.Model(inputs=inputs, outputs=outputs, name=\"simple_MLP\")\n",
    "    if summary:\n",
    "        model.summary()\n",
    "    \n",
    "    model.compile(loss=keras.losses.MSE,optimizer=optimizer)\n",
    "\n",
    "    return model"
   ]
  },
  {
   "cell_type": "markdown",
   "id": "b520691d-9083-4479-9f83-292767542088",
   "metadata": {},
   "source": [
    "In order to use the same methodology as before, the cross validation has to be done manually. A monitor has been added to stop if the model is not learning anymore, to avoid overfitting. There is another validation split in the TF model to help stopping early if the improvement in each epoch is too small:"
   ]
  },
  {
   "cell_type": "code",
   "execution_count": 235,
   "id": "527b183f-d005-48c8-8c99-6d5d41561224",
   "metadata": {},
   "outputs": [],
   "source": [
    "def CV_NN(n_split=5, dropout=0.2, n_perceptrons=64):\n",
    "    \"\"\"cross validation for grid search with NN\"\"\"\n",
    "    CV_RMSE=np.array([])\n",
    "    \n",
    "    for train_index,test_index in KFold(n_split).split(X_train_fp):\n",
    "        monitor = keras.callbacks.EarlyStopping(monitor=\"val_loss\",min_delta=1e-2, patience=1)\n",
    "        \n",
    "        X_train_split,X_test_split=X_train_fp[train_index],X_train_fp[test_index]\n",
    "        y_train_split,y_test_split=y_train[train_index],y_train[test_index]\n",
    "\n",
    "        model=create_model(summary=False, dropout=dropout, n_perceptrons=n_perceptrons)\n",
    "        model.fit(X_train_split.reshape([-1, ridge_search.best_params_[\"fingerprinter__n_bits\"]*3]), y_train_split, callbacks =[monitor], epochs=100, validation_split=0.25, verbose=0)\n",
    "\n",
    "        CV_RMSE=np.append(CV_RMSE, mean_squared_error(model.predict(X_test_split),y_test_split, squared=False))\n",
    "    return CV_RMSE"
   ]
  },
  {
   "cell_type": "markdown",
   "id": "d8403b6b-80f2-47b2-8f8c-c593256fe4dc",
   "metadata": {},
   "source": [
    "### Fitting, Hyperparameters optimization"
   ]
  },
  {
   "cell_type": "markdown",
   "id": "cce00f85-6a0b-40b4-87ba-34f7d7368820",
   "metadata": {},
   "source": [
    "The parameters should be independent of each other, which is why they can be found independently:"
   ]
  },
  {
   "cell_type": "code",
   "execution_count": 211,
   "id": "4849cb88-0bb9-44ef-a352-1fd007d5b193",
   "metadata": {
    "tags": []
   },
   "outputs": [],
   "source": [
    "dropout_list=[0,0.1,0.2,0.3,0.4,0.5,0.6,0.7,0.8]\n",
    "n_perceptrons_list=[32, 64, 128, 256, 512]\n",
    "\n",
    "best_loss=10e10\n",
    "for dropout in dropout_list:\n",
    "    loss=CV_NN(dropout=dropout).mean()\n",
    "    if loss<best_loss:\n",
    "        best_loss=loss\n",
    "        best_dropout=dropout\n",
    "\n",
    "best_loss=10e10\n",
    "for n_perceptrons in n_perceptrons_list:\n",
    "    loss=CV_NN(n_perceptrons=n_perceptrons).mean()\n",
    "    if loss<best_loss:\n",
    "        best_loss=loss\n",
    "        best_n_perceptrons=n_perceptrons\n"
   ]
  },
  {
   "cell_type": "code",
   "execution_count": 212,
   "id": "c3cd09f8-5f23-4fe6-90b5-9596874e5ec7",
   "metadata": {
    "tags": []
   },
   "outputs": [
    {
     "data": {
      "text/plain": [
       "(0, 128)"
      ]
     },
     "execution_count": 212,
     "metadata": {},
     "output_type": "execute_result"
    }
   ],
   "source": [
    "best_dropout,best_n_perceptrons"
   ]
  },
  {
   "cell_type": "markdown",
   "id": "e4a03c85-e097-425b-a286-754733207d69",
   "metadata": {},
   "source": [
    "A model can now be built with the best parameters found above:"
   ]
  },
  {
   "cell_type": "code",
   "execution_count": 225,
   "id": "aa8a1d78-bd45-4388-8e58-2d3123e9cc20",
   "metadata": {
    "tags": []
   },
   "outputs": [
    {
     "name": "stdout",
     "output_type": "stream",
     "text": [
      "Model: \"simple_MLP\"\n",
      "_________________________________________________________________\n",
      "Layer (type)                 Output Shape              Param #   \n",
      "=================================================================\n",
      "input_1035 (InputLayer)      [(None, 4998)]            0         \n",
      "_________________________________________________________________\n",
      "dense_3168 (Dense)           (None, 128)               639872    \n",
      "_________________________________________________________________\n",
      "dropout_2049 (Dropout)       (None, 128)               0         \n",
      "_________________________________________________________________\n",
      "dense_3169 (Dense)           (None, 64)                8256      \n",
      "_________________________________________________________________\n",
      "dropout_2050 (Dropout)       (None, 64)                0         \n",
      "_________________________________________________________________\n",
      "dense_3170 (Dense)           (None, 1)                 65        \n",
      "=================================================================\n",
      "Total params: 648,193\n",
      "Trainable params: 648,193\n",
      "Non-trainable params: 0\n",
      "_________________________________________________________________\n",
      "Epoch 1/100\n",
      "16/16 [==============================] - 1s 7ms/step - loss: 0.8276 - val_loss: 0.1488\n",
      "Epoch 2/100\n",
      "16/16 [==============================] - 0s 3ms/step - loss: 0.1542 - val_loss: 0.0842\n",
      "Epoch 3/100\n",
      "16/16 [==============================] - 0s 3ms/step - loss: 0.0784 - val_loss: 0.0802\n",
      "Epoch 4/100\n",
      "16/16 [==============================] - 0s 3ms/step - loss: 0.0590 - val_loss: 0.0567\n",
      "Epoch 5/100\n",
      "16/16 [==============================] - 0s 3ms/step - loss: 0.0450 - val_loss: 0.0776\n",
      "Epoch 6/100\n",
      "16/16 [==============================] - 0s 3ms/step - loss: 0.0744 - val_loss: 0.0552\n",
      "Epoch 7/100\n",
      "16/16 [==============================] - 0s 3ms/step - loss: 0.0465 - val_loss: 0.0564\n",
      "Epoch 8/100\n",
      "16/16 [==============================] - 0s 3ms/step - loss: 0.0530 - val_loss: 0.0554\n",
      "Epoch 9/100\n",
      "16/16 [==============================] - 0s 3ms/step - loss: 0.0536 - val_loss: 0.0577\n"
     ]
    },
    {
     "data": {
      "text/plain": [
       "<tensorflow.python.keras.callbacks.History at 0x7f719c618400>"
      ]
     },
     "execution_count": 225,
     "metadata": {},
     "output_type": "execute_result"
    }
   ],
   "source": [
    "model_simple_NN=create_model(summary=True, dropout=best_dropout, n_perceptrons=best_n_perceptrons)\n",
    "model_simple_NN.fit(X_train_split.reshape([-1, ridge_search.best_params_[\"fingerprinter__n_bits\"]*3]), y_train_split, callbacks =[monitor], epochs=100, validation_split=0.25)"
   ]
  },
  {
   "cell_type": "code",
   "execution_count": 228,
   "id": "1e6a5bec-b07c-4141-86ab-044947f23ebb",
   "metadata": {},
   "outputs": [
    {
     "data": {
      "image/png": "[encoded data removed]",
      "text/plain": [
       "<Figure size 432x288 with 1 Axes>"
      ]
     },
     "metadata": {},
     "output_type": "display_data"
    }
   ],
   "source": [
    "plt.plot(model_simple_NN.history.history['loss'])\n",
    "plt.plot(model_simple_NN.history.history['val_loss'])\n",
    "plt.title('model loss')\n",
    "plt.ylabel('loss')\n",
    "plt.xlabel('epoch')\n",
    "plt.legend(['train', 'val'], loc='upper left')\n",
    "plt.show()"
   ]
  },
  {
   "cell_type": "code",
   "execution_count": 234,
   "id": "a471bac8-b636-4e23-9de4-7449bf9c695c",
   "metadata": {},
   "outputs": [
    {
     "data": {
      "text/plain": [
       "0.23715962519581055"
      ]
     },
     "execution_count": 234,
     "metadata": {},
     "output_type": "execute_result"
    }
   ],
   "source": [
    "mean_squared_error(model_simple_NN.predict(X_test_fp),y_test, squared=False)"
   ]
  },
  {
   "cell_type": "code",
   "execution_count": 270,
   "id": "030ef068-dfc3-457d-88ce-04a8889d0a3d",
   "metadata": {},
   "outputs": [
    {
     "data": {
      "image/png": "[encoded data removed]",
      "text/plain": [
       "<Figure size 504x504 with 3 Axes>"
      ]
     },
     "metadata": {},
     "output_type": "display_data"
    }
   ],
   "source": [
    "plot_joint(model_simple_NN.predict(X_test_fp).reshape((-1,)), name=f\"Simple 2 layered NN (dropout: {best_dropout}, n_perceptron: {best_n_perceptrons})\");"
   ]
  },
  {
   "cell_type": "markdown",
   "id": "b8e8285b-1f8a-4f71-b565-8ee96cbcc076",
   "metadata": {},
   "source": [
    "# Descriptors"
   ]
  },
  {
   "cell_type": "markdown",
   "id": "f43f5aff-85ff-4700-9760-a794fae266a5",
   "metadata": {},
   "source": [
    "By slightly modifying the function built before, it is possible to add descriptors to the features. The ```FractionCSP3```, ```NOCount```, ```NHOHCount```, ```NumAromaticRings```, ```NumHeteroatoms```, ```NumValenceElectrons```. The choice of the descriptors was not done methodically and should be examined in more details later on:"
   ]
  },
  {
   "cell_type": "code",
   "execution_count": 271,
   "id": "69d777fb-16a7-457d-a47e-91f970f68066",
   "metadata": {},
   "outputs": [],
   "source": [
    "class fingerprinterDescr(BaseEstimator, TransformerMixin):\n",
    "    def __init__(self, n_bits=1024, n_atom=2):\n",
    "        self.n_bits = n_bits # int necessary, otherwise rdkit c++ library doesn't play along\n",
    "        self.n_atom = n_atom\n",
    "    def fit(self, X, y=None):\n",
    "        return self\n",
    "    def transform(self, X):\n",
    "        \n",
    "        new_X=np.array([])\n",
    "        for row in X:\n",
    "            new_row=np.array([])\n",
    "            for element in row:\n",
    "                descriptor_list=[Descriptors.FractionCSP3(element), Descriptors.NOCount(element), Descriptors.NHOHCount(element), Descriptors.NumAromaticRings(element), Descriptors.NumHeteroatoms(element), Descriptors.NumValenceElectrons(element)]\n",
    "                fp=np.append(morgan_fp(element, self.n_bits, self.n_atom), descriptor_list)\n",
    "                new_row=np.append(new_row, fp, 0)\n",
    "            #new_row=new_row.reshape((df_X.shape[1],-1))\n",
    "            new_X=np.append(new_X, new_row)\n",
    "            new_X=new_X.reshape([-1, new_row.shape[0]])\n",
    "        return new_X"
   ]
  },
  {
   "cell_type": "code",
   "execution_count": 274,
   "id": "6d2f7aa7-4145-4dc9-b4c9-99f6cc2925ca",
   "metadata": {},
   "outputs": [],
   "source": [
    "f=lambda x: fingerprinterDescr(n_bits=ridge_search.best_params_[\"fingerprinter__n_bits\"], n_atom=ridge_search.best_params_[\"fingerprinter__n_atom\"]).transform(x)\n",
    "X_train_descr, X_test_descr=f(X_train), f(X_test)"
   ]
  },
  {
   "cell_type": "code",
   "execution_count": 275,
   "id": "1623bcec-f946-4c52-8424-81df2957bdeb",
   "metadata": {},
   "outputs": [
    {
     "data": {
      "text/plain": [
       "(806, 5016)"
      ]
     },
     "execution_count": 275,
     "metadata": {},
     "output_type": "execute_result"
    }
   ],
   "source": [
    "X_train_descr.shape"
   ]
  },
  {
   "cell_type": "markdown",
   "id": "68c35ef8-b92c-4283-8297-50a60c129ed2",
   "metadata": {},
   "source": [
    "The features are not composed of only 1 and 0 anymore, therefore a scaler is needed:"
   ]
  },
  {
   "cell_type": "code",
   "execution_count": 277,
   "id": "de83c38b-a979-4a4e-a65d-64f3a8f2e412",
   "metadata": {},
   "outputs": [],
   "source": [
    "scaler=StandardScaler()\n",
    "X_train_descr=scaler.fit_transform(X_train_descr)\n",
    "X_test_descr=scaler.transform(X_test_descr)"
   ]
  },
  {
   "cell_type": "markdown",
   "id": "d68a5d2a-c8b0-4229-a629-363359a8d49a",
   "metadata": {
    "tags": []
   },
   "source": [
    "## Ridge"
   ]
  },
  {
   "cell_type": "markdown",
   "id": "a1a5b058-0910-407b-a6bb-17cd084abdd9",
   "metadata": {},
   "source": [
    "As the features are already built, there is no need of building the fingerprints again. Ridge Alpha is optimized again."
   ]
  },
  {
   "cell_type": "code",
   "execution_count": 278,
   "id": "1f7ae9d4-a152-405c-988b-33f05a3e98de",
   "metadata": {},
   "outputs": [],
   "source": [
    "pipe = Pipeline([(\"ridge\",Ridge())])"
   ]
  },
  {
   "cell_type": "markdown",
   "id": "2e442663-5313-44f3-a0d2-bba81d3f68d7",
   "metadata": {},
   "source": [
    "Parameter grid, to be fed into the grid search algorithm to find the optimal hyperparameters using cross-validation in order to reduce any biais that could be introduced by the shuffling."
   ]
  },
  {
   "cell_type": "code",
   "execution_count": 279,
   "id": "6761cf80-7bf5-486f-b8f3-7baf3f79cde7",
   "metadata": {},
   "outputs": [
    {
     "data": {
      "text/plain": [
       "{'ridge__alpha': array([1.00000000e-03, 4.64158883e-03, 2.15443469e-02, 1.00000000e-01,\n",
       "        4.64158883e-01, 2.15443469e+00, 1.00000000e+01, 4.64158883e+01,\n",
       "        2.15443469e+02, 1.00000000e+03])}"
      ]
     },
     "execution_count": 279,
     "metadata": {},
     "output_type": "execute_result"
    }
   ],
   "source": [
    "param_grid={\"ridge__alpha\":np.logspace(-3, 3, 10)}\n",
    "param_grid"
   ]
  },
  {
   "cell_type": "code",
   "execution_count": 287,
   "id": "1892a362-7bf7-40de-9980-de97f36c30b3",
   "metadata": {
    "tags": []
   },
   "outputs": [
    {
     "name": "stdout",
     "output_type": "stream",
     "text": [
      "Fitting 5 folds for each of 10 candidates, totalling 50 fits\n"
     ]
    },
    {
     "data": {
      "text/html": [
       "<style>#sk-container-id-2 {color: black;background-color: white;}#sk-container-id-2 pre{padding: 0;}#sk-container-id-2 div.sk-toggleable {background-color: white;}#sk-container-id-2 label.sk-toggleable__label {cursor: pointer;display: block;width: 100%;margin-bottom: 0;padding: 0.3em;box-sizing: border-box;text-align: center;}#sk-container-id-2 label.sk-toggleable__label-arrow:before {content: \"▸\";float: left;margin-right: 0.25em;color: #696969;}#sk-container-id-2 label.sk-toggleable__label-arrow:hover:before {color: black;}#sk-container-id-2 div.sk-estimator:hover label.sk-toggleable__label-arrow:before {color: black;}#sk-container-id-2 div.sk-toggleable__content {max-height: 0;max-width: 0;overflow: hidden;text-align: left;background-color: #f0f8ff;}#sk-container-id-2 div.sk-toggleable__content pre {margin: 0.2em;color: black;border-radius: 0.25em;background-color: #f0f8ff;}#sk-container-id-2 input.sk-toggleable__control:checked~div.sk-toggleable__content {max-height: 200px;max-width: 100%;overflow: auto;}#sk-container-id-2 input.sk-toggleable__control:checked~label.sk-toggleable__label-arrow:before {content: \"▾\";}#sk-container-id-2 div.sk-estimator input.sk-toggleable__control:checked~label.sk-toggleable__label {background-color: #d4ebff;}#sk-container-id-2 div.sk-label input.sk-toggleable__control:checked~label.sk-toggleable__label {background-color: #d4ebff;}#sk-container-id-2 input.sk-hidden--visually {border: 0;clip: rect(1px 1px 1px 1px);clip: rect(1px, 1px, 1px, 1px);height: 1px;margin: -1px;overflow: hidden;padding: 0;position: absolute;width: 1px;}#sk-container-id-2 div.sk-estimator {font-family: monospace;background-color: #f0f8ff;border: 1px dotted black;border-radius: 0.25em;box-sizing: border-box;margin-bottom: 0.5em;}#sk-container-id-2 div.sk-estimator:hover {background-color: #d4ebff;}#sk-container-id-2 div.sk-parallel-item::after {content: \"\";width: 100%;border-bottom: 1px solid gray;flex-grow: 1;}#sk-container-id-2 div.sk-label:hover label.sk-toggleable__label {background-color: #d4ebff;}#sk-container-id-2 div.sk-serial::before {content: \"\";position: absolute;border-left: 1px solid gray;box-sizing: border-box;top: 0;bottom: 0;left: 50%;z-index: 0;}#sk-container-id-2 div.sk-serial {display: flex;flex-direction: column;align-items: center;background-color: white;padding-right: 0.2em;padding-left: 0.2em;position: relative;}#sk-container-id-2 div.sk-item {position: relative;z-index: 1;}#sk-container-id-2 div.sk-parallel {display: flex;align-items: stretch;justify-content: center;background-color: white;position: relative;}#sk-container-id-2 div.sk-item::before, #sk-container-id-2 div.sk-parallel-item::before {content: \"\";position: absolute;border-left: 1px solid gray;box-sizing: border-box;top: 0;bottom: 0;left: 50%;z-index: -1;}#sk-container-id-2 div.sk-parallel-item {display: flex;flex-direction: column;z-index: 1;position: relative;background-color: white;}#sk-container-id-2 div.sk-parallel-item:first-child::after {align-self: flex-end;width: 50%;}#sk-container-id-2 div.sk-parallel-item:last-child::after {align-self: flex-start;width: 50%;}#sk-container-id-2 div.sk-parallel-item:only-child::after {width: 0;}#sk-container-id-2 div.sk-dashed-wrapped {border: 1px dashed gray;margin: 0 0.4em 0.5em 0.4em;box-sizing: border-box;padding-bottom: 0.4em;background-color: white;}#sk-container-id-2 div.sk-label label {font-family: monospace;font-weight: bold;display: inline-block;line-height: 1.2em;}#sk-container-id-2 div.sk-label-container {text-align: center;}#sk-container-id-2 div.sk-container {/* jupyter's `normalize.less` sets `[hidden] { display: none; }` but bootstrap.min.css set `[hidden] { display: none !important; }` so we also need the `!important` here to be able to override the default hidden behavior on the sphinx rendered scikit-learn.org. See: https://github.com/scikit-learn/scikit-learn/issues/21755 */display: inline-block !important;position: relative;}#sk-container-id-2 div.sk-text-repr-fallback {display: none;}</style><div id=\"sk-container-id-2\" class=\"sk-top-container\"><div class=\"sk-text-repr-fallback\"><pre>GridSearchCV(estimator=Pipeline(steps=[(&#x27;ridge&#x27;, Ridge())]), n_jobs=-1,\n",
       "             param_grid={&#x27;ridge__alpha&#x27;: array([1.00000000e-03, 4.64158883e-03, 2.15443469e-02, 1.00000000e-01,\n",
       "       4.64158883e-01, 2.15443469e+00, 1.00000000e+01, 4.64158883e+01,\n",
       "       2.15443469e+02, 1.00000000e+03])},\n",
       "             verbose=3)</pre><b>In a Jupyter environment, please rerun this cell to show the HTML representation or trust the notebook. <br />On GitHub, the HTML representation is unable to render, please try loading this page with nbviewer.org.</b></div><div class=\"sk-container\" hidden><div class=\"sk-item sk-dashed-wrapped\"><div class=\"sk-label-container\"><div class=\"sk-label sk-toggleable\"><input class=\"sk-toggleable__control sk-hidden--visually\" id=\"sk-estimator-id-4\" type=\"checkbox\" ><label for=\"sk-estimator-id-4\" class=\"sk-toggleable__label sk-toggleable__label-arrow\">GridSearchCV</label><div class=\"sk-toggleable__content\"><pre>GridSearchCV(estimator=Pipeline(steps=[(&#x27;ridge&#x27;, Ridge())]), n_jobs=-1,\n",
       "             param_grid={&#x27;ridge__alpha&#x27;: array([1.00000000e-03, 4.64158883e-03, 2.15443469e-02, 1.00000000e-01,\n",
       "       4.64158883e-01, 2.15443469e+00, 1.00000000e+01, 4.64158883e+01,\n",
       "       2.15443469e+02, 1.00000000e+03])},\n",
       "             verbose=3)</pre></div></div></div><div class=\"sk-parallel\"><div class=\"sk-parallel-item\"><div class=\"sk-item\"><div class=\"sk-label-container\"><div class=\"sk-label sk-toggleable\"><input class=\"sk-toggleable__control sk-hidden--visually\" id=\"sk-estimator-id-5\" type=\"checkbox\" ><label for=\"sk-estimator-id-5\" class=\"sk-toggleable__label sk-toggleable__label-arrow\">estimator: Pipeline</label><div class=\"sk-toggleable__content\"><pre>Pipeline(steps=[(&#x27;ridge&#x27;, Ridge())])</pre></div></div></div><div class=\"sk-serial\"><div class=\"sk-item\"><div class=\"sk-serial\"><div class=\"sk-item\"><div class=\"sk-estimator sk-toggleable\"><input class=\"sk-toggleable__control sk-hidden--visually\" id=\"sk-estimator-id-6\" type=\"checkbox\" ><label for=\"sk-estimator-id-6\" class=\"sk-toggleable__label sk-toggleable__label-arrow\">Ridge</label><div class=\"sk-toggleable__content\"><pre>Ridge()</pre></div></div></div></div></div></div></div></div></div></div></div></div>"
      ],
      "text/plain": [
       "GridSearchCV(estimator=Pipeline(steps=[('ridge', Ridge())]), n_jobs=-1,\n",
       "             param_grid={'ridge__alpha': array([1.00000000e-03, 4.64158883e-03, 2.15443469e-02, 1.00000000e-01,\n",
       "       4.64158883e-01, 2.15443469e+00, 1.00000000e+01, 4.64158883e+01,\n",
       "       2.15443469e+02, 1.00000000e+03])},\n",
       "             verbose=3)"
      ]
     },
     "execution_count": 287,
     "metadata": {},
     "output_type": "execute_result"
    }
   ],
   "source": [
    "ridge_search_descr = GridSearchCV(pipe, param_grid, n_jobs=-1, verbose=3)\n",
    "\n",
    "ridge_search_descr.fit(X_train_descr, y_train)\n"
   ]
  },
  {
   "cell_type": "code",
   "execution_count": 288,
   "id": "c97914ce-216a-4c75-9b6d-9e9b0ce8f1ef",
   "metadata": {},
   "outputs": [
    {
     "name": "stdout",
     "output_type": "stream",
     "text": [
      " Results from Grid Search \n",
      "\n",
      " The best estimator:\n",
      " Pipeline(steps=[('ridge', Ridge(alpha=46.41588833612773))])\n",
      "\n",
      " The best mean TRAIN score (R^2):\n",
      " 0.8639946904041897\n",
      "\n",
      " The best STD of TRAIN score (R^2):\n",
      " 0.015007458946207914\n",
      "\n",
      " The TEST MAE of the best estimator:\n",
      " 0.1856667377933659\n",
      "\n",
      " The TEST RMSE of the best estimator:\n",
      " 0.2544814054759116\n",
      "\n",
      " The best parameters:\n",
      " {'ridge__alpha': 46.41588833612773}\n"
     ]
    }
   ],
   "source": [
    "print(\" Results from Grid Search \" )\n",
    "print(\"\\n The best estimator:\\n\",ridge_search_descr.best_estimator_)\n",
    "print(\"\\n The best mean TRAIN score (R^2):\\n\",ridge_search_descr.cv_results_[\"mean_test_score\"].mean())\n",
    "print(\"\\n The best STD of TRAIN score (R^2):\\n\",ridge_search_descr.cv_results_[\"std_test_score\"].mean())\n",
    "print(\"\\n The TEST MAE of the best estimator:\\n\",mean_absolute_error(ridge_search_descr.best_estimator_.predict(X_test_descr), y_test))\n",
    "print(\"\\n The TEST RMSE of the best estimator:\\n\",mean_squared_error(ridge_search_descr.best_estimator_.predict(X_test_descr), y_test, squared=False))\n",
    "print(\"\\n The best parameters:\\n\",ridge_search_descr.best_params_)"
   ]
  },
  {
   "cell_type": "code",
   "execution_count": 289,
   "id": "bd00f904-414c-4ebb-be45-2d59db4b57c0",
   "metadata": {},
   "outputs": [
    {
     "data": {
      "text/plain": [
       "{'ridge__alpha': 46.41588833612773}"
      ]
     },
     "execution_count": 289,
     "metadata": {},
     "output_type": "execute_result"
    }
   ],
   "source": [
    "ridge_search_descr.best_params_"
   ]
  },
  {
   "cell_type": "markdown",
   "id": "e0f9ce74-e0de-4f60-a358-480871471aa2",
   "metadata": {},
   "source": [
    "Looking at the relative distributions of the predicted output vs the target output: "
   ]
  },
  {
   "cell_type": "code",
   "execution_count": 291,
   "id": "11430850-c972-43a0-8c49-1bf750c70858",
   "metadata": {
    "collapsed": true,
    "jupyter": {
     "outputs_hidden": true
    },
    "tags": []
   },
   "outputs": [
    {
     "data": {
      "image/png": "[encoded data removed]",
      "text/plain": [
       "<Figure size 504x504 with 3 Axes>"
      ]
     },
     "metadata": {},
     "output_type": "display_data"
    }
   ],
   "source": [
    "plot_joint(ridge_search_descr.best_estimator_.predict(X_test_descr), name=\"Ridge\");"
   ]
  },
  {
   "cell_type": "markdown",
   "id": "7bebd3cb-8a45-494a-abe4-0a68c4d6d6be",
   "metadata": {
    "tags": []
   },
   "source": [
    "## Random Forest"
   ]
  },
  {
   "cell_type": "markdown",
   "id": "e5c2e1b0-78a4-4a96-905d-1d903dfd4836",
   "metadata": {},
   "source": [
    "As the features are already built, there is no need of building the fingerprints again. Ridge Alpha is optimized again."
   ]
  },
  {
   "cell_type": "code",
   "execution_count": 296,
   "id": "615e8f48-21cd-4def-9beb-1054f50587a2",
   "metadata": {},
   "outputs": [],
   "source": [
    "pipe = Pipeline([(\"forest\",RandomForestRegressor())])"
   ]
  },
  {
   "cell_type": "markdown",
   "id": "345a755b-8795-49e9-9f4e-6426f03d3d6f",
   "metadata": {},
   "source": [
    "Parameter grid, to be fed into the grid search algorithm to find the optimal hyperparameters using cross-validation in order to reduce any biais that could be introduced by the shuffling."
   ]
  },
  {
   "cell_type": "code",
   "execution_count": 297,
   "id": "dbde3dd9-4ba6-42b5-8c3d-d4a70dbbff22",
   "metadata": {},
   "outputs": [
    {
     "data": {
      "text/plain": [
       "{'forest__max_depth': [982]}"
      ]
     },
     "execution_count": 297,
     "metadata": {},
     "output_type": "execute_result"
    }
   ],
   "source": [
    "param_grid={\"forest__max_depth\": [982]}#np.linspace(50, 1500, 15,  dtype=int)}\n",
    "param_grid"
   ]
  },
  {
   "cell_type": "code",
   "execution_count": 298,
   "id": "7d61a5a6-94ab-4b31-86c9-857e9d540906",
   "metadata": {
    "tags": []
   },
   "outputs": [
    {
     "name": "stdout",
     "output_type": "stream",
     "text": [
      "Fitting 5 folds for each of 1 candidates, totalling 5 fits\n"
     ]
    },
    {
     "data": {
      "text/html": [
       "<style>#sk-container-id-3 {color: black;background-color: white;}#sk-container-id-3 pre{padding: 0;}#sk-container-id-3 div.sk-toggleable {background-color: white;}#sk-container-id-3 label.sk-toggleable__label {cursor: pointer;display: block;width: 100%;margin-bottom: 0;padding: 0.3em;box-sizing: border-box;text-align: center;}#sk-container-id-3 label.sk-toggleable__label-arrow:before {content: \"▸\";float: left;margin-right: 0.25em;color: #696969;}#sk-container-id-3 label.sk-toggleable__label-arrow:hover:before {color: black;}#sk-container-id-3 div.sk-estimator:hover label.sk-toggleable__label-arrow:before {color: black;}#sk-container-id-3 div.sk-toggleable__content {max-height: 0;max-width: 0;overflow: hidden;text-align: left;background-color: #f0f8ff;}#sk-container-id-3 div.sk-toggleable__content pre {margin: 0.2em;color: black;border-radius: 0.25em;background-color: #f0f8ff;}#sk-container-id-3 input.sk-toggleable__control:checked~div.sk-toggleable__content {max-height: 200px;max-width: 100%;overflow: auto;}#sk-container-id-3 input.sk-toggleable__control:checked~label.sk-toggleable__label-arrow:before {content: \"▾\";}#sk-container-id-3 div.sk-estimator input.sk-toggleable__control:checked~label.sk-toggleable__label {background-color: #d4ebff;}#sk-container-id-3 div.sk-label input.sk-toggleable__control:checked~label.sk-toggleable__label {background-color: #d4ebff;}#sk-container-id-3 input.sk-hidden--visually {border: 0;clip: rect(1px 1px 1px 1px);clip: rect(1px, 1px, 1px, 1px);height: 1px;margin: -1px;overflow: hidden;padding: 0;position: absolute;width: 1px;}#sk-container-id-3 div.sk-estimator {font-family: monospace;background-color: #f0f8ff;border: 1px dotted black;border-radius: 0.25em;box-sizing: border-box;margin-bottom: 0.5em;}#sk-container-id-3 div.sk-estimator:hover {background-color: #d4ebff;}#sk-container-id-3 div.sk-parallel-item::after {content: \"\";width: 100%;border-bottom: 1px solid gray;flex-grow: 1;}#sk-container-id-3 div.sk-label:hover label.sk-toggleable__label {background-color: #d4ebff;}#sk-container-id-3 div.sk-serial::before {content: \"\";position: absolute;border-left: 1px solid gray;box-sizing: border-box;top: 0;bottom: 0;left: 50%;z-index: 0;}#sk-container-id-3 div.sk-serial {display: flex;flex-direction: column;align-items: center;background-color: white;padding-right: 0.2em;padding-left: 0.2em;position: relative;}#sk-container-id-3 div.sk-item {position: relative;z-index: 1;}#sk-container-id-3 div.sk-parallel {display: flex;align-items: stretch;justify-content: center;background-color: white;position: relative;}#sk-container-id-3 div.sk-item::before, #sk-container-id-3 div.sk-parallel-item::before {content: \"\";position: absolute;border-left: 1px solid gray;box-sizing: border-box;top: 0;bottom: 0;left: 50%;z-index: -1;}#sk-container-id-3 div.sk-parallel-item {display: flex;flex-direction: column;z-index: 1;position: relative;background-color: white;}#sk-container-id-3 div.sk-parallel-item:first-child::after {align-self: flex-end;width: 50%;}#sk-container-id-3 div.sk-parallel-item:last-child::after {align-self: flex-start;width: 50%;}#sk-container-id-3 div.sk-parallel-item:only-child::after {width: 0;}#sk-container-id-3 div.sk-dashed-wrapped {border: 1px dashed gray;margin: 0 0.4em 0.5em 0.4em;box-sizing: border-box;padding-bottom: 0.4em;background-color: white;}#sk-container-id-3 div.sk-label label {font-family: monospace;font-weight: bold;display: inline-block;line-height: 1.2em;}#sk-container-id-3 div.sk-label-container {text-align: center;}#sk-container-id-3 div.sk-container {/* jupyter's `normalize.less` sets `[hidden] { display: none; }` but bootstrap.min.css set `[hidden] { display: none !important; }` so we also need the `!important` here to be able to override the default hidden behavior on the sphinx rendered scikit-learn.org. See: https://github.com/scikit-learn/scikit-learn/issues/21755 */display: inline-block !important;position: relative;}#sk-container-id-3 div.sk-text-repr-fallback {display: none;}</style><div id=\"sk-container-id-3\" class=\"sk-top-container\"><div class=\"sk-text-repr-fallback\"><pre>GridSearchCV(estimator=Pipeline(steps=[(&#x27;forest&#x27;, RandomForestRegressor())]),\n",
       "             n_jobs=-1, param_grid={&#x27;forest__max_depth&#x27;: [982]}, verbose=3)</pre><b>In a Jupyter environment, please rerun this cell to show the HTML representation or trust the notebook. <br />On GitHub, the HTML representation is unable to render, please try loading this page with nbviewer.org.</b></div><div class=\"sk-container\" hidden><div class=\"sk-item sk-dashed-wrapped\"><div class=\"sk-label-container\"><div class=\"sk-label sk-toggleable\"><input class=\"sk-toggleable__control sk-hidden--visually\" id=\"sk-estimator-id-7\" type=\"checkbox\" ><label for=\"sk-estimator-id-7\" class=\"sk-toggleable__label sk-toggleable__label-arrow\">GridSearchCV</label><div class=\"sk-toggleable__content\"><pre>GridSearchCV(estimator=Pipeline(steps=[(&#x27;forest&#x27;, RandomForestRegressor())]),\n",
       "             n_jobs=-1, param_grid={&#x27;forest__max_depth&#x27;: [982]}, verbose=3)</pre></div></div></div><div class=\"sk-parallel\"><div class=\"sk-parallel-item\"><div class=\"sk-item\"><div class=\"sk-label-container\"><div class=\"sk-label sk-toggleable\"><input class=\"sk-toggleable__control sk-hidden--visually\" id=\"sk-estimator-id-8\" type=\"checkbox\" ><label for=\"sk-estimator-id-8\" class=\"sk-toggleable__label sk-toggleable__label-arrow\">estimator: Pipeline</label><div class=\"sk-toggleable__content\"><pre>Pipeline(steps=[(&#x27;forest&#x27;, RandomForestRegressor())])</pre></div></div></div><div class=\"sk-serial\"><div class=\"sk-item\"><div class=\"sk-serial\"><div class=\"sk-item\"><div class=\"sk-estimator sk-toggleable\"><input class=\"sk-toggleable__control sk-hidden--visually\" id=\"sk-estimator-id-9\" type=\"checkbox\" ><label for=\"sk-estimator-id-9\" class=\"sk-toggleable__label sk-toggleable__label-arrow\">RandomForestRegressor</label><div class=\"sk-toggleable__content\"><pre>RandomForestRegressor()</pre></div></div></div></div></div></div></div></div></div></div></div></div>"
      ],
      "text/plain": [
       "GridSearchCV(estimator=Pipeline(steps=[('forest', RandomForestRegressor())]),\n",
       "             n_jobs=-1, param_grid={'forest__max_depth': [982]}, verbose=3)"
      ]
     },
     "execution_count": 298,
     "metadata": {},
     "output_type": "execute_result"
    }
   ],
   "source": [
    "forest_search_descr = GridSearchCV(pipe, param_grid, n_jobs=-1, verbose=3)\n",
    "\n",
    "forest_search_descr.fit(X_train_descr, y_train)\n"
   ]
  },
  {
   "cell_type": "code",
   "execution_count": 299,
   "id": "47dd937c-f3f1-4a65-9894-506a4cba1f49",
   "metadata": {},
   "outputs": [
    {
     "name": "stdout",
     "output_type": "stream",
     "text": [
      " Results from Grid Search \n",
      "\n",
      " The best estimator:\n",
      " Pipeline(steps=[('forest', RandomForestRegressor(max_depth=982))])\n",
      "\n",
      " The best mean TRAIN score (R^2):\n",
      " 0.9046752881124629\n",
      "\n",
      " The best STD of TRAIN score (R^2):\n",
      " 0.015114023545642665\n",
      "\n",
      " The TEST MAE of the best estimator:\n",
      " 0.12954626691877322\n",
      "\n",
      " The TEST RMSE of the best estimator:\n",
      " 0.19342428890614888\n",
      "\n",
      " The best parameters:\n",
      " {'forest__max_depth': 982}\n"
     ]
    }
   ],
   "source": [
    "print(\" Results from Grid Search \" )\n",
    "print(\"\\n The best estimator:\\n\",forest_search_descr.best_estimator_)\n",
    "print(\"\\n The best mean TRAIN score (R^2):\\n\",forest_search_descr.cv_results_[\"mean_test_score\"].mean())\n",
    "print(\"\\n The best STD of TRAIN score (R^2):\\n\",forest_search_descr.cv_results_[\"std_test_score\"].mean())\n",
    "print(\"\\n The TEST MAE of the best estimator:\\n\",mean_absolute_error(forest_search_descr.best_estimator_.predict(X_test_descr), y_test))\n",
    "print(\"\\n The TEST RMSE of the best estimator:\\n\",mean_squared_error(forest_search_descr.best_estimator_.predict(X_test_descr), y_test, squared=False))\n",
    "print(\"\\n The best parameters:\\n\",forest_search_descr.best_params_)"
   ]
  },
  {
   "cell_type": "code",
   "execution_count": 300,
   "id": "09de050f-86b2-48bb-84a4-7209bb7a70b5",
   "metadata": {},
   "outputs": [
    {
     "data": {
      "text/plain": [
       "{'forest__max_depth': 982}"
      ]
     },
     "execution_count": 300,
     "metadata": {},
     "output_type": "execute_result"
    }
   ],
   "source": [
    "forest_search_descr.best_params_"
   ]
  },
  {
   "cell_type": "markdown",
   "id": "e529e96b-d8ee-4555-b3ba-b828498b64d4",
   "metadata": {},
   "source": [
    "Looking at the relative distributions of the predicted output vs the target output: "
   ]
  },
  {
   "cell_type": "code",
   "execution_count": 301,
   "id": "39b85794-423a-4faf-9c86-8ad483d65b0c",
   "metadata": {},
   "outputs": [
    {
     "data": {
      "image/png": "[encoded data removed]",
      "text/plain": [
       "<Figure size 504x504 with 3 Axes>"
      ]
     },
     "metadata": {},
     "output_type": "display_data"
    }
   ],
   "source": [
    "plot_joint(forest_search_descr.best_estimator_.predict(X_test_descr), name=\"Ridge\");"
   ]
  },
  {
   "cell_type": "code",
   "execution_count": null,
   "id": "36a5b70c-adcf-4109-a6e0-fe5e3e721ff8",
   "metadata": {},
   "outputs": [],
   "source": []
  },
  {
   "cell_type": "code",
   "execution_count": null,
   "id": "9d38100b-52ee-42ad-be17-c2e96ffc6c32",
   "metadata": {},
   "outputs": [],
   "source": []
  },
  {
   "cell_type": "code",
   "execution_count": null,
   "id": "d2b21230-59d7-4596-a40c-6eb9b43b3ea6",
   "metadata": {},
   "outputs": [],
   "source": []
  },
  {
   "cell_type": "code",
   "execution_count": null,
   "id": "60c7dd20-1626-48f2-846e-55a42b0cff21",
   "metadata": {},
   "outputs": [],
   "source": []
  },
  {
   "cell_type": "code",
   "execution_count": null,
   "id": "d50a7ecc-15e8-4478-9e57-86503a3653a4",
   "metadata": {},
   "outputs": [],
   "source": []
  },
  {
   "cell_type": "markdown",
   "id": "native-identification",
   "metadata": {},
   "source": [
    "Alternative: use qsar fingerprints: http://www.qsar4u.com/files/qsar_rdkit_tutorial/qsar-rdkit.html\n",
    "\n",
    "Alternative to consider: https://pubs.acs.org/doi/10.1021/acs.jcim.7b00616\n",
    "\n",
    "Why the morgan fingerprint? The litterature does not seem to agree but they seem to lean towards that fingerprint: http://practicalcheminformatics.blogspot.com/2020/03/benchmarking-one-molecular-fingerprint.html"
   ]
  },
  {
   "cell_type": "markdown",
   "id": "dec8a0ae-555f-4c5c-b551-695de4cec319",
   "metadata": {},
   "source": [
    "Personal notes: Iterations:\n",
    "1. Tried to compute morgan fingerprint and take that output to compute a ridge regression. This would have been the simplest and most naive iteration. Initially a failure, I ended up being able to fine tune it more or less. Due to the high cost of the computations I did not fine-tune the hyperparameters too much.\n",
    "2. Random forest regression. I realized here that the morgan fingerprint parameters would be optimizable from a simple linear regression and could then be discarded as a hyperparameter. If time allows it, This will get changed, but I would like to continue building some models and a good way of comparing them before. "
   ]
  },
  {
   "cell_type": "markdown",
   "id": "80eab035-ca68-440d-a96e-7a89b1046022",
   "metadata": {},
   "source": [
    "For the bootstrapping: sample size has to be extremely small, otherwise it does the take too much time (>7h...). Is pretty useless like this. In case of trying again: https://ogrisel.github.io/scikit-learn.org/sklearn-tutorial/modules/generated/sklearn.cross_validation.Bootstrap.html"
   ]
  },
  {
   "cell_type": "code",
   "execution_count": null,
   "id": "87bdb65e-a99a-4712-96e3-b14c58d580de",
   "metadata": {},
   "outputs": [],
   "source": []
  }
 ],
 "metadata": {
  "kernelspec": {
   "display_name": "Python 3",
   "language": "python",
   "name": "python3"
  },
  "language_info": {
   "codemirror_mode": {
    "name": "ipython",
    "version": 3
   },
   "file_extension": ".py",
   "mimetype": "text/x-python",
   "name": "python",
   "nbconvert_exporter": "python",
   "pygments_lexer": "ipython3",
   "version": "3.8.5"
  }
 },
 "nbformat": 4,
 "nbformat_minor": 5
}
