{
 "cells": [
  {
   "cell_type": "markdown",
   "id": "forward-passenger",
   "metadata": {},
   "source": [
    "# Installing and importing dependencies"
   ]
  },
  {
   "cell_type": "code",
   "execution_count": 1,
   "id": "destroyed-words",
   "metadata": {
    "scrolled": true
   },
   "outputs": [
    {
     "name": "stdout",
     "output_type": "stream",
     "text": [
      "Requirement already satisfied: openpyxl in /home/giustino/miniconda3/lib/python3.8/site-packages (3.0.10)\n",
      "Requirement already satisfied: et-xmlfile in /home/giustino/miniconda3/lib/python3.8/site-packages (from openpyxl) (1.1.0)\n",
      "Requirement already satisfied: pandas in /home/giustino/.local/lib/python3.8/site-packages (1.3.3)\n",
      "Requirement already satisfied: numpy>=1.17.3 in /home/giustino/.local/lib/python3.8/site-packages (from pandas) (1.19.5)\n",
      "Requirement already satisfied: pytz>=2017.3 in /home/giustino/miniconda3/lib/python3.8/site-packages (from pandas) (2021.1)\n",
      "Requirement already satisfied: python-dateutil>=2.7.3 in /home/giustino/miniconda3/lib/python3.8/site-packages (from pandas) (2.8.2)\n",
      "Requirement already satisfied: six>=1.5 in /home/giustino/.local/lib/python3.8/site-packages (from python-dateutil>=2.7.3->pandas) (1.15.0)\n",
      "Requirement already satisfied: numpy in /home/giustino/.local/lib/python3.8/site-packages (1.19.5)\n",
      "Requirement already satisfied: rdkit in /home/giustino/miniconda3/lib/python3.8/site-packages (2022.3.5)\n",
      "Requirement already satisfied: Pillow in /home/giustino/miniconda3/lib/python3.8/site-packages (from rdkit) (8.2.0)\n",
      "Requirement already satisfied: numpy in /home/giustino/.local/lib/python3.8/site-packages (from rdkit) (1.19.5)\n"
     ]
    }
   ],
   "source": [
    "!pip install openpyxl\n",
    "!pip install pandas\n",
    "!pip install numpy\n",
    "!pip install rdkit"
   ]
  },
  {
   "cell_type": "code",
   "execution_count": 74,
   "id": "furnished-press",
   "metadata": {
    "scrolled": true
   },
   "outputs": [],
   "source": [
    "import pandas as pd\n",
    "import numpy as np\n",
    "import time\n",
    "\n",
    "from rdkit import Chem\n",
    "from rdkit.Chem import AllChem\n",
    "from rdkit.Chem import Draw\n",
    "from rdkit.Chem import DataStructs\n",
    "\n",
    "from sklearn.base import BaseEstimator, TransformerMixin\n",
    "from sklearn.linear_model import Ridge\n",
    "from sklearn.pipeline import Pipeline\n",
    "from sklearn.model_selection import GridSearchCV\n",
    "from sklearn.model_selection import train_test_split\n",
    "from sklearn.model_selection import KFold\n",
    "from sklearn.metrics import mean_absolute_error, mean_squared_error\n",
    "from sklearn.ensemble import RandomForestRegressor \n",
    "\n",
    "import tensorflow as tf\n",
    "from tensorflow import keras\n",
    "from tensorflow.keras import layers\n",
    "from tensorflow.keras import Sequential\n",
    "from tensorflow.keras.layers import Dense, Dropout\n",
    "from tensorflow.keras.wrappers.scikit_learn import KerasRegressor\n",
    "from keras.callbacks import History \n",
    "\n",
    "\n",
    "\n",
    "import seaborn as sns\n",
    "import matplotlib.pyplot as plt"
   ]
  },
  {
   "cell_type": "code",
   "execution_count": 3,
   "id": "44b5c43e-20ce-40f9-b79e-ced6d88eb9a4",
   "metadata": {},
   "outputs": [],
   "source": [
    "#plt.style.use(['science'])\n",
    "%matplotlib inline\n",
    "sns.set_theme()\n",
    "#plt.style.use([])\n",
    "#plt.style.use(['science','ieee'])"
   ]
  },
  {
   "cell_type": "markdown",
   "id": "documented-pharmacology",
   "metadata": {},
   "source": [
    "Function that will be used to check that no \"na\" values appear:"
   ]
  },
  {
   "cell_type": "code",
   "execution_count": 4,
   "id": "bright-token",
   "metadata": {},
   "outputs": [],
   "source": [
    "def check_no_na(data):\n",
    "    if data.isna().sum().eq(0).all():\n",
    "        print(\"Success: No NA values found.\")\n",
    "        return\n",
    "    print(\"Warning: NA values found.\")"
   ]
  },
  {
   "cell_type": "markdown",
   "id": "ac88f0e4-6b00-4100-bd73-402337d5cef3",
   "metadata": {},
   "source": [
    "Function to build a joint plot:"
   ]
  },
  {
   "cell_type": "code",
   "execution_count": 5,
   "id": "f090c9af-f01b-487e-89c2-2733279ed6f7",
   "metadata": {},
   "outputs": [],
   "source": [
    "def plot_joint(y_pred, height=7, name=\"MODEL\"):\n",
    "    plot = sns.JointGrid(x=y_pred, y=y_test, height=height);\n",
    "    plot.plot_joint(sns.scatterplot, s=100, color='slateblue')\n",
    "    plot.plot_marginals(sns.kdeplot, color='slateblue', fill=True)\n",
    "\n",
    "    x_eq_y=np.arange(np.array(plt.axis()).min(), np.array(plt.axis()).max())\n",
    "\n",
    "    plot.ax_joint.plot(x_eq_y, x_eq_y, 'k', linewidth = 2, linestyle='--')\n",
    "    \n",
    "    plot.ax_joint.set_xlabel(\"y predicted\")\n",
    "    plot.ax_joint.set_ylabel(\"y target\")\n",
    "    plot.fig.suptitle(f\"target vs predicted Output for the {name} model\", y=1.01)\n",
    "    return plot"
   ]
  },
  {
   "cell_type": "markdown",
   "id": "weird-office",
   "metadata": {},
   "source": [
    "# Importing the dataset"
   ]
  },
  {
   "cell_type": "code",
   "execution_count": 6,
   "id": "decreased-bradford",
   "metadata": {
    "scrolled": true
   },
   "outputs": [
    {
     "data": {
      "text/html": [
       "<div>\n",
       "<style scoped>\n",
       "    .dataframe tbody tr th:only-of-type {\n",
       "        vertical-align: middle;\n",
       "    }\n",
       "\n",
       "    .dataframe tbody tr th {\n",
       "        vertical-align: top;\n",
       "    }\n",
       "\n",
       "    .dataframe thead th {\n",
       "        text-align: right;\n",
       "    }\n",
       "</style>\n",
       "<table border=\"1\" class=\"dataframe\">\n",
       "  <thead>\n",
       "    <tr style=\"text-align: right;\">\n",
       "      <th></th>\n",
       "      <th>Catalyst</th>\n",
       "      <th>Imine</th>\n",
       "      <th>Thiol</th>\n",
       "      <th>Output</th>\n",
       "    </tr>\n",
       "  </thead>\n",
       "  <tbody>\n",
       "    <tr>\n",
       "      <th>0</th>\n",
       "      <td>O=P1(O)OC2=C(C3=C(C4CCCCC4)C=C(C5CCCCC5)C=C3C6...</td>\n",
       "      <td>O=C(C1=CC=CC=C1)/N=C/C2=CC=C(Cl)C=C2Cl</td>\n",
       "      <td>SC1=CC=CC=C1C</td>\n",
       "      <td>3.134625</td>\n",
       "    </tr>\n",
       "    <tr>\n",
       "      <th>1</th>\n",
       "      <td>O=P1(O)OC2=C(C3=CC(C4=C(C)C=C(C)C=C4C)=CC(C5=C...</td>\n",
       "      <td>O=C(C1=CC=CC=C1)/N=C/C2=CC=C(OC)C=C2</td>\n",
       "      <td>SC1=CC=C(OC)C=C1</td>\n",
       "      <td>1.531803</td>\n",
       "    </tr>\n",
       "    <tr>\n",
       "      <th>2</th>\n",
       "      <td>O=P1(O)OC2=C(C3=CC=C(OC)C=C3)C=C4C(C=CC=C4)=C2...</td>\n",
       "      <td>O=C(C1=CC=CC=C1)/N=C/C2=CC=C(Cl)C=C2Cl</td>\n",
       "      <td>SC1=CC=CC=C1</td>\n",
       "      <td>1.074991</td>\n",
       "    </tr>\n",
       "    <tr>\n",
       "      <th>3</th>\n",
       "      <td>O=P1(O)OC2=[C@]([C@]3=C(Cl)C=C(Cl)C=C3Cl)C=C4C...</td>\n",
       "      <td>O=C(C1=CC=CC=C1)/N=C/C2=CC=C(OC)C=C2</td>\n",
       "      <td>SC1=CC=CC=C1C</td>\n",
       "      <td>1.334823</td>\n",
       "    </tr>\n",
       "    <tr>\n",
       "      <th>4</th>\n",
       "      <td>O=P1(O)OC2=C(C3=C(C=CC4=CC=CC(C=C5)=C46)C6=C5C...</td>\n",
       "      <td>O=C(C1=CC=CC=C1)/N=C/C2=CC=CC3=C2C=CC=C3</td>\n",
       "      <td>SC1=CC=CC=C1</td>\n",
       "      <td>1.743658</td>\n",
       "    </tr>\n",
       "  </tbody>\n",
       "</table>\n",
       "</div>"
      ],
      "text/plain": [
       "                                            Catalyst  \\\n",
       "0  O=P1(O)OC2=C(C3=C(C4CCCCC4)C=C(C5CCCCC5)C=C3C6...   \n",
       "1  O=P1(O)OC2=C(C3=CC(C4=C(C)C=C(C)C=C4C)=CC(C5=C...   \n",
       "2  O=P1(O)OC2=C(C3=CC=C(OC)C=C3)C=C4C(C=CC=C4)=C2...   \n",
       "3  O=P1(O)OC2=[C@]([C@]3=C(Cl)C=C(Cl)C=C3Cl)C=C4C...   \n",
       "4  O=P1(O)OC2=C(C3=C(C=CC4=CC=CC(C=C5)=C46)C6=C5C...   \n",
       "\n",
       "                                      Imine             Thiol    Output  \n",
       "0    O=C(C1=CC=CC=C1)/N=C/C2=CC=C(Cl)C=C2Cl     SC1=CC=CC=C1C  3.134625  \n",
       "1      O=C(C1=CC=CC=C1)/N=C/C2=CC=C(OC)C=C2  SC1=CC=C(OC)C=C1  1.531803  \n",
       "2    O=C(C1=CC=CC=C1)/N=C/C2=CC=C(Cl)C=C2Cl      SC1=CC=CC=C1  1.074991  \n",
       "3      O=C(C1=CC=CC=C1)/N=C/C2=CC=C(OC)C=C2     SC1=CC=CC=C1C  1.334823  \n",
       "4  O=C(C1=CC=CC=C1)/N=C/C2=CC=CC3=C2C=CC=C3      SC1=CC=CC=C1  1.743658  "
      ]
     },
     "execution_count": 6,
     "metadata": {},
     "output_type": "execute_result"
    }
   ],
   "source": [
    "df_raw=pd.read_excel(\"denmark.xlsx\")\n",
    "df_raw.head()"
   ]
  },
  {
   "cell_type": "markdown",
   "id": "broad-yahoo",
   "metadata": {},
   "source": [
    "# Looking at the data"
   ]
  },
  {
   "cell_type": "markdown",
   "id": "legendary-formation",
   "metadata": {},
   "source": [
    "### Target values"
   ]
  },
  {
   "cell_type": "markdown",
   "id": "popular-diabetes",
   "metadata": {},
   "source": [
    "First of all, it would be important to look at how output values are distributed:"
   ]
  },
  {
   "cell_type": "code",
   "execution_count": 7,
   "id": "essential-hands",
   "metadata": {},
   "outputs": [
    {
     "data": {
      "text/html": [
       "<div>\n",
       "<style scoped>\n",
       "    .dataframe tbody tr th:only-of-type {\n",
       "        vertical-align: middle;\n",
       "    }\n",
       "\n",
       "    .dataframe tbody tr th {\n",
       "        vertical-align: top;\n",
       "    }\n",
       "\n",
       "    .dataframe thead th {\n",
       "        text-align: right;\n",
       "    }\n",
       "</style>\n",
       "<table border=\"1\" class=\"dataframe\">\n",
       "  <thead>\n",
       "    <tr style=\"text-align: right;\">\n",
       "      <th></th>\n",
       "      <th>Output</th>\n",
       "    </tr>\n",
       "  </thead>\n",
       "  <tbody>\n",
       "    <tr>\n",
       "      <th>count</th>\n",
       "      <td>1075.000000</td>\n",
       "    </tr>\n",
       "    <tr>\n",
       "      <th>mean</th>\n",
       "      <td>0.987658</td>\n",
       "    </tr>\n",
       "    <tr>\n",
       "      <th>std</th>\n",
       "      <td>0.700524</td>\n",
       "    </tr>\n",
       "    <tr>\n",
       "      <th>min</th>\n",
       "      <td>-0.419378</td>\n",
       "    </tr>\n",
       "    <tr>\n",
       "      <th>25%</th>\n",
       "      <td>0.473820</td>\n",
       "    </tr>\n",
       "    <tr>\n",
       "      <th>50%</th>\n",
       "      <td>1.050757</td>\n",
       "    </tr>\n",
       "    <tr>\n",
       "      <th>75%</th>\n",
       "      <td>1.370104</td>\n",
       "    </tr>\n",
       "    <tr>\n",
       "      <th>max</th>\n",
       "      <td>3.134625</td>\n",
       "    </tr>\n",
       "  </tbody>\n",
       "</table>\n",
       "</div>"
      ],
      "text/plain": [
       "            Output\n",
       "count  1075.000000\n",
       "mean      0.987658\n",
       "std       0.700524\n",
       "min      -0.419378\n",
       "25%       0.473820\n",
       "50%       1.050757\n",
       "75%       1.370104\n",
       "max       3.134625"
      ]
     },
     "execution_count": 7,
     "metadata": {},
     "output_type": "execute_result"
    }
   ],
   "source": [
    "df_raw.describe()"
   ]
  },
  {
   "cell_type": "markdown",
   "id": "numerous-titanium",
   "metadata": {},
   "source": [
    "One could also look at the distribution of the target variable:"
   ]
  },
  {
   "cell_type": "code",
   "execution_count": 8,
   "id": "inner-norman",
   "metadata": {},
   "outputs": [
    {
     "data": {
      "image/png": "[encoded data removed]",
      "text/plain": [
       "<Figure size 1008x504 with 1 Axes>"
      ]
     },
     "metadata": {},
     "output_type": "display_data"
    }
   ],
   "source": [
    "sns.displot(x=df_raw[\"Output\"], bins=20, height=7, aspect=2)\n",
    "plt.title(\"Distribution of output values\")\n",
    "plt.xlabel(\"Ouput value\")\n",
    "plt.show()"
   ]
  },
  {
   "cell_type": "markdown",
   "id": "186a39b9-d5b8-4e42-8b17-2fcf376314b4",
   "metadata": {},
   "source": [
    "The target variable looks to be roughly in the same magnitude and has an approximate gaussian distribution (with a slight tail), which is a good sign as this means that no further transformation is required for it."
   ]
  },
  {
   "cell_type": "markdown",
   "id": "engaging-battle",
   "metadata": {},
   "source": [
    "### Features"
   ]
  },
  {
   "cell_type": "markdown",
   "id": "severe-queens",
   "metadata": {},
   "source": [
    "Are there any \"na\" values?"
   ]
  },
  {
   "cell_type": "code",
   "execution_count": 9,
   "id": "broad-snapshot",
   "metadata": {
    "scrolled": true
   },
   "outputs": [
    {
     "name": "stdout",
     "output_type": "stream",
     "text": [
      "Success: No NA values found.\n"
     ]
    }
   ],
   "source": [
    "check_no_na(df_raw)"
   ]
  },
  {
   "cell_type": "markdown",
   "id": "median-latter",
   "metadata": {},
   "source": [
    "How many different molecules are there?"
   ]
  },
  {
   "cell_type": "code",
   "execution_count": 10,
   "id": "amber-aquarium",
   "metadata": {},
   "outputs": [
    {
     "data": {
      "text/html": [
       "<div>\n",
       "<style scoped>\n",
       "    .dataframe tbody tr th:only-of-type {\n",
       "        vertical-align: middle;\n",
       "    }\n",
       "\n",
       "    .dataframe tbody tr th {\n",
       "        vertical-align: top;\n",
       "    }\n",
       "\n",
       "    .dataframe thead th {\n",
       "        text-align: right;\n",
       "    }\n",
       "</style>\n",
       "<table border=\"1\" class=\"dataframe\">\n",
       "  <thead>\n",
       "    <tr style=\"text-align: right;\">\n",
       "      <th></th>\n",
       "      <th>Unique Catalysts</th>\n",
       "      <th>Unique Imines</th>\n",
       "      <th>Unique Thiols</th>\n",
       "    </tr>\n",
       "  </thead>\n",
       "  <tbody>\n",
       "    <tr>\n",
       "      <th>0</th>\n",
       "      <td>43</td>\n",
       "      <td>5</td>\n",
       "      <td>5</td>\n",
       "    </tr>\n",
       "  </tbody>\n",
       "</table>\n",
       "</div>"
      ],
      "text/plain": [
       "   Unique Catalysts  Unique Imines  Unique Thiols\n",
       "0                43              5              5"
      ]
     },
     "execution_count": 10,
     "metadata": {},
     "output_type": "execute_result"
    }
   ],
   "source": [
    "unique_catalysts=df_raw[\"Catalyst\"].unique()\n",
    "unique_imines=df_raw[\"Imine\"].unique()\n",
    "unique_thiols=df_raw[\"Thiol\"].unique()\n",
    "pd.DataFrame({\"Unique Catalysts\": [unique_catalysts.shape[0]], \"Unique Imines\": [unique_imines.shape[0]], \"Unique Thiols\": [unique_thiols.shape[0]]})"
   ]
  },
  {
   "cell_type": "markdown",
   "id": "general-overall",
   "metadata": {},
   "source": [
    "Here, one could use One-hot encoding for the Imines and Thiols. This idea was discarded since in the case another Thiol or Imine is added, one would have to retrain the model instead of being able to fine-tune it. "
   ]
  },
  {
   "cell_type": "markdown",
   "id": "placed-movement",
   "metadata": {},
   "source": [
    "Show 3 random different Catalysts:"
   ]
  },
  {
   "cell_type": "code",
   "execution_count": 11,
   "id": "correct-generation",
   "metadata": {},
   "outputs": [
    {
     "data": {
      "image/png": "[encoded data removed]",
      "text/plain": [
       "<IPython.core.display.Image object>"
      ]
     },
     "execution_count": 11,
     "metadata": {},
     "output_type": "execute_result"
    }
   ],
   "source": [
    "mol_list=[]\n",
    "unique_molecules=df_raw[\"Imine\"].unique()\n",
    "for i in range(3):\n",
    "    index=np.random.randint(0, unique_molecules.shape[0])\n",
    "    mol_list.append(Chem.MolFromSmiles(unique_molecules[index]))\n",
    "    unique_molecules=np.delete(unique_molecules,index)\n",
    "Draw.MolsToGridImage(mol_list)"
   ]
  },
  {
   "cell_type": "markdown",
   "id": "banner-edmonton",
   "metadata": {},
   "source": [
    "Show 3 random different Imine:"
   ]
  },
  {
   "cell_type": "code",
   "execution_count": 12,
   "id": "athletic-washington",
   "metadata": {},
   "outputs": [
    {
     "data": {
      "image/png": "[encoded data removed]",
      "text/plain": [
       "<IPython.core.display.Image object>"
      ]
     },
     "execution_count": 12,
     "metadata": {},
     "output_type": "execute_result"
    }
   ],
   "source": [
    "mol_list=[]\n",
    "unique_molecules=df_raw[\"Imine\"].unique()\n",
    "for i in range(3):\n",
    "    index=np.random.randint(0, unique_molecules.shape[0])\n",
    "    mol_list.append(Chem.MolFromSmiles(unique_molecules[index]))\n",
    "    unique_molecules=np.delete(unique_molecules,index)\n",
    "Draw.MolsToGridImage(mol_list)"
   ]
  },
  {
   "cell_type": "markdown",
   "id": "animated-weapon",
   "metadata": {},
   "source": [
    "Show 3 random different Thiol:"
   ]
  },
  {
   "cell_type": "code",
   "execution_count": 13,
   "id": "republican-business",
   "metadata": {},
   "outputs": [
    {
     "data": {
      "image/png": "[encoded data removed]",
      "text/plain": [
       "<IPython.core.display.Image object>"
      ]
     },
     "execution_count": 13,
     "metadata": {},
     "output_type": "execute_result"
    }
   ],
   "source": [
    "mol_list=[]\n",
    "unique_molecules=df_raw[\"Thiol\"].unique()\n",
    "for i in range(3):\n",
    "    index=np.random.randint(0, unique_molecules.shape[0])\n",
    "    mol_list.append(Chem.MolFromSmiles(unique_molecules[index]))\n",
    "    unique_molecules=np.delete(unique_molecules, index)\n",
    "Draw.MolsToGridImage(mol_list)"
   ]
  },
  {
   "cell_type": "markdown",
   "id": "common-finish",
   "metadata": {},
   "source": [
    "# Preprocessing"
   ]
  },
  {
   "cell_type": "markdown",
   "id": "thorough-switch",
   "metadata": {},
   "source": [
    "### Creating RDKit molecules"
   ]
  },
  {
   "cell_type": "markdown",
   "id": "after-germany",
   "metadata": {},
   "source": [
    "Translating the \"Catalyst\", the \"Imine\" and the \"Thiol\" columns from SMILES to a RDKit molecule:"
   ]
  },
  {
   "cell_type": "code",
   "execution_count": 14,
   "id": "confidential-teach",
   "metadata": {},
   "outputs": [
    {
     "data": {
      "text/html": [
       "<div>\n",
       "<style scoped>\n",
       "    .dataframe tbody tr th:only-of-type {\n",
       "        vertical-align: middle;\n",
       "    }\n",
       "\n",
       "    .dataframe tbody tr th {\n",
       "        vertical-align: top;\n",
       "    }\n",
       "\n",
       "    .dataframe thead th {\n",
       "        text-align: right;\n",
       "    }\n",
       "</style>\n",
       "<table border=\"1\" class=\"dataframe\">\n",
       "  <thead>\n",
       "    <tr style=\"text-align: right;\">\n",
       "      <th></th>\n",
       "      <th>Catalyst</th>\n",
       "      <th>Imine</th>\n",
       "      <th>Thiol</th>\n",
       "    </tr>\n",
       "  </thead>\n",
       "  <tbody>\n",
       "    <tr>\n",
       "      <th>0</th>\n",
       "      <td>&lt;rdkit.Chem.rdchem.Mol object at 0x7f72c1138df0&gt;</td>\n",
       "      <td>&lt;rdkit.Chem.rdchem.Mol object at 0x7f72c92ad170&gt;</td>\n",
       "      <td>&lt;rdkit.Chem.rdchem.Mol object at 0x7f72c11507b0&gt;</td>\n",
       "    </tr>\n",
       "    <tr>\n",
       "      <th>1</th>\n",
       "      <td>&lt;rdkit.Chem.rdchem.Mol object at 0x7f72c1138b70&gt;</td>\n",
       "      <td>&lt;rdkit.Chem.rdchem.Mol object at 0x7f72c1138b20&gt;</td>\n",
       "      <td>&lt;rdkit.Chem.rdchem.Mol object at 0x7f72c1150710&gt;</td>\n",
       "    </tr>\n",
       "    <tr>\n",
       "      <th>2</th>\n",
       "      <td>&lt;rdkit.Chem.rdchem.Mol object at 0x7f72c1138e40&gt;</td>\n",
       "      <td>&lt;rdkit.Chem.rdchem.Mol object at 0x7f72c1138c60&gt;</td>\n",
       "      <td>&lt;rdkit.Chem.rdchem.Mol object at 0x7f72c1165e90&gt;</td>\n",
       "    </tr>\n",
       "    <tr>\n",
       "      <th>3</th>\n",
       "      <td>&lt;rdkit.Chem.rdchem.Mol object at 0x7f72c1138e90&gt;</td>\n",
       "      <td>&lt;rdkit.Chem.rdchem.Mol object at 0x7f72c11506c0&gt;</td>\n",
       "      <td>&lt;rdkit.Chem.rdchem.Mol object at 0x7f72c1165e40&gt;</td>\n",
       "    </tr>\n",
       "    <tr>\n",
       "      <th>4</th>\n",
       "      <td>&lt;rdkit.Chem.rdchem.Mol object at 0x7f72c1138ee0&gt;</td>\n",
       "      <td>&lt;rdkit.Chem.rdchem.Mol object at 0x7f72c1150670&gt;</td>\n",
       "      <td>&lt;rdkit.Chem.rdchem.Mol object at 0x7f72c1165df0&gt;</td>\n",
       "    </tr>\n",
       "  </tbody>\n",
       "</table>\n",
       "</div>"
      ],
      "text/plain": [
       "                                           Catalyst  \\\n",
       "0  <rdkit.Chem.rdchem.Mol object at 0x7f72c1138df0>   \n",
       "1  <rdkit.Chem.rdchem.Mol object at 0x7f72c1138b70>   \n",
       "2  <rdkit.Chem.rdchem.Mol object at 0x7f72c1138e40>   \n",
       "3  <rdkit.Chem.rdchem.Mol object at 0x7f72c1138e90>   \n",
       "4  <rdkit.Chem.rdchem.Mol object at 0x7f72c1138ee0>   \n",
       "\n",
       "                                              Imine  \\\n",
       "0  <rdkit.Chem.rdchem.Mol object at 0x7f72c92ad170>   \n",
       "1  <rdkit.Chem.rdchem.Mol object at 0x7f72c1138b20>   \n",
       "2  <rdkit.Chem.rdchem.Mol object at 0x7f72c1138c60>   \n",
       "3  <rdkit.Chem.rdchem.Mol object at 0x7f72c11506c0>   \n",
       "4  <rdkit.Chem.rdchem.Mol object at 0x7f72c1150670>   \n",
       "\n",
       "                                              Thiol  \n",
       "0  <rdkit.Chem.rdchem.Mol object at 0x7f72c11507b0>  \n",
       "1  <rdkit.Chem.rdchem.Mol object at 0x7f72c1150710>  \n",
       "2  <rdkit.Chem.rdchem.Mol object at 0x7f72c1165e90>  \n",
       "3  <rdkit.Chem.rdchem.Mol object at 0x7f72c1165e40>  \n",
       "4  <rdkit.Chem.rdchem.Mol object at 0x7f72c1165df0>  "
      ]
     },
     "execution_count": 14,
     "metadata": {},
     "output_type": "execute_result"
    }
   ],
   "source": [
    "df_X=df_raw[[\"Catalyst\", \"Imine\", \"Thiol\"]].applymap(Chem.MolFromSmiles)\n",
    "df_y=df_raw[\"Output\"]\n",
    "df_X.head()"
   ]
  },
  {
   "cell_type": "markdown",
   "id": "black-hartford",
   "metadata": {},
   "source": [
    "Verifying that all the smiles transfered successfuly. The RDKit documentaton states:\n",
    "\n",
    ">or None on failure:\n",
    ">\n",
    ">> ```m = Chem.MolFromMolFile('data/invalid.mol')```\n",
    ">>\n",
    ">> ```m is None```\n",
    ">\n",
    ">True\n",
    "\n",
    "So the \"na\" instances are counted and should be 0 if no problems were encountered:"
   ]
  },
  {
   "cell_type": "code",
   "execution_count": 15,
   "id": "nominated-impact",
   "metadata": {},
   "outputs": [
    {
     "name": "stdout",
     "output_type": "stream",
     "text": [
      "Success: No NA values found.\n"
     ]
    }
   ],
   "source": [
    "check_no_na(df_X)"
   ]
  },
  {
   "cell_type": "markdown",
   "id": "e2d69f38-6b98-400e-84d2-e9000d91b498",
   "metadata": {},
   "source": [
    "The train/test ratio was chosen arbitrarily. This could eventually be added as a hyperparameter to find an optimum as has been done [here](https://www.sciencedirect.com/science/article/pii/S2451929420300851). "
   ]
  },
  {
   "cell_type": "code",
   "execution_count": 16,
   "id": "assumed-server",
   "metadata": {},
   "outputs": [],
   "source": [
    "X_train, X_test, y_train, y_test=train_test_split(df_X.to_numpy(), df_y.to_numpy(), train_size=0.75)"
   ]
  },
  {
   "cell_type": "markdown",
   "id": "preceding-order",
   "metadata": {},
   "source": [
    "For later on, Morgan fingerprints will be used. In order to try and search for the best parameters for these molecules, the atom radius and the number of bits used will be searched using grid search."
   ]
  },
  {
   "cell_type": "markdown",
   "id": "90867f01-4819-45e1-bdc6-c922c1b39fcb",
   "metadata": {},
   "source": [
    "Late addition. This will take out the morgan fingerprints parameters from the models if the (until now) found hyperparameters are not too "
   ]
  },
  {
   "cell_type": "markdown",
   "id": "e4a57c6d-9af2-4c09-b421-ac913c575d89",
   "metadata": {
    "tags": []
   },
   "source": [
    "### Pipeline"
   ]
  },
  {
   "cell_type": "markdown",
   "id": "7b9737af-e5e1-450f-b3be-15c99dceede4",
   "metadata": {},
   "source": [
    "Here, in order to later use SKlearn's ```CVGridSearch```, a custom pipeline will be built in order to be able to find the ideal hyperparameters. First step: creating a custom transformer to be used in the pipeline, in order to use RDKit's ```GetMorganFingerprint```'s parameters as hyperparameters for the model."
   ]
  },
  {
   "cell_type": "markdown",
   "id": "e460227b-0fe2-40e3-9525-4c0bb3c4d5d5",
   "metadata": {},
   "source": [
    "ridge_search.best_estimator_A similar pipeline template will be used for later trials, using the same functions. Although it is intuitive to assume that the same fingerprint parameters should be used for every model, the ```n_bits``` and the ```n_atom``` hyperparameters should be computed in order to verify that this hypothesis holds for different models."
   ]
  },
  {
   "cell_type": "markdown",
   "id": "73fe9c01-6852-4621-b822-7ebaaa6a69cd",
   "metadata": {},
   "source": [
    "Personal note: As this is the first time I work with molecules, my first thought was to build a simple ridge regressor and try to give it a morgan fingerprint as input. This is probably not viable since the number of parameters used is too great. Later on, the idea would be to add descriptors into the features, potentially using TF's functional API."
   ]
  },
  {
   "cell_type": "code",
   "execution_count": 17,
   "id": "d9488e89-c6c3-44f2-a2c9-46ea0d3ddffe",
   "metadata": {},
   "outputs": [],
   "source": [
    "def morgan_fp(X, n_bits, n_atom):\n",
    "    \"\"\"Returns numpy array with bits from morgan fingerprint\"\"\"\n",
    "    fp=AllChem.GetMorganFingerprintAsBitVect(X,int(n_atom), nBits=int(n_bits))\n",
    "    arr = np.zeros((0,), dtype=np.int8)\n",
    "    DataStructs.ConvertToNumpyArray(fp,arr)\n",
    "    return arr\n",
    "\n",
    "class fingerprinter(BaseEstimator, TransformerMixin):\n",
    "    def __init__(self, n_bits=1024, n_atom=2):\n",
    "        self.n_bits = n_bits # int necessary, otherwise rdkit c++ library doesn't play along\n",
    "        self.n_atom = n_atom\n",
    "    def fit(self, X, y=None):\n",
    "        return self\n",
    "    def transform(self, X):\n",
    "        \n",
    "        new_X=np.array([])\n",
    "        for row in X:\n",
    "            new_row=np.array([])\n",
    "            for element in row:\n",
    "                fp=morgan_fp(element, self.n_bits, self.n_atom)\n",
    "                new_row=np.append(new_row, fp, 0)\n",
    "            #new_row=new_row.reshape((df_X.shape[1],-1))\n",
    "            new_X=np.append(new_X, new_row)\n",
    "            new_X=new_X.reshape([-1, new_row.shape[0]])\n",
    "        return new_X\n",
    "#fingerprinter([2,3,4][0], np.linspace(1000, 5000, 10, dtype=int)[0]).transform(X_train)"
   ]
  },
  {
   "cell_type": "markdown",
   "id": "13ef9e7c-eb6a-48a9-b6d7-46a87346f448",
   "metadata": {},
   "source": [
    "Now, the first pipeline can be created:"
   ]
  },
  {
   "cell_type": "code",
   "execution_count": 18,
   "id": "43773639-5971-4559-b62f-75757d9f7ebe",
   "metadata": {},
   "outputs": [],
   "source": [
    "pipe = Pipeline([( \"fingerprinter\" , fingerprinter()),\n",
    "                       (\"ridge\",Ridge())])"
   ]
  },
  {
   "cell_type": "markdown",
   "id": "0471b827-df6f-410a-bdcc-d6ed6d9dce26",
   "metadata": {},
   "source": [
    "Parameter grid, to be fed into the grid search algorithm to find the optimal hyperparameters using cross-validation in order to reduce any biais that could be introduced by the shuffling."
   ]
  },
  {
   "cell_type": "code",
   "execution_count": 19,
   "id": "f01a69be-22f0-4b18-9561-37edecd38028",
   "metadata": {},
   "outputs": [
    {
     "data": {
      "text/plain": [
       "{'fingerprinter__n_bits': array([1500, 1666, 1833, 2000, 2166, 2333, 2500, 2666, 2833, 3000]),\n",
       " 'fingerprinter__n_atom': array([2, 3, 4]),\n",
       " 'ridge__alpha': array([1.00000000e-03, 4.64158883e-03, 2.15443469e-02, 1.00000000e-01,\n",
       "        4.64158883e-01, 2.15443469e+00, 1.00000000e+01, 4.64158883e+01,\n",
       "        2.15443469e+02, 1.00000000e+03])}"
      ]
     },
     "execution_count": 19,
     "metadata": {},
     "output_type": "execute_result"
    }
   ],
   "source": [
    "#param_grid={\"fingerprinter__n_bits\":np.logspace(3, 4, 10, dtype=int), \"fingerprinter__n_atom\":np.arange(1, 4, 1), \"ridge__alpha\":np.logspace(0, 2, 4)}\n",
    "#param_grid={\"fingerprinter__n_bits\": np.linspace(1000, 5000, 10, dtype=int), \"fingerprinter__n_atom\":np.array([2, 3, 4]), \"ridge__alpha\":np.logspace(-3, 1, 5)}\n",
    "param_grid={\"fingerprinter__n_bits\": np.linspace(1500, 3000, 10, dtype=int), \"fingerprinter__n_atom\":np.array([2,3,4]), \"ridge__alpha\":np.logspace(-3, 3, 10)}\n",
    "param_grid"
   ]
  },
  {
   "cell_type": "markdown",
   "id": "7c09e7a0-8454-4316-8152-1f0f49062b0c",
   "metadata": {},
   "source": [
    "The train/test ratio was chosen arbitrarily. This could eventually be added as a hyperparameter to find an optimum as has been done [here](https://www.sciencedirect.com/science/article/pii/S2451929420300851). "
   ]
  },
  {
   "cell_type": "code",
   "execution_count": 20,
   "id": "a448a0a1-9e0c-468c-b295-636e2afd9bb5",
   "metadata": {},
   "outputs": [],
   "source": [
    "X_train, X_test, y_train, y_test=train_test_split(df_X.to_numpy(), df_y.to_numpy(), train_size=0.75)"
   ]
  },
  {
   "cell_type": "markdown",
   "id": "1ca61eca-7760-4d48-a60f-064fcd94cfe6",
   "metadata": {},
   "source": [
    "The default cross-validation of 5-fold were chosen, as the available computational power is relatively low."
   ]
  },
  {
   "cell_type": "markdown",
   "id": "0046896d-ead6-4a97-9882-3a41ffa1bc2f",
   "metadata": {},
   "source": [
    "### Fitting"
   ]
  },
  {
   "cell_type": "code",
   "execution_count": 21,
   "id": "cb13b21c-637b-489a-aadc-60a9c07e8c43",
   "metadata": {},
   "outputs": [
    {
     "name": "stdout",
     "output_type": "stream",
     "text": [
      "Fitting 5 folds for each of 300 candidates, totalling 1500 fits\n"
     ]
    },
    {
     "ename": "KeyboardInterrupt",
     "evalue": "",
     "output_type": "error",
     "traceback": [
      "\u001b[0;31m---------------------------------------------------------------------------\u001b[0m",
      "\u001b[0;31mKeyboardInterrupt\u001b[0m                         Traceback (most recent call last)",
      "\u001b[0;32m<ipython-input-21-87a7a1752aaa>\u001b[0m in \u001b[0;36m<module>\u001b[0;34m\u001b[0m\n\u001b[1;32m      1\u001b[0m \u001b[0mridge_search\u001b[0m \u001b[0;34m=\u001b[0m \u001b[0mGridSearchCV\u001b[0m\u001b[0;34m(\u001b[0m\u001b[0mpipe\u001b[0m\u001b[0;34m,\u001b[0m \u001b[0mparam_grid\u001b[0m\u001b[0;34m,\u001b[0m \u001b[0mn_jobs\u001b[0m\u001b[0;34m=\u001b[0m\u001b[0;34m-\u001b[0m\u001b[0;36m1\u001b[0m\u001b[0;34m,\u001b[0m \u001b[0mverbose\u001b[0m\u001b[0;34m=\u001b[0m\u001b[0;36m3\u001b[0m\u001b[0;34m)\u001b[0m\u001b[0;34m\u001b[0m\u001b[0;34m\u001b[0m\u001b[0m\n\u001b[0;32m----> 2\u001b[0;31m \u001b[0mridge_search\u001b[0m\u001b[0;34m.\u001b[0m\u001b[0mfit\u001b[0m\u001b[0;34m(\u001b[0m\u001b[0mX_train\u001b[0m\u001b[0;34m,\u001b[0m \u001b[0my_train\u001b[0m\u001b[0;34m)\u001b[0m\u001b[0;34m\u001b[0m\u001b[0;34m\u001b[0m\u001b[0m\n\u001b[0m",
      "\u001b[0;32m~/miniconda3/lib/python3.8/site-packages/sklearn/model_selection/_search.py\u001b[0m in \u001b[0;36mfit\u001b[0;34m(self, X, y, groups, **fit_params)\u001b[0m\n\u001b[1;32m    873\u001b[0m                 \u001b[0;32mreturn\u001b[0m \u001b[0mresults\u001b[0m\u001b[0;34m\u001b[0m\u001b[0;34m\u001b[0m\u001b[0m\n\u001b[1;32m    874\u001b[0m \u001b[0;34m\u001b[0m\u001b[0m\n\u001b[0;32m--> 875\u001b[0;31m             \u001b[0mself\u001b[0m\u001b[0;34m.\u001b[0m\u001b[0m_run_search\u001b[0m\u001b[0;34m(\u001b[0m\u001b[0mevaluate_candidates\u001b[0m\u001b[0;34m)\u001b[0m\u001b[0;34m\u001b[0m\u001b[0;34m\u001b[0m\u001b[0m\n\u001b[0m\u001b[1;32m    876\u001b[0m \u001b[0;34m\u001b[0m\u001b[0m\n\u001b[1;32m    877\u001b[0m             \u001b[0;31m# multimetric is determined here because in the case of a callable\u001b[0m\u001b[0;34m\u001b[0m\u001b[0;34m\u001b[0m\u001b[0;34m\u001b[0m\u001b[0m\n",
      "\u001b[0;32m~/miniconda3/lib/python3.8/site-packages/sklearn/model_selection/_search.py\u001b[0m in \u001b[0;36m_run_search\u001b[0;34m(self, evaluate_candidates)\u001b[0m\n\u001b[1;32m   1373\u001b[0m     \u001b[0;32mdef\u001b[0m \u001b[0m_run_search\u001b[0m\u001b[0;34m(\u001b[0m\u001b[0mself\u001b[0m\u001b[0;34m,\u001b[0m \u001b[0mevaluate_candidates\u001b[0m\u001b[0;34m)\u001b[0m\u001b[0;34m:\u001b[0m\u001b[0;34m\u001b[0m\u001b[0;34m\u001b[0m\u001b[0m\n\u001b[1;32m   1374\u001b[0m         \u001b[0;34m\"\"\"Search all candidates in param_grid\"\"\"\u001b[0m\u001b[0;34m\u001b[0m\u001b[0;34m\u001b[0m\u001b[0m\n\u001b[0;32m-> 1375\u001b[0;31m         \u001b[0mevaluate_candidates\u001b[0m\u001b[0;34m(\u001b[0m\u001b[0mParameterGrid\u001b[0m\u001b[0;34m(\u001b[0m\u001b[0mself\u001b[0m\u001b[0;34m.\u001b[0m\u001b[0mparam_grid\u001b[0m\u001b[0;34m)\u001b[0m\u001b[0;34m)\u001b[0m\u001b[0;34m\u001b[0m\u001b[0;34m\u001b[0m\u001b[0m\n\u001b[0m\u001b[1;32m   1376\u001b[0m \u001b[0;34m\u001b[0m\u001b[0m\n\u001b[1;32m   1377\u001b[0m \u001b[0;34m\u001b[0m\u001b[0m\n",
      "\u001b[0;32m~/miniconda3/lib/python3.8/site-packages/sklearn/model_selection/_search.py\u001b[0m in \u001b[0;36mevaluate_candidates\u001b[0;34m(candidate_params, cv, more_results)\u001b[0m\n\u001b[1;32m    820\u001b[0m                     )\n\u001b[1;32m    821\u001b[0m \u001b[0;34m\u001b[0m\u001b[0m\n\u001b[0;32m--> 822\u001b[0;31m                 out = parallel(\n\u001b[0m\u001b[1;32m    823\u001b[0m                     delayed(_fit_and_score)(\n\u001b[1;32m    824\u001b[0m                         \u001b[0mclone\u001b[0m\u001b[0;34m(\u001b[0m\u001b[0mbase_estimator\u001b[0m\u001b[0;34m)\u001b[0m\u001b[0;34m,\u001b[0m\u001b[0;34m\u001b[0m\u001b[0;34m\u001b[0m\u001b[0m\n",
      "\u001b[0;32m~/miniconda3/lib/python3.8/site-packages/joblib/parallel.py\u001b[0m in \u001b[0;36m__call__\u001b[0;34m(self, iterable)\u001b[0m\n\u001b[1;32m   1054\u001b[0m \u001b[0;34m\u001b[0m\u001b[0m\n\u001b[1;32m   1055\u001b[0m             \u001b[0;32mwith\u001b[0m \u001b[0mself\u001b[0m\u001b[0;34m.\u001b[0m\u001b[0m_backend\u001b[0m\u001b[0;34m.\u001b[0m\u001b[0mretrieval_context\u001b[0m\u001b[0;34m(\u001b[0m\u001b[0;34m)\u001b[0m\u001b[0;34m:\u001b[0m\u001b[0;34m\u001b[0m\u001b[0;34m\u001b[0m\u001b[0m\n\u001b[0;32m-> 1056\u001b[0;31m                 \u001b[0mself\u001b[0m\u001b[0;34m.\u001b[0m\u001b[0mretrieve\u001b[0m\u001b[0;34m(\u001b[0m\u001b[0;34m)\u001b[0m\u001b[0;34m\u001b[0m\u001b[0;34m\u001b[0m\u001b[0m\n\u001b[0m\u001b[1;32m   1057\u001b[0m             \u001b[0;31m# Make sure that we get a last message telling us we are done\u001b[0m\u001b[0;34m\u001b[0m\u001b[0;34m\u001b[0m\u001b[0;34m\u001b[0m\u001b[0m\n\u001b[1;32m   1058\u001b[0m             \u001b[0melapsed_time\u001b[0m \u001b[0;34m=\u001b[0m \u001b[0mtime\u001b[0m\u001b[0;34m.\u001b[0m\u001b[0mtime\u001b[0m\u001b[0;34m(\u001b[0m\u001b[0;34m)\u001b[0m \u001b[0;34m-\u001b[0m \u001b[0mself\u001b[0m\u001b[0;34m.\u001b[0m\u001b[0m_start_time\u001b[0m\u001b[0;34m\u001b[0m\u001b[0;34m\u001b[0m\u001b[0m\n",
      "\u001b[0;32m~/miniconda3/lib/python3.8/site-packages/joblib/parallel.py\u001b[0m in \u001b[0;36mretrieve\u001b[0;34m(self)\u001b[0m\n\u001b[1;32m    933\u001b[0m             \u001b[0;32mtry\u001b[0m\u001b[0;34m:\u001b[0m\u001b[0;34m\u001b[0m\u001b[0;34m\u001b[0m\u001b[0m\n\u001b[1;32m    934\u001b[0m                 \u001b[0;32mif\u001b[0m \u001b[0mgetattr\u001b[0m\u001b[0;34m(\u001b[0m\u001b[0mself\u001b[0m\u001b[0;34m.\u001b[0m\u001b[0m_backend\u001b[0m\u001b[0;34m,\u001b[0m \u001b[0;34m'supports_timeout'\u001b[0m\u001b[0;34m,\u001b[0m \u001b[0;32mFalse\u001b[0m\u001b[0;34m)\u001b[0m\u001b[0;34m:\u001b[0m\u001b[0;34m\u001b[0m\u001b[0;34m\u001b[0m\u001b[0m\n\u001b[0;32m--> 935\u001b[0;31m                     \u001b[0mself\u001b[0m\u001b[0;34m.\u001b[0m\u001b[0m_output\u001b[0m\u001b[0;34m.\u001b[0m\u001b[0mextend\u001b[0m\u001b[0;34m(\u001b[0m\u001b[0mjob\u001b[0m\u001b[0;34m.\u001b[0m\u001b[0mget\u001b[0m\u001b[0;34m(\u001b[0m\u001b[0mtimeout\u001b[0m\u001b[0;34m=\u001b[0m\u001b[0mself\u001b[0m\u001b[0;34m.\u001b[0m\u001b[0mtimeout\u001b[0m\u001b[0;34m)\u001b[0m\u001b[0;34m)\u001b[0m\u001b[0;34m\u001b[0m\u001b[0;34m\u001b[0m\u001b[0m\n\u001b[0m\u001b[1;32m    936\u001b[0m                 \u001b[0;32melse\u001b[0m\u001b[0;34m:\u001b[0m\u001b[0;34m\u001b[0m\u001b[0;34m\u001b[0m\u001b[0m\n\u001b[1;32m    937\u001b[0m                     \u001b[0mself\u001b[0m\u001b[0;34m.\u001b[0m\u001b[0m_output\u001b[0m\u001b[0;34m.\u001b[0m\u001b[0mextend\u001b[0m\u001b[0;34m(\u001b[0m\u001b[0mjob\u001b[0m\u001b[0;34m.\u001b[0m\u001b[0mget\u001b[0m\u001b[0;34m(\u001b[0m\u001b[0;34m)\u001b[0m\u001b[0;34m)\u001b[0m\u001b[0;34m\u001b[0m\u001b[0;34m\u001b[0m\u001b[0m\n",
      "\u001b[0;32m~/miniconda3/lib/python3.8/site-packages/joblib/_parallel_backends.py\u001b[0m in \u001b[0;36mwrap_future_result\u001b[0;34m(future, timeout)\u001b[0m\n\u001b[1;32m    540\u001b[0m         AsyncResults.get from multiprocessing.\"\"\"\n\u001b[1;32m    541\u001b[0m         \u001b[0;32mtry\u001b[0m\u001b[0;34m:\u001b[0m\u001b[0;34m\u001b[0m\u001b[0;34m\u001b[0m\u001b[0m\n\u001b[0;32m--> 542\u001b[0;31m             \u001b[0;32mreturn\u001b[0m \u001b[0mfuture\u001b[0m\u001b[0;34m.\u001b[0m\u001b[0mresult\u001b[0m\u001b[0;34m(\u001b[0m\u001b[0mtimeout\u001b[0m\u001b[0;34m=\u001b[0m\u001b[0mtimeout\u001b[0m\u001b[0;34m)\u001b[0m\u001b[0;34m\u001b[0m\u001b[0;34m\u001b[0m\u001b[0m\n\u001b[0m\u001b[1;32m    543\u001b[0m         \u001b[0;32mexcept\u001b[0m \u001b[0mCfTimeoutError\u001b[0m \u001b[0;32mas\u001b[0m \u001b[0me\u001b[0m\u001b[0;34m:\u001b[0m\u001b[0;34m\u001b[0m\u001b[0;34m\u001b[0m\u001b[0m\n\u001b[1;32m    544\u001b[0m             \u001b[0;32mraise\u001b[0m \u001b[0mTimeoutError\u001b[0m \u001b[0;32mfrom\u001b[0m \u001b[0me\u001b[0m\u001b[0;34m\u001b[0m\u001b[0;34m\u001b[0m\u001b[0m\n",
      "\u001b[0;32m~/miniconda3/lib/python3.8/concurrent/futures/_base.py\u001b[0m in \u001b[0;36mresult\u001b[0;34m(self, timeout)\u001b[0m\n\u001b[1;32m    432\u001b[0m                 \u001b[0;32mreturn\u001b[0m \u001b[0mself\u001b[0m\u001b[0;34m.\u001b[0m\u001b[0m__get_result\u001b[0m\u001b[0;34m(\u001b[0m\u001b[0;34m)\u001b[0m\u001b[0;34m\u001b[0m\u001b[0;34m\u001b[0m\u001b[0m\n\u001b[1;32m    433\u001b[0m \u001b[0;34m\u001b[0m\u001b[0m\n\u001b[0;32m--> 434\u001b[0;31m             \u001b[0mself\u001b[0m\u001b[0;34m.\u001b[0m\u001b[0m_condition\u001b[0m\u001b[0;34m.\u001b[0m\u001b[0mwait\u001b[0m\u001b[0;34m(\u001b[0m\u001b[0mtimeout\u001b[0m\u001b[0;34m)\u001b[0m\u001b[0;34m\u001b[0m\u001b[0;34m\u001b[0m\u001b[0m\n\u001b[0m\u001b[1;32m    435\u001b[0m \u001b[0;34m\u001b[0m\u001b[0m\n\u001b[1;32m    436\u001b[0m             \u001b[0;32mif\u001b[0m \u001b[0mself\u001b[0m\u001b[0;34m.\u001b[0m\u001b[0m_state\u001b[0m \u001b[0;32min\u001b[0m \u001b[0;34m[\u001b[0m\u001b[0mCANCELLED\u001b[0m\u001b[0;34m,\u001b[0m \u001b[0mCANCELLED_AND_NOTIFIED\u001b[0m\u001b[0;34m]\u001b[0m\u001b[0;34m:\u001b[0m\u001b[0;34m\u001b[0m\u001b[0;34m\u001b[0m\u001b[0m\n",
      "\u001b[0;32m~/miniconda3/lib/python3.8/threading.py\u001b[0m in \u001b[0;36mwait\u001b[0;34m(self, timeout)\u001b[0m\n\u001b[1;32m    300\u001b[0m         \u001b[0;32mtry\u001b[0m\u001b[0;34m:\u001b[0m    \u001b[0;31m# restore state no matter what (e.g., KeyboardInterrupt)\u001b[0m\u001b[0;34m\u001b[0m\u001b[0;34m\u001b[0m\u001b[0m\n\u001b[1;32m    301\u001b[0m             \u001b[0;32mif\u001b[0m \u001b[0mtimeout\u001b[0m \u001b[0;32mis\u001b[0m \u001b[0;32mNone\u001b[0m\u001b[0;34m:\u001b[0m\u001b[0;34m\u001b[0m\u001b[0;34m\u001b[0m\u001b[0m\n\u001b[0;32m--> 302\u001b[0;31m                 \u001b[0mwaiter\u001b[0m\u001b[0;34m.\u001b[0m\u001b[0macquire\u001b[0m\u001b[0;34m(\u001b[0m\u001b[0;34m)\u001b[0m\u001b[0;34m\u001b[0m\u001b[0;34m\u001b[0m\u001b[0m\n\u001b[0m\u001b[1;32m    303\u001b[0m                 \u001b[0mgotit\u001b[0m \u001b[0;34m=\u001b[0m \u001b[0;32mTrue\u001b[0m\u001b[0;34m\u001b[0m\u001b[0;34m\u001b[0m\u001b[0m\n\u001b[1;32m    304\u001b[0m             \u001b[0;32melse\u001b[0m\u001b[0;34m:\u001b[0m\u001b[0;34m\u001b[0m\u001b[0;34m\u001b[0m\u001b[0m\n",
      "\u001b[0;31mKeyboardInterrupt\u001b[0m: "
     ]
    }
   ],
   "source": [
    "ridge_search = GridSearchCV(pipe, param_grid, n_jobs=-1, verbose=3)\n",
    "ridge_search.fit(X_train, y_train)"
   ]
  },
  {
   "cell_type": "code",
   "execution_count": null,
   "id": "1db7cc28-a5f1-4deb-b19c-d7cfd303441b",
   "metadata": {},
   "outputs": [],
   "source": [
    "print(\" Results from Grid Search \" )\n",
    "print(\"\\n The best estimator across ALL searched params:\\n\",ridge_search.best_estimator_)\n",
    "print(\"\\n The best TRAIN score (R^2) across ALL searched params:\\n\",ridge_search.best_score_)\n",
    "print(\"\\n The TEST MAE of the best estimator:\\n\",mean_absolute_error(ridge_search.best_estimator_.predict(X_test), y_test))\n",
    "print(\"\\n The TEST MSE of the best estimator:\\n\",mean_squared_error(ridge_search.best_estimator_.predict(X_test), y_test))\n",
    "print(\"\\n The best parameters across ALL searched params:\\n\",ridge_search.best_params_)"
   ]
  },
  {
   "cell_type": "code",
   "execution_count": null,
   "id": "96474f17-76ae-4994-a4b8-fe4a81825a5d",
   "metadata": {},
   "outputs": [],
   "source": [
    "ridge_search.best_params_"
   ]
  },
  {
   "cell_type": "markdown",
   "id": "c00bece4-976f-4834-8e4e-c81637725301",
   "metadata": {},
   "source": [
    "Looking at the relative distributions of the predicted output vs the target output: "
   ]
  },
  {
   "cell_type": "code",
   "execution_count": null,
   "id": "ab9ed9f1-a5ee-439b-90ce-8ea154e3ac63",
   "metadata": {},
   "outputs": [],
   "source": [
    "plot_joint(ridge_search.best_estimator_.predict(X_test), name=\"Ridge\");"
   ]
  },
  {
   "cell_type": "markdown",
   "id": "pending-dubai",
   "metadata": {
    "tags": []
   },
   "source": [
    "# Ridge regression"
   ]
  },
  {
   "cell_type": "markdown",
   "id": "2d939d86-13e6-485e-8f0b-87e501feaa5f",
   "metadata": {},
   "source": [
    "Ridge was chosen instead of linear regression in order to avoid overfitting the model. A linear regression with only the morgan fingerprint parameters to optimize with ```GridSearchCV``` could be considered, removing the need to optimize for morgan fingerprints. Nevertheless, This would be a good addition for the future. One detail that could cause problems is that a bigger fingerprint will be prefered, with only marginally better results but a significantly worse performance."
   ]
  },
  {
   "cell_type": "markdown",
   "id": "dcfa3ca5-1055-48f5-aa17-bc4db13afbe9",
   "metadata": {
    "tags": []
   },
   "source": [
    "### Pipeline"
   ]
  },
  {
   "cell_type": "markdown",
   "id": "preceding-forward",
   "metadata": {},
   "source": [
    "Here, in order to later use SKlearn's ```CVGridSearch```, a custom pipeline will be built in order to be able to find the ideal hyperparameters. First step: creating a custom transformer to be used in the pipeline, in order to use RDKit's ```GetMorganFingerprint```'s parameters as hyperparameters for the model."
   ]
  },
  {
   "cell_type": "markdown",
   "id": "06e1517f-d256-4625-86c4-33fa933e3655",
   "metadata": {},
   "source": [
    "ridge_search.best_estimator_A similar pipeline template will be used for later trials, using the same functions. Although it is intuitive to assume that the same fingerprint parameters should be used for every model, the ```n_bits``` and the ```n_atom``` hyperparameters should be computed in order to verify that this hypothesis holds for different models."
   ]
  },
  {
   "cell_type": "markdown",
   "id": "d8b5cb9b-1410-40e9-add2-3f5af3d4afc2",
   "metadata": {},
   "source": [
    "Personal note: As this is the first time I work with molecules, my first thought was to build a simple ridge regressor and try to give it a morgan fingerprint as input. This is probably not viable since the number of parameters used is too great. Later on, the idea would be to add descriptors into the features, potentially using TF's functional API."
   ]
  },
  {
   "cell_type": "code",
   "execution_count": 22,
   "id": "disturbed-opening",
   "metadata": {},
   "outputs": [],
   "source": [
    "def morgan_fp(X, n_bits, n_atom):\n",
    "    \"\"\"Returns numpy array with bits from morgan fingerprint\"\"\"\n",
    "    fp=AllChem.GetMorganFingerprintAsBitVect(X,int(n_atom), nBits=int(n_bits))\n",
    "    arr = np.zeros((0,), dtype=np.int8)\n",
    "    DataStructs.ConvertToNumpyArray(fp,arr)\n",
    "    return arr\n",
    "\n",
    "class fingerprinter(BaseEstimator, TransformerMixin):\n",
    "    def __init__(self, n_bits=1024, n_atom=2):\n",
    "        self.n_bits = n_bits # int necessary, otherwise rdkit c++ library doesn't play along\n",
    "        self.n_atom = n_atom\n",
    "    def fit(self, X, y=None):\n",
    "        return self\n",
    "    def transform(self, X):\n",
    "        \n",
    "        new_X=np.array([])\n",
    "        for row in X:\n",
    "            new_row=np.array([])\n",
    "            for element in row:\n",
    "                fp=morgan_fp(element, self.n_bits, self.n_atom)\n",
    "                new_row=np.append(new_row, fp, 0)\n",
    "            #new_row=new_row.reshape((df_X.shape[1],-1))\n",
    "            new_X=np.append(new_X, new_row)\n",
    "            new_X=new_X.reshape([-1, new_row.shape[0]])\n",
    "        return new_X\n",
    "#fingerprinter([2,3,4][0], np.linspace(1000, 5000, 10, dtype=int)[0]).transform(X_train)"
   ]
  },
  {
   "cell_type": "markdown",
   "id": "headed-contemporary",
   "metadata": {},
   "source": [
    "Now, the first pipeline can be created:"
   ]
  },
  {
   "cell_type": "code",
   "execution_count": 23,
   "id": "unexpected-collective",
   "metadata": {},
   "outputs": [],
   "source": [
    "pipe = Pipeline([( \"fingerprinter\" , fingerprinter()),\n",
    "                       (\"ridge\",Ridge())])"
   ]
  },
  {
   "cell_type": "markdown",
   "id": "e14eee80-0a3f-44f6-899c-ea5834c6dea5",
   "metadata": {},
   "source": [
    "Parameter grid, to be fed into the grid search algorithm to find the optimal hyperparameters using cross-validation in order to reduce any biais that could be introduced by the shuffling."
   ]
  },
  {
   "cell_type": "code",
   "execution_count": 24,
   "id": "focused-centre",
   "metadata": {},
   "outputs": [
    {
     "data": {
      "text/plain": [
       "{'fingerprinter__n_bits': array([1500, 1666, 1833, 2000, 2166, 2333, 2500, 2666, 2833, 3000]),\n",
       " 'fingerprinter__n_atom': array([2, 3, 4]),\n",
       " 'ridge__alpha': array([1.00000000e-03, 4.64158883e-03, 2.15443469e-02, 1.00000000e-01,\n",
       "        4.64158883e-01, 2.15443469e+00, 1.00000000e+01, 4.64158883e+01,\n",
       "        2.15443469e+02, 1.00000000e+03])}"
      ]
     },
     "execution_count": 24,
     "metadata": {},
     "output_type": "execute_result"
    }
   ],
   "source": [
    "#param_grid={\"fingerprinter__n_bits\":np.logspace(3, 4, 10, dtype=int), \"fingerprinter__n_atom\":np.arange(1, 4, 1), \"ridge__alpha\":np.logspace(0, 2, 4)}\n",
    "#param_grid={\"fingerprinter__n_bits\": np.linspace(1000, 5000, 10, dtype=int), \"fingerprinter__n_atom\":np.array([2, 3, 4]), \"ridge__alpha\":np.logspace(-3, 1, 5)}\n",
    "param_grid={\"fingerprinter__n_bits\": np.linspace(1500, 3000, 10, dtype=int), \"fingerprinter__n_atom\":np.array([2,3,4]), \"ridge__alpha\":np.logspace(-3, 3, 10)}\n",
    "param_grid"
   ]
  },
  {
   "cell_type": "markdown",
   "id": "000a9521-0a86-4c88-9747-3af5a2b810fb",
   "metadata": {},
   "source": [
    "The default cross-validation of 5-fold were chosen, as the available computational power is relatively low."
   ]
  },
  {
   "cell_type": "markdown",
   "id": "c563a2cf-853a-4c1c-a682-3338c453640d",
   "metadata": {},
   "source": [
    "### Fitting"
   ]
  },
  {
   "cell_type": "code",
   "execution_count": 25,
   "id": "rental-timing",
   "metadata": {},
   "outputs": [
    {
     "name": "stdout",
     "output_type": "stream",
     "text": [
      "Fitting 5 folds for each of 300 candidates, totalling 1500 fits\n",
      "--- 1674.523609161377 seconds ---\n"
     ]
    }
   ],
   "source": [
    "ridge_search = GridSearchCV(pipe, param_grid, n_jobs=-1, verbose=3)\n",
    "\n",
    "ridge_search.fit(X_train, y_train)\n"
   ]
  },
  {
   "cell_type": "code",
   "execution_count": 26,
   "id": "ceafc059-0708-4c80-9a81-7226a43218de",
   "metadata": {},
   "outputs": [
    {
     "name": "stdout",
     "output_type": "stream",
     "text": [
      " Results from Grid Search \n",
      "\n",
      " The best estimator:\n",
      " Pipeline(steps=[('fingerprinter', fingerprinter(n_bits=1666)),\n",
      "                ('ridge', Ridge(alpha=10.0))])\n",
      "\n",
      " The best mean TRAIN score (R^2):\n",
      " 0.8388925147589729\n",
      "\n",
      " The best STD of TRAIN score (R^2):\n",
      " 0.016831471665377167\n",
      "\n",
      " The TEST MAE of the best estimator:\n",
      " 0.18485517302609014\n",
      "\n",
      " The TEST MSE of the best estimator:\n",
      " 0.0640390030825687\n",
      "\n",
      " The best parameters:\n",
      " {'fingerprinter__n_atom': 2, 'fingerprinter__n_bits': 1666, 'ridge__alpha': 10.0}\n"
     ]
    }
   ],
   "source": [
    "print(\" Results from Grid Search \" )\n",
    "print(\"\\n The best estimator:\\n\",ridge_search.best_estimator_)\n",
    "print(\"\\n The best mean TRAIN score (R^2):\\n\",ridge_search.cv_results_[\"mean_test_score\"].mean())\n",
    "print(\"\\n The best STD of TRAIN score (R^2):\\n\",ridge_search.cv_results_[\"std_test_score\"].mean())\n",
    "print(\"\\n The TEST MAE of the best estimator:\\n\",mean_absolute_error(ridge_search.best_estimator_.predict(X_test), y_test))\n",
    "print(\"\\n The TEST MSE of the best estimator:\\n\",mean_squared_error(ridge_search.best_estimator_.predict(X_test), y_test))\n",
    "print(\"\\n The best parameters:\\n\",ridge_search.best_params_)"
   ]
  },
  {
   "cell_type": "code",
   "execution_count": 27,
   "id": "05df0ab5-9ea7-4985-8fdd-9365ae40d1fe",
   "metadata": {},
   "outputs": [
    {
     "data": {
      "text/plain": [
       "{'fingerprinter__n_atom': 2,\n",
       " 'fingerprinter__n_bits': 1666,\n",
       " 'ridge__alpha': 10.0}"
      ]
     },
     "execution_count": 27,
     "metadata": {},
     "output_type": "execute_result"
    }
   ],
   "source": [
    "ridge_search.best_params_"
   ]
  },
  {
   "cell_type": "markdown",
   "id": "bbbd4d8a-65f5-4d44-827c-6417dd40dcf5",
   "metadata": {},
   "source": [
    "Looking at the relative distributions of the predicted output vs the target output: "
   ]
  },
  {
   "cell_type": "code",
   "execution_count": 28,
   "id": "ecea6d08-1930-41cb-a5b4-4434b0921cf7",
   "metadata": {},
   "outputs": [
    {
     "data": {
      "image/png": "[encoded data removed]",
      "text/plain": [
       "<Figure size 504x504 with 3 Axes>"
      ]
     },
     "metadata": {},
     "output_type": "display_data"
    }
   ],
   "source": [
    "plot_joint(ridge_search.best_estimator_.predict(X_test), name=\"Ridge\");"
   ]
  },
  {
   "cell_type": "markdown",
   "id": "cc74e168-1fe6-4274-a583-d17a22758c49",
   "metadata": {},
   "source": [
    "In order to streamline the process, the fingerprint with the parameters as found above before will be used:"
   ]
  },
  {
   "cell_type": "code",
   "execution_count": 29,
   "id": "719f0be5-0108-4804-84b7-70c15e393084",
   "metadata": {},
   "outputs": [],
   "source": [
    "f=lambda x: fingerprinter(n_bits=ridge_search.best_params_[\"fingerprinter__n_bits\"], n_atom=ridge_search.best_params_[\"fingerprinter__n_atom\"]).transform(x)\n",
    "X_train_fp, X_test_fp=f(X_train), f(X_test)"
   ]
  },
  {
   "cell_type": "code",
   "execution_count": 30,
   "id": "2c643f02-c7b7-405a-839e-f531cbe25e68",
   "metadata": {},
   "outputs": [
    {
     "data": {
      "text/plain": [
       "(269, 4998)"
      ]
     },
     "execution_count": 30,
     "metadata": {},
     "output_type": "execute_result"
    }
   ],
   "source": [
    "X_test_fp.shape"
   ]
  },
  {
   "cell_type": "markdown",
   "id": "305238f7-41c6-48a9-b7a9-11909a44df6f",
   "metadata": {},
   "source": [
    "# Random Forest Regression"
   ]
  },
  {
   "cell_type": "markdown",
   "id": "1f159bf2-5c32-4a7f-b072-4f16dfccc2cc",
   "metadata": {},
   "source": [
    "Same as before, this time with a random forest regressor. Because of the limited computational power, only the n_estimators will be considered along with XXXXXXX, the morgan fingerprints marameters will not be changed as it is suspected that they would probably only get bigger as stated before. The fingerprint parameters are optimized again because of the fear that the ridge regressor punished bigger fingerprints (more added weights, even small, can be punished. Note the big alpha parameter):"
   ]
  },
  {
   "cell_type": "markdown",
   "id": "4baf7a9d-8cba-4f4b-8e5f-302fe6887550",
   "metadata": {},
   "source": [
    "### Pipeline"
   ]
  },
  {
   "cell_type": "code",
   "execution_count": 31,
   "id": "18def783-516c-4788-a0f5-eba65518a1be",
   "metadata": {},
   "outputs": [],
   "source": [
    "pipe = Pipeline([(\"forest\",RandomForestRegressor())])"
   ]
  },
  {
   "cell_type": "markdown",
   "id": "8b8ea931-b0b2-421e-8d3c-f86e330d8ad5",
   "metadata": {},
   "source": [
    "The number of tested parameters have been significantly reduced (Lack of computational power)"
   ]
  },
  {
   "cell_type": "code",
   "execution_count": 32,
   "id": "99abfb60-bfe4-47f5-a28a-f2a78eeec5fb",
   "metadata": {},
   "outputs": [
    {
     "data": {
      "text/plain": [
       "{'forest__max_depth': array([  50,  153,  257,  360,  464,  567,  671,  775,  878,  982, 1085,\n",
       "        1189, 1292, 1396, 1500])}"
      ]
     },
     "execution_count": 32,
     "metadata": {},
     "output_type": "execute_result"
    }
   ],
   "source": [
    "param_grid={\"forest__max_depth\": np.linspace(50, 1500, 15,  dtype=int)}\n",
    "param_grid"
   ]
  },
  {
   "cell_type": "markdown",
   "id": "25d0e96b-302c-4bb4-bb04-84a22991c33d",
   "metadata": {},
   "source": [
    "### Fitting"
   ]
  },
  {
   "cell_type": "code",
   "execution_count": null,
   "id": "052638e3-6b94-4c0e-9461-40532f3e4973",
   "metadata": {},
   "outputs": [
    {
     "name": "stdout",
     "output_type": "stream",
     "text": [
      "Fitting 5 folds for each of 15 candidates, totalling 75 fits\n",
      "--- 54.103111267089844 seconds ---\n"
     ]
    }
   ],
   "source": [
    "forest_search = GridSearchCV(pipe, param_grid, n_jobs=-1, verbose=3)\n",
    "\n",
    "forest_search.fit(X_train_fp, y_train)\n"
   ]
  },
  {
   "cell_type": "code",
   "execution_count": null,
   "id": "2a1d9523-bc8a-4407-a1dd-acb27bd9dc91",
   "metadata": {},
   "outputs": [
    {
     "name": "stdout",
     "output_type": "stream",
     "text": [
      " Results from Grid Search \n",
      "\n",
      " The best estimator:\n",
      " Pipeline(steps=[('forest', RandomForestRegressor(max_depth=982))])\n",
      "\n",
      " The best mean TRAIN score (R^2):\n",
      " 0.9022393716477305\n",
      "\n",
      " The best STD of TRAIN score (R^2):\n",
      " 0.013991828519526042\n",
      "\n",
      " The TEST MAE of the best estimator:\n",
      " 0.132209648672342\n",
      "\n",
      " The TEST MSE of the best estimator:\n",
      " 0.03967762511427032\n",
      "\n",
      " The best parameters:\n",
      " {'forest__max_depth': 982}\n"
     ]
    }
   ],
   "source": [
    "print(\" Results from Grid Search \" )\n",
    "print(\"\\n The best estimator:\\n\",forest_search.best_estimator_)\n",
    "print(\"\\n The best mean TRAIN score (R^2):\\n\",forest_search.cv_results_[\"mean_test_score\"].mean())\n",
    "print(\"\\n The best STD of TRAIN score (R^2):\\n\",forest_search.cv_results_[\"std_test_score\"].mean())\n",
    "print(\"\\n The TEST MAE of the best estimator:\\n\",mean_absolute_error(forest_search.best_estimator_.predict(X_test_fp), y_test))\n",
    "print(\"\\n The TEST MSE of the best estimator:\\n\",mean_squared_error(forest_search.best_estimator_.predict(X_test_fp), y_test))\n",
    "print(\"\\n The best parameters:\\n\",forest_search.best_params_)"
   ]
  },
  {
   "cell_type": "code",
   "execution_count": null,
   "id": "facf9ca8-8a55-49f8-9b6e-8de9b81f0f7e",
   "metadata": {},
   "outputs": [
    {
     "data": {
      "text/plain": [
       "{'forest__max_depth': 982}"
      ]
     },
     "execution_count": 36,
     "metadata": {},
     "output_type": "execute_result"
    }
   ],
   "source": [
    "forest_search.best_params_"
   ]
  },
  {
   "cell_type": "code",
   "execution_count": null,
   "id": "54d449c7-eb9e-45b1-9a78-e59f90c92864",
   "metadata": {},
   "outputs": [
    {
     "data": {
      "image/png": "[encoded data removed]",
      "text/plain": [
       "<Figure size 504x504 with 3 Axes>"
      ]
     },
     "metadata": {},
     "output_type": "display_data"
    }
   ],
   "source": [
    "plot_joint(forest_search.best_estimator_.predict(X_test_), name=\"Ridge\");"
   ]
  },
  {
   "cell_type": "markdown",
   "id": "c86d4ff4-0af3-4cf3-acfc-e8218c09dec7",
   "metadata": {},
   "source": [
    "# Neural network"
   ]
  },
  {
   "cell_type": "markdown",
   "id": "5f8c6a48-9b9e-4198-ab41-9824c2084fba",
   "metadata": {},
   "source": [
    "Here, the number of layers  will be fixed and the focus will be on the dropout rate and the number of perceptrons per layer. This was done because of the limited computational power and the architecture of the model should definitively be studied in more details:"
   ]
  },
  {
   "cell_type": "code",
   "execution_count": 150,
   "id": "eec32216-2386-42ee-bff8-289d7348b707",
   "metadata": {},
   "outputs": [],
   "source": [
    "def create_model(optimizer='Adam',\n",
    "                 dropout=0.2, n_perceptrons=64, summary=True):\n",
    "    inputs = keras.Input(shape=(ridge_search.best_params_[\"fingerprinter__n_bits\"]*3,))\n",
    "    \n",
    "    dense = layers.Dense(n_perceptrons, activation=\"relu\")\n",
    "    x1 = dense(inputs)\n",
    "    \n",
    "    dropout1 = Dropout(dropout)(x1)\n",
    "    \n",
    "    dense = layers.Dense(n_perceptrons, activation=\"relu\")\n",
    "    x2 = dense(dropout1)\n",
    "    \n",
    "    dropout2 = Dropout(dropout)(x2)\n",
    "    \n",
    "    dense = layers.Dense(1)\n",
    "    outputs = dense(dropout2)\n",
    "    \n",
    "    model = keras.Model(inputs=inputs, outputs=outputs, name=\"simple_MLP\")\n",
    "    if summary:\n",
    "        model.summary()\n",
    "    \n",
    "    model.compile(loss=keras.losses.MSE,optimizer=optimizer)\n",
    "\n",
    "    return model"
   ]
  },
  {
   "cell_type": "markdown",
   "id": "b520691d-9083-4479-9f83-292767542088",
   "metadata": {},
   "source": [
    "In order to use the same methodology as before, the cross validation has to be done manually. A monitor has been added to stop if the model is not learning anymore, to avoid overfitting. There is another validation split in the TF model to help stopping early if the improvement in each epoch is too small:"
   ]
  },
  {
   "cell_type": "code",
   "execution_count": 169,
   "id": "527b183f-d005-48c8-8c99-6d5d41561224",
   "metadata": {},
   "outputs": [],
   "source": [
    "def CV_NN(n_split=5, dropout=0.2, n_perceptrons=64):\n",
    "    \"\"\"cross validation for grid search with NN\"\"\"\n",
    "    CV_MSE=np.array([])\n",
    "    \n",
    "    for train_index,test_index in KFold(n_split).split(X_train_fp):\n",
    "        monitor = keras.callbacks.EarlyStopping(monitor=\"val_loss\",min_delta=1e-2, patience=1)\n",
    "        \n",
    "        X_train_split,X_test_split=X_train_fp[train_index],X_train_fp[test_index]\n",
    "        y_train_split,y_test_split=y_train[train_index],y_train[test_index]\n",
    "\n",
    "        model=create_model(summary=False, dropout=dropout, n_perceptrons=n_perceptrons)\n",
    "        model.fit(X_train_split.reshape([-1, ridge_search.best_params_[\"fingerprinter__n_bits\"]*3]), y_train_split, callbacks =[monitor], epochs=100, validation_split=0.25)\n",
    "\n",
    "        CV_MSE=np.append(CV_MSE, mean_squared_error(model.predict(X_test_split),y_test_split))\n",
    "    return CV_MSE"
   ]
  },
  {
   "cell_type": "markdown",
   "id": "cce00f85-6a0b-40b4-87ba-34f7d7368820",
   "metadata": {},
   "source": [
    "The parameters should be independent of each other, which is why they can be found independently:"
   ]
  },
  {
   "cell_type": "code",
   "execution_count": 174,
   "id": "4849cb88-0bb9-44ef-a352-1fd007d5b193",
   "metadata": {
    "collapsed": true,
    "jupyter": {
     "outputs_hidden": true
    },
    "tags": []
   },
   "outputs": [
    {
     "name": "stdout",
     "output_type": "stream",
     "text": [
      "Epoch 1/100\n",
      "16/16 [==============================] - 0s 7ms/step - loss: 0.7124 - val_loss: 0.2034\n",
      "Epoch 2/100\n",
      "16/16 [==============================] - 0s 3ms/step - loss: 0.1595 - val_loss: 0.0924\n",
      "Epoch 3/100\n",
      "16/16 [==============================] - 0s 3ms/step - loss: 0.0830 - val_loss: 0.0648\n",
      "Epoch 4/100\n",
      "16/16 [==============================] - 0s 3ms/step - loss: 0.0631 - val_loss: 0.0521\n",
      "Epoch 5/100\n",
      "16/16 [==============================] - 0s 3ms/step - loss: 0.0430 - val_loss: 0.0460\n",
      "Epoch 1/100\n",
      "16/16 [==============================] - 0s 6ms/step - loss: 0.9570 - val_loss: 0.2278\n",
      "Epoch 2/100\n",
      "16/16 [==============================] - 0s 3ms/step - loss: 0.2293 - val_loss: 0.1120\n",
      "Epoch 3/100\n",
      "16/16 [==============================] - 0s 3ms/step - loss: 0.0988 - val_loss: 0.0731\n",
      "Epoch 4/100\n",
      "16/16 [==============================] - 0s 3ms/step - loss: 0.0643 - val_loss: 0.0644\n",
      "Epoch 1/100\n",
      "16/16 [==============================] - 0s 6ms/step - loss: 0.9085 - val_loss: 0.2417\n",
      "Epoch 2/100\n",
      "16/16 [==============================] - 0s 3ms/step - loss: 0.2301 - val_loss: 0.1364\n",
      "Epoch 3/100\n",
      "16/16 [==============================] - 0s 3ms/step - loss: 0.1113 - val_loss: 0.0642\n",
      "Epoch 4/100\n",
      "16/16 [==============================] - 0s 3ms/step - loss: 0.0724 - val_loss: 0.0479\n",
      "Epoch 5/100\n",
      "16/16 [==============================] - 0s 3ms/step - loss: 0.0533 - val_loss: 0.0471\n",
      "Epoch 1/100\n",
      "16/16 [==============================] - 0s 7ms/step - loss: 0.8596 - val_loss: 0.2431\n",
      "Epoch 2/100\n",
      "16/16 [==============================] - 0s 3ms/step - loss: 0.2289 - val_loss: 0.1216\n",
      "Epoch 3/100\n",
      "16/16 [==============================] - 0s 3ms/step - loss: 0.1183 - val_loss: 0.0729\n",
      "Epoch 4/100\n",
      "16/16 [==============================] - 0s 3ms/step - loss: 0.0781 - val_loss: 0.0581\n",
      "Epoch 5/100\n",
      "16/16 [==============================] - 0s 3ms/step - loss: 0.0594 - val_loss: 0.0645\n",
      "Epoch 1/100\n",
      "16/16 [==============================] - 0s 6ms/step - loss: 1.0205 - val_loss: 0.1769\n",
      "Epoch 2/100\n",
      "16/16 [==============================] - 0s 3ms/step - loss: 0.1724 - val_loss: 0.0934\n",
      "Epoch 3/100\n",
      "16/16 [==============================] - 0s 3ms/step - loss: 0.0752 - val_loss: 0.0610\n",
      "Epoch 4/100\n",
      "16/16 [==============================] - 0s 3ms/step - loss: 0.0612 - val_loss: 0.0599\n",
      "Epoch 1/100\n",
      "16/16 [==============================] - 0s 6ms/step - loss: 0.6638 - val_loss: 0.2161\n",
      "Epoch 2/100\n",
      "16/16 [==============================] - 0s 3ms/step - loss: 0.2258 - val_loss: 0.0983\n",
      "Epoch 3/100\n",
      "16/16 [==============================] - 0s 3ms/step - loss: 0.1096 - val_loss: 0.0633\n",
      "Epoch 4/100\n",
      "16/16 [==============================] - 0s 3ms/step - loss: 0.1000 - val_loss: 0.0582\n",
      "Epoch 1/100\n",
      "16/16 [==============================] - 0s 7ms/step - loss: 0.8080 - val_loss: 0.2124\n",
      "Epoch 2/100\n",
      "16/16 [==============================] - 0s 3ms/step - loss: 0.2112 - val_loss: 0.0885\n",
      "Epoch 3/100\n",
      "16/16 [==============================] - 0s 3ms/step - loss: 0.0961 - val_loss: 0.0599\n",
      "Epoch 4/100\n",
      "16/16 [==============================] - 0s 3ms/step - loss: 0.0763 - val_loss: 0.0546\n",
      "Epoch 1/100\n",
      "16/16 [==============================] - 0s 6ms/step - loss: 0.7087 - val_loss: 0.2244\n",
      "Epoch 2/100\n",
      "16/16 [==============================] - 0s 3ms/step - loss: 0.2004 - val_loss: 0.1131\n",
      "Epoch 3/100\n",
      "16/16 [==============================] - 0s 3ms/step - loss: 0.1313 - val_loss: 0.0589\n",
      "Epoch 4/100\n",
      "16/16 [==============================] - 0s 3ms/step - loss: 0.0914 - val_loss: 0.0549\n",
      "Epoch 1/100\n",
      "16/16 [==============================] - 0s 6ms/step - loss: 1.0849 - val_loss: 0.2556\n",
      "Epoch 2/100\n",
      "16/16 [==============================] - 0s 19ms/step - loss: 0.2781 - val_loss: 0.1198\n",
      "Epoch 3/100\n",
      "16/16 [==============================] - 0s 3ms/step - loss: 0.1500 - val_loss: 0.0815\n",
      "Epoch 4/100\n",
      "16/16 [==============================] - 0s 3ms/step - loss: 0.1040 - val_loss: 0.0640\n",
      "Epoch 5/100\n",
      "16/16 [==============================] - 0s 3ms/step - loss: 0.0987 - val_loss: 0.0614\n",
      "Epoch 1/100\n",
      "16/16 [==============================] - 0s 6ms/step - loss: 0.9823 - val_loss: 0.2360\n",
      "Epoch 2/100\n",
      "16/16 [==============================] - 0s 3ms/step - loss: 0.2493 - val_loss: 0.1154\n",
      "Epoch 3/100\n",
      "16/16 [==============================] - 0s 2ms/step - loss: 0.1281 - val_loss: 0.0840\n",
      "Epoch 4/100\n",
      "16/16 [==============================] - 0s 3ms/step - loss: 0.0950 - val_loss: 0.0692\n",
      "Epoch 5/100\n",
      "16/16 [==============================] - 0s 3ms/step - loss: 0.0984 - val_loss: 0.0604\n",
      "Epoch 1/100\n",
      "16/16 [==============================] - 0s 6ms/step - loss: 1.0173 - val_loss: 0.2832\n",
      "Epoch 2/100\n",
      "16/16 [==============================] - 0s 2ms/step - loss: 0.3644 - val_loss: 0.1584\n",
      "Epoch 3/100\n",
      "16/16 [==============================] - 0s 3ms/step - loss: 0.2241 - val_loss: 0.0919\n",
      "Epoch 4/100\n",
      "16/16 [==============================] - 0s 3ms/step - loss: 0.1503 - val_loss: 0.0573\n",
      "Epoch 5/100\n",
      "16/16 [==============================] - 0s 2ms/step - loss: 0.1319 - val_loss: 0.0531\n",
      "Epoch 1/100\n",
      "16/16 [==============================] - 0s 6ms/step - loss: 1.0143 - val_loss: 0.2976\n",
      "Epoch 2/100\n",
      "16/16 [==============================] - 0s 2ms/step - loss: 0.3549 - val_loss: 0.1621\n",
      "Epoch 3/100\n",
      "16/16 [==============================] - 0s 3ms/step - loss: 0.2205 - val_loss: 0.0999\n",
      "Epoch 4/100\n",
      "16/16 [==============================] - 0s 2ms/step - loss: 0.1726 - val_loss: 0.0699\n",
      "Epoch 5/100\n",
      "16/16 [==============================] - 0s 2ms/step - loss: 0.1175 - val_loss: 0.0715\n",
      "Epoch 1/100\n",
      "16/16 [==============================] - 0s 7ms/step - loss: 0.8407 - val_loss: 0.2549\n",
      "Epoch 2/100\n",
      "16/16 [==============================] - 0s 2ms/step - loss: 0.2990 - val_loss: 0.1406\n",
      "Epoch 3/100\n",
      "16/16 [==============================] - 0s 3ms/step - loss: 0.1778 - val_loss: 0.0843\n",
      "Epoch 4/100\n",
      "16/16 [==============================] - 0s 2ms/step - loss: 0.1316 - val_loss: 0.0577\n",
      "Epoch 5/100\n",
      "16/16 [==============================] - 0s 3ms/step - loss: 0.0918 - val_loss: 0.0549\n",
      "Epoch 1/100\n",
      "16/16 [==============================] - 0s 6ms/step - loss: 0.8974 - val_loss: 0.4239\n",
      "Epoch 2/100\n",
      "16/16 [==============================] - 0s 2ms/step - loss: 0.3763 - val_loss: 0.1718\n",
      "Epoch 3/100\n",
      "16/16 [==============================] - 0s 2ms/step - loss: 0.1928 - val_loss: 0.0925\n",
      "Epoch 4/100\n",
      "16/16 [==============================] - 0s 2ms/step - loss: 0.1160 - val_loss: 0.0785\n",
      "Epoch 5/100\n",
      "16/16 [==============================] - 0s 3ms/step - loss: 0.1343 - val_loss: 0.0646\n",
      "Epoch 6/100\n",
      "16/16 [==============================] - 0s 2ms/step - loss: 0.0984 - val_loss: 0.0503\n",
      "Epoch 7/100\n",
      "16/16 [==============================] - 0s 3ms/step - loss: 0.0893 - val_loss: 0.0569\n",
      "Epoch 1/100\n",
      "16/16 [==============================] - 0s 7ms/step - loss: 0.7822 - val_loss: 0.2145\n",
      "Epoch 2/100\n",
      "16/16 [==============================] - 0s 3ms/step - loss: 0.3279 - val_loss: 0.1180\n",
      "Epoch 3/100\n",
      "16/16 [==============================] - 0s 2ms/step - loss: 0.1828 - val_loss: 0.0885\n",
      "Epoch 4/100\n",
      "16/16 [==============================] - 0s 3ms/step - loss: 0.1082 - val_loss: 0.0759\n",
      "Epoch 5/100\n",
      "16/16 [==============================] - 0s 2ms/step - loss: 0.1163 - val_loss: 0.0703\n",
      "Epoch 1/100\n",
      "16/16 [==============================] - 0s 7ms/step - loss: 0.8259 - val_loss: 0.2705\n",
      "Epoch 2/100\n",
      "16/16 [==============================] - 0s 3ms/step - loss: 0.3218 - val_loss: 0.1330\n",
      "Epoch 3/100\n",
      "16/16 [==============================] - 0s 3ms/step - loss: 0.1984 - val_loss: 0.0923\n",
      "Epoch 4/100\n",
      "16/16 [==============================] - 0s 3ms/step - loss: 0.1410 - val_loss: 0.0689\n",
      "Epoch 5/100\n",
      "16/16 [==============================] - 0s 2ms/step - loss: 0.1385 - val_loss: 0.0684\n",
      "Epoch 1/100\n",
      "16/16 [==============================] - 0s 7ms/step - loss: 0.6550 - val_loss: 0.2060\n",
      "Epoch 2/100\n",
      "16/16 [==============================] - 0s 2ms/step - loss: 0.3285 - val_loss: 0.1100\n",
      "Epoch 3/100\n",
      "16/16 [==============================] - 0s 3ms/step - loss: 0.2103 - val_loss: 0.0868\n",
      "Epoch 4/100\n",
      "16/16 [==============================] - 0s 2ms/step - loss: 0.2109 - val_loss: 0.1006\n",
      "Epoch 1/100\n",
      "16/16 [==============================] - 0s 7ms/step - loss: 1.0735 - val_loss: 0.3062\n",
      "Epoch 2/100\n",
      "16/16 [==============================] - 0s 3ms/step - loss: 0.4344 - val_loss: 0.2000\n",
      "Epoch 3/100\n",
      "16/16 [==============================] - 0s 3ms/step - loss: 0.3222 - val_loss: 0.1327\n",
      "Epoch 4/100\n",
      "16/16 [==============================] - 0s 2ms/step - loss: 0.2070 - val_loss: 0.0980\n",
      "Epoch 5/100\n",
      "16/16 [==============================] - 0s 3ms/step - loss: 0.1953 - val_loss: 0.0872\n",
      "Epoch 6/100\n",
      "16/16 [==============================] - 0s 2ms/step - loss: 0.1612 - val_loss: 0.0677\n",
      "Epoch 7/100\n",
      "16/16 [==============================] - 0s 3ms/step - loss: 0.1625 - val_loss: 0.0595\n",
      "Epoch 1/100\n",
      "16/16 [==============================] - 0s 7ms/step - loss: 0.8918 - val_loss: 0.2816\n",
      "Epoch 2/100\n",
      "16/16 [==============================] - 0s 3ms/step - loss: 0.3485 - val_loss: 0.1171\n",
      "Epoch 3/100\n",
      "16/16 [==============================] - 0s 3ms/step - loss: 0.2401 - val_loss: 0.0814\n",
      "Epoch 4/100\n",
      "16/16 [==============================] - 0s 2ms/step - loss: 0.1482 - val_loss: 0.0614\n",
      "Epoch 5/100\n",
      "16/16 [==============================] - 0s 3ms/step - loss: 0.1377 - val_loss: 0.0555\n",
      "Epoch 1/100\n",
      "16/16 [==============================] - 0s 6ms/step - loss: 1.2688 - val_loss: 0.3331\n",
      "Epoch 2/100\n",
      "16/16 [==============================] - 0s 3ms/step - loss: 0.4685 - val_loss: 0.1884\n",
      "Epoch 3/100\n",
      "16/16 [==============================] - 0s 2ms/step - loss: 0.3186 - val_loss: 0.1662\n",
      "Epoch 4/100\n",
      "16/16 [==============================] - 0s 3ms/step - loss: 0.2249 - val_loss: 0.0939\n",
      "Epoch 5/100\n",
      "16/16 [==============================] - 0s 3ms/step - loss: 0.1770 - val_loss: 0.0836\n",
      "Epoch 6/100\n",
      "16/16 [==============================] - 0s 3ms/step - loss: 0.1423 - val_loss: 0.0665\n",
      "Epoch 7/100\n",
      "16/16 [==============================] - 0s 3ms/step - loss: 0.1514 - val_loss: 0.0613\n",
      "Epoch 1/100\n",
      "16/16 [==============================] - 0s 6ms/step - loss: 0.7609 - val_loss: 0.2549\n",
      "Epoch 2/100\n",
      "16/16 [==============================] - 0s 3ms/step - loss: 0.3798 - val_loss: 0.1357\n",
      "Epoch 3/100\n",
      "16/16 [==============================] - 0s 2ms/step - loss: 0.2292 - val_loss: 0.1005\n",
      "Epoch 4/100\n",
      "16/16 [==============================] - 0s 3ms/step - loss: 0.2454 - val_loss: 0.1257\n",
      "Epoch 1/100\n",
      "16/16 [==============================] - 0s 6ms/step - loss: 0.8334 - val_loss: 0.2745\n",
      "Epoch 2/100\n",
      "16/16 [==============================] - 0s 3ms/step - loss: 0.4081 - val_loss: 0.1547\n",
      "Epoch 3/100\n",
      "16/16 [==============================] - 0s 3ms/step - loss: 0.2513 - val_loss: 0.1404\n",
      "Epoch 4/100\n",
      "16/16 [==============================] - 0s 3ms/step - loss: 0.2444 - val_loss: 0.1071\n",
      "Epoch 5/100\n",
      "16/16 [==============================] - 0s 3ms/step - loss: 0.2212 - val_loss: 0.0793\n",
      "Epoch 6/100\n",
      "16/16 [==============================] - 0s 2ms/step - loss: 0.1697 - val_loss: 0.0710\n",
      "Epoch 1/100\n",
      "16/16 [==============================] - 0s 6ms/step - loss: 0.9488 - val_loss: 0.3009\n",
      "Epoch 2/100\n",
      "16/16 [==============================] - 0s 3ms/step - loss: 0.4816 - val_loss: 0.1707\n",
      "Epoch 3/100\n",
      "16/16 [==============================] - 0s 3ms/step - loss: 0.3432 - val_loss: 0.1668\n",
      "Epoch 1/100\n",
      "16/16 [==============================] - 0s 7ms/step - loss: 0.8486 - val_loss: 0.2471\n",
      "Epoch 2/100\n",
      "16/16 [==============================] - 0s 3ms/step - loss: 0.3288 - val_loss: 0.1501\n",
      "Epoch 3/100\n",
      "16/16 [==============================] - 0s 2ms/step - loss: 0.2635 - val_loss: 0.1258\n",
      "Epoch 4/100\n",
      "16/16 [==============================] - 0s 2ms/step - loss: 0.2008 - val_loss: 0.0799\n",
      "Epoch 5/100\n",
      "16/16 [==============================] - 0s 3ms/step - loss: 0.1486 - val_loss: 0.1284\n",
      "Epoch 1/100\n",
      "16/16 [==============================] - 0s 6ms/step - loss: 1.1934 - val_loss: 0.2345\n",
      "Epoch 2/100\n",
      "16/16 [==============================] - 0s 2ms/step - loss: 0.4682 - val_loss: 0.1450\n",
      "Epoch 3/100\n",
      "16/16 [==============================] - 0s 3ms/step - loss: 0.3069 - val_loss: 0.1029\n",
      "Epoch 4/100\n",
      "16/16 [==============================] - 0s 3ms/step - loss: 0.2042 - val_loss: 0.0985\n",
      "Epoch 1/100\n",
      "16/16 [==============================] - 0s 6ms/step - loss: 0.8146 - val_loss: 0.3437\n",
      "Epoch 2/100\n",
      "16/16 [==============================] - 0s 2ms/step - loss: 0.4594 - val_loss: 0.1814\n",
      "Epoch 3/100\n",
      "16/16 [==============================] - 0s 2ms/step - loss: 0.3165 - val_loss: 0.1354\n",
      "Epoch 4/100\n",
      "16/16 [==============================] - 0s 3ms/step - loss: 0.2254 - val_loss: 0.0878\n",
      "Epoch 5/100\n",
      "16/16 [==============================] - 0s 2ms/step - loss: 0.2433 - val_loss: 0.0974\n",
      "Epoch 1/100\n",
      "16/16 [==============================] - 0s 7ms/step - loss: 1.1717 - val_loss: 0.3019\n",
      "Epoch 2/100\n",
      "16/16 [==============================] - 0s 3ms/step - loss: 0.4617 - val_loss: 0.2269\n",
      "Epoch 3/100\n",
      "16/16 [==============================] - 0s 3ms/step - loss: 0.3305 - val_loss: 0.1341\n",
      "Epoch 4/100\n",
      "16/16 [==============================] - 0s 2ms/step - loss: 0.3293 - val_loss: 0.1145\n",
      "Epoch 5/100\n",
      "16/16 [==============================] - 0s 2ms/step - loss: 0.2762 - val_loss: 0.1332\n",
      "Epoch 1/100\n",
      "16/16 [==============================] - 1s 7ms/step - loss: 1.2715 - val_loss: 0.3201\n",
      "Epoch 2/100\n",
      "16/16 [==============================] - 0s 3ms/step - loss: 0.5934 - val_loss: 0.2749\n",
      "Epoch 3/100\n",
      "16/16 [==============================] - 0s 3ms/step - loss: 0.4150 - val_loss: 0.1593\n",
      "Epoch 4/100\n",
      "16/16 [==============================] - 0s 3ms/step - loss: 0.3463 - val_loss: 0.1336\n",
      "Epoch 5/100\n",
      "16/16 [==============================] - 0s 2ms/step - loss: 0.2708 - val_loss: 0.0976\n",
      "Epoch 6/100\n",
      "16/16 [==============================] - 0s 2ms/step - loss: 0.1990 - val_loss: 0.1202\n",
      "Epoch 1/100\n",
      "16/16 [==============================] - 0s 7ms/step - loss: 1.2394 - val_loss: 0.3218\n",
      "Epoch 2/100\n",
      "16/16 [==============================] - 0s 2ms/step - loss: 0.5665 - val_loss: 0.2449\n",
      "Epoch 3/100\n",
      "16/16 [==============================] - 0s 3ms/step - loss: 0.3637 - val_loss: 0.1786\n",
      "Epoch 4/100\n",
      "16/16 [==============================] - 0s 2ms/step - loss: 0.3379 - val_loss: 0.1073\n",
      "Epoch 5/100\n",
      "16/16 [==============================] - 0s 3ms/step - loss: 0.2972 - val_loss: 0.2053\n",
      "Epoch 1/100\n",
      "16/16 [==============================] - 0s 7ms/step - loss: 1.1498 - val_loss: 0.3016\n",
      "Epoch 2/100\n",
      "16/16 [==============================] - 0s 3ms/step - loss: 0.4858 - val_loss: 0.1790\n",
      "Epoch 3/100\n",
      "16/16 [==============================] - 0s 3ms/step - loss: 0.3669 - val_loss: 0.1243\n",
      "Epoch 4/100\n",
      "16/16 [==============================] - 0s 3ms/step - loss: 0.2475 - val_loss: 0.0945\n",
      "Epoch 5/100\n",
      "16/16 [==============================] - 0s 3ms/step - loss: 0.3211 - val_loss: 0.0887\n",
      "Epoch 1/100\n",
      "16/16 [==============================] - 0s 6ms/step - loss: 1.0657 - val_loss: 0.4036\n",
      "Epoch 2/100\n",
      "16/16 [==============================] - 0s 2ms/step - loss: 0.4815 - val_loss: 0.3404\n",
      "Epoch 3/100\n",
      "16/16 [==============================] - 0s 4ms/step - loss: 0.4327 - val_loss: 0.2285\n",
      "Epoch 4/100\n",
      "16/16 [==============================] - 0s 2ms/step - loss: 0.4011 - val_loss: 0.2245\n",
      "Epoch 1/100\n",
      "16/16 [==============================] - 0s 6ms/step - loss: 1.2659 - val_loss: 0.3813\n",
      "Epoch 2/100\n",
      "16/16 [==============================] - 0s 2ms/step - loss: 0.7215 - val_loss: 0.2961\n",
      "Epoch 3/100\n",
      "16/16 [==============================] - 0s 3ms/step - loss: 0.5215 - val_loss: 0.1843\n",
      "Epoch 4/100\n",
      "16/16 [==============================] - 0s 3ms/step - loss: 0.4465 - val_loss: 0.1304\n",
      "Epoch 5/100\n",
      "16/16 [==============================] - 0s 3ms/step - loss: 0.3884 - val_loss: 0.1473\n",
      "Epoch 1/100\n",
      "16/16 [==============================] - 0s 6ms/step - loss: 0.9557 - val_loss: 0.3306\n",
      "Epoch 2/100\n",
      "16/16 [==============================] - 0s 2ms/step - loss: 0.5226 - val_loss: 0.2705\n",
      "Epoch 3/100\n",
      "16/16 [==============================] - 0s 3ms/step - loss: 0.4293 - val_loss: 0.2495\n",
      "Epoch 4/100\n",
      "16/16 [==============================] - 0s 2ms/step - loss: 0.3601 - val_loss: 0.1695\n",
      "Epoch 5/100\n",
      "16/16 [==============================] - 0s 3ms/step - loss: 0.3499 - val_loss: 0.1403\n",
      "Epoch 6/100\n",
      "16/16 [==============================] - 0s 2ms/step - loss: 0.2768 - val_loss: 0.1458\n",
      "Epoch 1/100\n",
      "16/16 [==============================] - 0s 6ms/step - loss: 1.0200 - val_loss: 0.3316\n",
      "Epoch 2/100\n",
      "16/16 [==============================] - 0s 2ms/step - loss: 0.5884 - val_loss: 0.3178\n",
      "Epoch 3/100\n",
      "16/16 [==============================] - 0s 2ms/step - loss: 0.4537 - val_loss: 0.1765\n",
      "Epoch 4/100\n",
      "16/16 [==============================] - 0s 3ms/step - loss: 0.4314 - val_loss: 0.2897\n",
      "Epoch 1/100\n",
      "16/16 [==============================] - 0s 6ms/step - loss: 1.2908 - val_loss: 0.3165\n",
      "Epoch 2/100\n",
      "16/16 [==============================] - 0s 3ms/step - loss: 0.7164 - val_loss: 0.2436\n",
      "Epoch 3/100\n",
      "16/16 [==============================] - 0s 2ms/step - loss: 0.4918 - val_loss: 0.1938\n",
      "Epoch 4/100\n",
      "16/16 [==============================] - 0s 2ms/step - loss: 0.4524 - val_loss: 0.1763\n",
      "Epoch 5/100\n",
      "16/16 [==============================] - 0s 3ms/step - loss: 0.3643 - val_loss: 0.1576\n",
      "Epoch 6/100\n",
      "16/16 [==============================] - 0s 2ms/step - loss: 0.3767 - val_loss: 0.1279\n",
      "Epoch 7/100\n",
      "16/16 [==============================] - 0s 3ms/step - loss: 0.3842 - val_loss: 0.1177\n",
      "Epoch 8/100\n",
      "16/16 [==============================] - 0s 2ms/step - loss: 0.3047 - val_loss: 0.1127\n",
      "Epoch 1/100\n",
      "16/16 [==============================] - 0s 6ms/step - loss: 1.0393 - val_loss: 0.4891\n",
      "Epoch 2/100\n",
      "16/16 [==============================] - 0s 3ms/step - loss: 0.6865 - val_loss: 0.3678\n",
      "Epoch 3/100\n",
      "16/16 [==============================] - 0s 2ms/step - loss: 0.7198 - val_loss: 0.3749\n",
      "Epoch 1/100\n",
      "16/16 [==============================] - 0s 6ms/step - loss: 1.0044 - val_loss: 0.4068\n",
      "Epoch 2/100\n",
      "16/16 [==============================] - 0s 2ms/step - loss: 0.7704 - val_loss: 0.4301\n",
      "Epoch 1/100\n",
      "16/16 [==============================] - 0s 6ms/step - loss: 1.2552 - val_loss: 0.3778\n",
      "Epoch 2/100\n",
      "16/16 [==============================] - 0s 2ms/step - loss: 0.6543 - val_loss: 0.4094\n",
      "Epoch 1/100\n",
      "16/16 [==============================] - 0s 6ms/step - loss: 1.1226 - val_loss: 0.4633\n",
      "Epoch 2/100\n",
      "16/16 [==============================] - 0s 2ms/step - loss: 0.7674 - val_loss: 0.4479\n",
      "Epoch 3/100\n",
      "16/16 [==============================] - 0s 2ms/step - loss: 0.6683 - val_loss: 0.3279\n",
      "Epoch 4/100\n",
      "16/16 [==============================] - 0s 3ms/step - loss: 0.4731 - val_loss: 0.2869\n",
      "Epoch 5/100\n",
      "16/16 [==============================] - 0s 2ms/step - loss: 0.5204 - val_loss: 0.2531\n",
      "Epoch 6/100\n",
      "16/16 [==============================] - 0s 3ms/step - loss: 0.4491 - val_loss: 0.2259\n",
      "Epoch 7/100\n",
      "16/16 [==============================] - 0s 2ms/step - loss: 0.5208 - val_loss: 0.2435\n",
      "Epoch 1/100\n",
      "16/16 [==============================] - 0s 6ms/step - loss: 1.7210 - val_loss: 0.3744\n",
      "Epoch 2/100\n",
      "16/16 [==============================] - 0s 2ms/step - loss: 1.0302 - val_loss: 0.4484\n",
      "Epoch 1/100\n",
      "16/16 [==============================] - 0s 7ms/step - loss: 1.7177 - val_loss: 0.9178\n",
      "Epoch 2/100\n",
      "16/16 [==============================] - 0s 2ms/step - loss: 1.1754 - val_loss: 0.8777\n",
      "Epoch 3/100\n",
      "16/16 [==============================] - 0s 2ms/step - loss: 0.9260 - val_loss: 0.7833\n",
      "Epoch 4/100\n",
      "16/16 [==============================] - 0s 3ms/step - loss: 0.7476 - val_loss: 0.5777\n",
      "Epoch 5/100\n",
      "16/16 [==============================] - 0s 2ms/step - loss: 0.8154 - val_loss: 0.5890\n",
      "Epoch 1/100\n",
      "16/16 [==============================] - 0s 6ms/step - loss: 1.7476 - val_loss: 0.9151\n",
      "Epoch 2/100\n",
      "16/16 [==============================] - 0s 2ms/step - loss: 1.1750 - val_loss: 0.8371\n",
      "Epoch 3/100\n",
      "16/16 [==============================] - 0s 2ms/step - loss: 1.0852 - val_loss: 0.6023\n",
      "Epoch 4/100\n",
      "16/16 [==============================] - 0s 3ms/step - loss: 0.9830 - val_loss: 0.5801\n",
      "Epoch 5/100\n",
      "16/16 [==============================] - 0s 2ms/step - loss: 0.7069 - val_loss: 0.4870\n",
      "Epoch 6/100\n",
      "16/16 [==============================] - 0s 3ms/step - loss: 0.6731 - val_loss: 0.4244\n",
      "Epoch 7/100\n",
      "16/16 [==============================] - 0s 2ms/step - loss: 0.4883 - val_loss: 0.2783\n",
      "Epoch 8/100\n",
      "16/16 [==============================] - 0s 4ms/step - loss: 0.6100 - val_loss: 0.3495\n",
      "Epoch 1/100\n",
      "16/16 [==============================] - 0s 6ms/step - loss: 1.9439 - val_loss: 0.6374\n",
      "Epoch 2/100\n",
      "16/16 [==============================] - 0s 3ms/step - loss: 0.9735 - val_loss: 0.6739\n",
      "Epoch 1/100\n",
      "16/16 [==============================] - 0s 6ms/step - loss: 1.3333 - val_loss: 0.8042\n",
      "Epoch 2/100\n",
      "16/16 [==============================] - 0s 3ms/step - loss: 0.8958 - val_loss: 0.6825\n",
      "Epoch 3/100\n",
      "16/16 [==============================] - 0s 2ms/step - loss: 0.8997 - val_loss: 0.5849\n",
      "Epoch 4/100\n",
      "16/16 [==============================] - 0s 2ms/step - loss: 0.7455 - val_loss: 0.5351\n",
      "Epoch 5/100\n",
      "16/16 [==============================] - 0s 3ms/step - loss: 0.6975 - val_loss: 0.5360\n",
      "Epoch 1/100\n",
      "16/16 [==============================] - 0s 6ms/step - loss: 1.6560 - val_loss: 0.8208\n",
      "Epoch 2/100\n",
      "16/16 [==============================] - 0s 2ms/step - loss: 1.0214 - val_loss: 0.5608\n",
      "Epoch 3/100\n",
      "16/16 [==============================] - 0s 2ms/step - loss: 0.9132 - val_loss: 0.5300\n",
      "Epoch 4/100\n",
      "16/16 [==============================] - 0s 3ms/step - loss: 0.8129 - val_loss: 0.4967\n",
      "Epoch 5/100\n",
      "16/16 [==============================] - 0s 2ms/step - loss: 0.8176 - val_loss: 0.3980\n",
      "Epoch 6/100\n",
      "16/16 [==============================] - 0s 2ms/step - loss: 0.6182 - val_loss: 0.3528\n",
      "Epoch 7/100\n",
      "16/16 [==============================] - 0s 3ms/step - loss: 0.5624 - val_loss: 0.3366\n",
      "Epoch 8/100\n",
      "16/16 [==============================] - 0s 2ms/step - loss: 0.5400 - val_loss: 0.3143\n",
      "Epoch 9/100\n",
      "16/16 [==============================] - 0s 3ms/step - loss: 0.5311 - val_loss: 0.3187\n",
      "Epoch 1/100\n",
      "16/16 [==============================] - 0s 6ms/step - loss: 0.9215 - val_loss: 0.3106\n",
      "Epoch 2/100\n",
      "16/16 [==============================] - 0s 2ms/step - loss: 0.3646 - val_loss: 0.2005\n",
      "Epoch 3/100\n",
      "16/16 [==============================] - 0s 2ms/step - loss: 0.2454 - val_loss: 0.1298\n",
      "Epoch 4/100\n",
      "16/16 [==============================] - 0s 2ms/step - loss: 0.2083 - val_loss: 0.0891\n",
      "Epoch 5/100\n",
      "16/16 [==============================] - 0s 2ms/step - loss: 0.1902 - val_loss: 0.0686\n",
      "Epoch 6/100\n",
      "16/16 [==============================] - 0s 2ms/step - loss: 0.1728 - val_loss: 0.0620\n",
      "Epoch 1/100\n",
      "16/16 [==============================] - 0s 6ms/step - loss: 0.8742 - val_loss: 0.2685\n",
      "Epoch 2/100\n",
      "16/16 [==============================] - 0s 2ms/step - loss: 0.3338 - val_loss: 0.1476\n",
      "Epoch 3/100\n",
      "16/16 [==============================] - 0s 2ms/step - loss: 0.2027 - val_loss: 0.1035\n",
      "Epoch 4/100\n",
      "16/16 [==============================] - 0s 2ms/step - loss: 0.1479 - val_loss: 0.0823\n",
      "Epoch 5/100\n",
      "16/16 [==============================] - 0s 2ms/step - loss: 0.1516 - val_loss: 0.0645\n",
      "Epoch 6/100\n",
      "16/16 [==============================] - 0s 2ms/step - loss: 0.1125 - val_loss: 0.0618\n",
      "Epoch 1/100\n",
      "16/16 [==============================] - 0s 6ms/step - loss: 1.0288 - val_loss: 0.3465\n",
      "Epoch 2/100\n",
      "16/16 [==============================] - 0s 2ms/step - loss: 0.4003 - val_loss: 0.2017\n",
      "Epoch 3/100\n",
      "16/16 [==============================] - 0s 2ms/step - loss: 0.2911 - val_loss: 0.1366\n",
      "Epoch 4/100\n",
      "16/16 [==============================] - 0s 2ms/step - loss: 0.2148 - val_loss: 0.0862\n",
      "Epoch 5/100\n",
      "16/16 [==============================] - 0s 2ms/step - loss: 0.1705 - val_loss: 0.0600\n",
      "Epoch 6/100\n",
      "16/16 [==============================] - 0s 2ms/step - loss: 0.1474 - val_loss: 0.0526\n",
      "Epoch 1/100\n",
      "16/16 [==============================] - 0s 6ms/step - loss: 0.8872 - val_loss: 0.2791\n",
      "Epoch 2/100\n",
      "16/16 [==============================] - 0s 2ms/step - loss: 0.3369 - val_loss: 0.1559\n",
      "Epoch 3/100\n",
      "16/16 [==============================] - 0s 2ms/step - loss: 0.2347 - val_loss: 0.0915\n",
      "Epoch 4/100\n",
      "16/16 [==============================] - 0s 2ms/step - loss: 0.1671 - val_loss: 0.0717\n",
      "Epoch 5/100\n",
      "16/16 [==============================] - 0s 2ms/step - loss: 0.1269 - val_loss: 0.0685\n",
      "Epoch 1/100\n",
      "16/16 [==============================] - 0s 6ms/step - loss: 1.1691 - val_loss: 0.3643\n",
      "Epoch 2/100\n",
      "16/16 [==============================] - 0s 2ms/step - loss: 0.5286 - val_loss: 0.2205\n",
      "Epoch 3/100\n",
      "16/16 [==============================] - 0s 2ms/step - loss: 0.3180 - val_loss: 0.1179\n",
      "Epoch 4/100\n",
      "16/16 [==============================] - 0s 2ms/step - loss: 0.2072 - val_loss: 0.0925\n",
      "Epoch 5/100\n",
      "16/16 [==============================] - 0s 2ms/step - loss: 0.1654 - val_loss: 0.0733\n",
      "Epoch 6/100\n",
      "16/16 [==============================] - 0s 2ms/step - loss: 0.1384 - val_loss: 0.0731\n",
      "Epoch 1/100\n",
      "16/16 [==============================] - 0s 7ms/step - loss: 0.6356 - val_loss: 0.2315\n",
      "Epoch 2/100\n",
      "16/16 [==============================] - 0s 2ms/step - loss: 0.2510 - val_loss: 0.1232\n",
      "Epoch 3/100\n",
      "16/16 [==============================] - 0s 3ms/step - loss: 0.1708 - val_loss: 0.0662\n",
      "Epoch 4/100\n",
      "16/16 [==============================] - 0s 3ms/step - loss: 0.1065 - val_loss: 0.0548\n",
      "Epoch 5/100\n",
      "16/16 [==============================] - 0s 3ms/step - loss: 0.1279 - val_loss: 0.0675\n",
      "Epoch 1/100\n",
      "16/16 [==============================] - 0s 6ms/step - loss: 0.8271 - val_loss: 0.2795\n",
      "Epoch 2/100\n",
      "16/16 [==============================] - 0s 2ms/step - loss: 0.2890 - val_loss: 0.1304\n",
      "Epoch 3/100\n",
      "16/16 [==============================] - 0s 3ms/step - loss: 0.2134 - val_loss: 0.0939\n",
      "Epoch 4/100\n",
      "16/16 [==============================] - 0s 2ms/step - loss: 0.1281 - val_loss: 0.0868\n",
      "Epoch 1/100\n",
      "16/16 [==============================] - 0s 7ms/step - loss: 0.8072 - val_loss: 0.2824\n",
      "Epoch 2/100\n",
      "16/16 [==============================] - 0s 2ms/step - loss: 0.2868 - val_loss: 0.1580\n",
      "Epoch 3/100\n",
      "16/16 [==============================] - 0s 2ms/step - loss: 0.1748 - val_loss: 0.0763\n",
      "Epoch 4/100\n",
      "16/16 [==============================] - 0s 3ms/step - loss: 0.1474 - val_loss: 0.0603\n",
      "Epoch 5/100\n",
      "16/16 [==============================] - 0s 2ms/step - loss: 0.1042 - val_loss: 0.0528\n",
      "Epoch 1/100\n",
      "16/16 [==============================] - 0s 6ms/step - loss: 0.8758 - val_loss: 0.2087\n",
      "Epoch 2/100\n",
      "16/16 [==============================] - 0s 3ms/step - loss: 0.2382 - val_loss: 0.1113\n",
      "Epoch 3/100\n",
      "16/16 [==============================] - 0s 3ms/step - loss: 0.1609 - val_loss: 0.1163\n",
      "Epoch 1/100\n",
      "16/16 [==============================] - 0s 6ms/step - loss: 0.9775 - val_loss: 0.2433\n",
      "Epoch 2/100\n",
      "16/16 [==============================] - 0s 3ms/step - loss: 0.3231 - val_loss: 0.1257\n",
      "Epoch 3/100\n",
      "16/16 [==============================] - 0s 2ms/step - loss: 0.2025 - val_loss: 0.0933\n",
      "Epoch 4/100\n",
      "16/16 [==============================] - 0s 2ms/step - loss: 0.1603 - val_loss: 0.0759\n",
      "Epoch 5/100\n",
      "16/16 [==============================] - 0s 3ms/step - loss: 0.1243 - val_loss: 0.0807\n",
      "Epoch 1/100\n",
      "16/16 [==============================] - 0s 8ms/step - loss: 0.6253 - val_loss: 0.1641\n",
      "Epoch 2/100\n",
      "16/16 [==============================] - 0s 3ms/step - loss: 0.1872 - val_loss: 0.1108\n",
      "Epoch 3/100\n",
      "16/16 [==============================] - 0s 3ms/step - loss: 0.1440 - val_loss: 0.0594\n",
      "Epoch 4/100\n",
      "16/16 [==============================] - 0s 3ms/step - loss: 0.0883 - val_loss: 0.0590\n",
      "Epoch 1/100\n",
      "16/16 [==============================] - 0s 7ms/step - loss: 0.6134 - val_loss: 0.1517\n",
      "Epoch 2/100\n",
      "16/16 [==============================] - 0s 3ms/step - loss: 0.1566 - val_loss: 0.0634\n",
      "Epoch 3/100\n",
      "16/16 [==============================] - 0s 3ms/step - loss: 0.1024 - val_loss: 0.0563\n",
      "Epoch 1/100\n",
      "16/16 [==============================] - 0s 7ms/step - loss: 0.7771 - val_loss: 0.3045\n",
      "Epoch 2/100\n",
      "16/16 [==============================] - 0s 3ms/step - loss: 0.2580 - val_loss: 0.0928\n",
      "Epoch 3/100\n",
      "16/16 [==============================] - 0s 3ms/step - loss: 0.1060 - val_loss: 0.0519\n",
      "Epoch 4/100\n",
      "16/16 [==============================] - 0s 3ms/step - loss: 0.0912 - val_loss: 0.0514\n",
      "Epoch 1/100\n",
      "16/16 [==============================] - 0s 7ms/step - loss: 0.8045 - val_loss: 0.1771\n",
      "Epoch 2/100\n",
      "16/16 [==============================] - 0s 3ms/step - loss: 0.2045 - val_loss: 0.0930\n",
      "Epoch 3/100\n",
      "16/16 [==============================] - 0s 3ms/step - loss: 0.1141 - val_loss: 0.0655\n",
      "Epoch 4/100\n",
      "16/16 [==============================] - 0s 3ms/step - loss: 0.0992 - val_loss: 0.0568\n",
      "Epoch 1/100\n",
      "16/16 [==============================] - 0s 8ms/step - loss: 0.8154 - val_loss: 0.2092\n",
      "Epoch 2/100\n",
      "16/16 [==============================] - 0s 3ms/step - loss: 0.2288 - val_loss: 0.1084\n",
      "Epoch 3/100\n",
      "16/16 [==============================] - 0s 3ms/step - loss: 0.1151 - val_loss: 0.0754\n",
      "Epoch 4/100\n",
      "16/16 [==============================] - 0s 3ms/step - loss: 0.1009 - val_loss: 0.0657\n",
      "Epoch 1/100\n",
      "16/16 [==============================] - 0s 9ms/step - loss: 0.5943 - val_loss: 0.1756\n",
      "Epoch 2/100\n",
      "16/16 [==============================] - 0s 5ms/step - loss: 0.1492 - val_loss: 0.0680\n",
      "Epoch 3/100\n",
      "16/16 [==============================] - 0s 5ms/step - loss: 0.0999 - val_loss: 0.0521\n",
      "Epoch 4/100\n",
      "16/16 [==============================] - 0s 5ms/step - loss: 0.0769 - val_loss: 0.0547\n",
      "Epoch 1/100\n",
      "16/16 [==============================] - 0s 9ms/step - loss: 0.7486 - val_loss: 0.1806\n",
      "Epoch 2/100\n",
      "16/16 [==============================] - 0s 5ms/step - loss: 0.1611 - val_loss: 0.0616\n",
      "Epoch 3/100\n",
      "16/16 [==============================] - 0s 5ms/step - loss: 0.0929 - val_loss: 0.0521\n",
      "Epoch 1/100\n",
      "16/16 [==============================] - 0s 8ms/step - loss: 0.6819 - val_loss: 0.1329\n",
      "Epoch 2/100\n",
      "16/16 [==============================] - 0s 5ms/step - loss: 0.1515 - val_loss: 0.0550\n",
      "Epoch 3/100\n",
      "16/16 [==============================] - 0s 5ms/step - loss: 0.0861 - val_loss: 0.0581\n",
      "Epoch 1/100\n",
      "16/16 [==============================] - 0s 9ms/step - loss: 0.7289 - val_loss: 0.1202\n",
      "Epoch 2/100\n",
      "16/16 [==============================] - 0s 5ms/step - loss: 0.1522 - val_loss: 0.1248\n",
      "Epoch 1/100\n",
      "16/16 [==============================] - 1s 26ms/step - loss: 0.6393 - val_loss: 0.1237\n",
      "Epoch 2/100\n",
      "16/16 [==============================] - 0s 5ms/step - loss: 0.1432 - val_loss: 0.0741\n",
      "Epoch 3/100\n",
      "16/16 [==============================] - 0s 5ms/step - loss: 0.0800 - val_loss: 0.0612\n",
      "Epoch 4/100\n",
      "16/16 [==============================] - 0s 5ms/step - loss: 0.0792 - val_loss: 0.0599\n"
     ]
    }
   ],
   "source": [
    "dropout_list=[0,0.1,0.2,0.3,0.4,0.5,0.6,0.7,0.8]\n",
    "n_perceptrons_list=[32, 64, 128, 256]\n",
    "\n",
    "best_loss=10e10\n",
    "for dropout in dropout_list:\n",
    "    loss=CV_NN(dropout=dropout).mean()\n",
    "    if loss<best_loss:\n",
    "        best_loss=loss\n",
    "        best_dropout=dropout\n",
    "\n",
    "best_loss=10e10\n",
    "for n_perceptrons in n_perceptrons_list:\n",
    "    loss=CV_NN(n_perceptrons=n_perceptrons).mean()\n",
    "    if loss<best_loss:\n",
    "        best_loss=loss\n",
    "        best_n_perceptrons=n_perceptrons\n"
   ]
  },
  {
   "cell_type": "code",
   "execution_count": 175,
   "id": "c3cd09f8-5f23-4fe6-90b5-9596874e5ec7",
   "metadata": {
    "tags": []
   },
   "outputs": [
    {
     "data": {
      "text/plain": [
       "(0, 128, 0.06624059561954868)"
      ]
     },
     "execution_count": 175,
     "metadata": {},
     "output_type": "execute_result"
    }
   ],
   "source": [
    "best_dropout,best_n_perceptrons"
   ]
  },
  {
   "cell_type": "markdown",
   "id": "e4a03c85-e097-425b-a286-754733207d69",
   "metadata": {},
   "source": [
    "A model can now be built with the best parameters found above:"
   ]
  },
  {
   "cell_type": "code",
   "execution_count": 176,
   "id": "aa8a1d78-bd45-4388-8e58-2d3123e9cc20",
   "metadata": {},
   "outputs": [
    {
     "name": "stdout",
     "output_type": "stream",
     "text": [
      "Model: \"simple_MLP\"\n",
      "_________________________________________________________________\n",
      "Layer (type)                 Output Shape              Param #   \n",
      "=================================================================\n",
      "input_682 (InputLayer)       [(None, 4998)]            0         \n",
      "_________________________________________________________________\n",
      "dense_2038 (Dense)           (None, 128)               639872    \n",
      "_________________________________________________________________\n",
      "dropout_1272 (Dropout)       (None, 128)               0         \n",
      "_________________________________________________________________\n",
      "dense_2039 (Dense)           (None, 128)               16512     \n",
      "_________________________________________________________________\n",
      "dropout_1273 (Dropout)       (None, 128)               0         \n",
      "_________________________________________________________________\n",
      "dense_2040 (Dense)           (None, 1)                 129       \n",
      "=================================================================\n",
      "Total params: 656,513\n",
      "Trainable params: 656,513\n",
      "Non-trainable params: 0\n",
      "_________________________________________________________________\n",
      "Epoch 1/100\n",
      "16/16 [==============================] - 0s 7ms/step - loss: 0.6488 - val_loss: 0.1583\n",
      "Epoch 2/100\n",
      "16/16 [==============================] - 0s 3ms/step - loss: 0.1467 - val_loss: 0.0955\n",
      "Epoch 3/100\n",
      "16/16 [==============================] - 0s 3ms/step - loss: 0.0879 - val_loss: 0.0582\n",
      "Epoch 4/100\n",
      "16/16 [==============================] - 0s 3ms/step - loss: 0.0635 - val_loss: 0.0582\n",
      "Epoch 5/100\n",
      "16/16 [==============================] - 0s 3ms/step - loss: 0.0444 - val_loss: 0.0542\n",
      "Epoch 6/100\n",
      "16/16 [==============================] - 0s 3ms/step - loss: 0.0459 - val_loss: 0.0509\n",
      "Epoch 7/100\n",
      "16/16 [==============================] - 0s 3ms/step - loss: 0.0472 - val_loss: 0.0488\n",
      "Epoch 8/100\n",
      "16/16 [==============================] - 0s 3ms/step - loss: 0.0372 - val_loss: 0.0502\n",
      "Epoch 9/100\n",
      "16/16 [==============================] - 0s 3ms/step - loss: 0.0349 - val_loss: 0.0478\n",
      "Epoch 10/100\n",
      "16/16 [==============================] - 0s 3ms/step - loss: 0.0361 - val_loss: 0.0495\n",
      "Epoch 11/100\n",
      "16/16 [==============================] - 0s 4ms/step - loss: 0.0308 - val_loss: 0.0487\n",
      "Epoch 12/100\n",
      "16/16 [==============================] - 0s 3ms/step - loss: 0.0319 - val_loss: 0.0583\n"
     ]
    },
    {
     "data": {
      "text/plain": [
       "<tensorflow.python.keras.callbacks.History at 0x7f71dc5902e0>"
      ]
     },
     "execution_count": 176,
     "metadata": {},
     "output_type": "execute_result"
    }
   ],
   "source": [
    "model=create_model(summary=True, dropout=best_dropout, n_perceptrons=best_n_perceptrons)\n",
    "model.fit(X_train_split.reshape([-1, ridge_search.best_params_[\"fingerprinter__n_bits\"]*3]), y_train_split, callbacks =[monitor], epochs=100, validation_split=0.25)"
   ]
  },
  {
   "cell_type": "code",
   "execution_count": 177,
   "id": "1e6a5bec-b07c-4141-86ab-044947f23ebb",
   "metadata": {},
   "outputs": [
    {
     "data": {
      "image/png": "[encoded data removed]",
      "text/plain": [
       "<Figure size 432x288 with 1 Axes>"
      ]
     },
     "metadata": {},
     "output_type": "display_data"
    }
   ],
   "source": [
    "plt.plot(model.history.history['loss'])\n",
    "plt.plot(model.history.history['val_loss'])\n",
    "plt.title('model loss')\n",
    "plt.ylabel('loss')\n",
    "plt.xlabel('epoch')\n",
    "plt.legend(['train', 'val'], loc='upper left')\n",
    "plt.show()"
   ]
  },
  {
   "cell_type": "code",
   "execution_count": 178,
   "id": "d86691ff-9424-4245-92e4-875ba4f3a409",
   "metadata": {},
   "outputs": [
    {
     "data": {
      "text/plain": [
       "0.048170710247184556"
      ]
     },
     "execution_count": 178,
     "metadata": {},
     "output_type": "execute_result"
    }
   ],
   "source": [
    "mean_squared_error(model.predict(X_test),y_test)"
   ]
  },
  {
   "cell_type": "code",
   "execution_count": null,
   "id": "7a8e702e-6b61-4369-b66f-44db69dbaf70",
   "metadata": {},
   "outputs": [],
   "source": []
  },
  {
   "cell_type": "code",
   "execution_count": null,
   "id": "2d889019-bb9f-49b6-bd7d-5ade5593d2d0",
   "metadata": {},
   "outputs": [],
   "source": []
  },
  {
   "cell_type": "code",
   "execution_count": null,
   "id": "6d2f7aa7-4145-4dc9-b4c9-99f6cc2925ca",
   "metadata": {},
   "outputs": [],
   "source": []
  },
  {
   "cell_type": "markdown",
   "id": "native-identification",
   "metadata": {},
   "source": [
    "Alternative: use qsar fingerprints: http://www.qsar4u.com/files/qsar_rdkit_tutorial/qsar-rdkit.html\n",
    "\n",
    "Alternative to consider: https://pubs.acs.org/doi/10.1021/acs.jcim.7b00616\n",
    "\n",
    "Why the morgan fingerprint? The litterature does not seem to agree but they seem to lean towards that fingerprint: http://practicalcheminformatics.blogspot.com/2020/03/benchmarking-one-molecular-fingerprint.html"
   ]
  },
  {
   "cell_type": "markdown",
   "id": "dec8a0ae-555f-4c5c-b551-695de4cec319",
   "metadata": {},
   "source": [
    "Personal notes: Iterations:\n",
    "1. Tried to compute morgan fingerprint and take that output to compute a ridge regression. This would have been the simplest and most naive iteration. Initially a failure, I ended up being able to fine tune it more or less. Due to the high cost of the computations I did not fine-tune the hyperparameters too much.\n",
    "2. Random forest regression. I realized here that the morgan fingerprint parameters would be optimizable from a simple linear regression and could then be discarded as a hyperparameter. If time allows it, This will get changed, but I would like to continue building some models and a good way of comparing them before. "
   ]
  },
  {
   "cell_type": "markdown",
   "id": "80eab035-ca68-440d-a96e-7a89b1046022",
   "metadata": {},
   "source": [
    "For the bootstrapping: sample size has to be extremely small, otherwise it does the take too much time (>7h...). Is pretty useless like this. In case of trying again: https://ogrisel.github.io/scikit-learn.org/sklearn-tutorial/modules/generated/sklearn.cross_validation.Bootstrap.html"
   ]
  },
  {
   "cell_type": "code",
   "execution_count": null,
   "id": "87bdb65e-a99a-4712-96e3-b14c58d580de",
   "metadata": {},
   "outputs": [],
   "source": []
  }
 ],
 "metadata": {
  "kernelspec": {
   "display_name": "Python 3",
   "language": "python",
   "name": "python3"
  },
  "language_info": {
   "codemirror_mode": {
    "name": "ipython",
    "version": 3
   },
   "file_extension": ".py",
   "mimetype": "text/x-python",
   "name": "python",
   "nbconvert_exporter": "python",
   "pygments_lexer": "ipython3",
   "version": "3.8.5"
  }
 },
 "nbformat": 4,
 "nbformat_minor": 5
}
