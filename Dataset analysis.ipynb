{
 "cells": [
  {
   "cell_type": "markdown",
   "id": "forward-passenger",
   "metadata": {},
   "source": [
    "# Installing and importing dependencies"
   ]
  },
  {
   "cell_type": "code",
   "execution_count": 1,
   "id": "destroyed-words",
   "metadata": {
    "scrolled": true
   },
   "outputs": [
    {
     "name": "stdout",
     "output_type": "stream",
     "text": [
      "Requirement already satisfied: openpyxl in /home/giustino/miniconda3/lib/python3.8/site-packages (3.0.10)\n",
      "Requirement already satisfied: et-xmlfile in /home/giustino/miniconda3/lib/python3.8/site-packages (from openpyxl) (1.1.0)\n",
      "Requirement already satisfied: pandas in /home/giustino/.local/lib/python3.8/site-packages (1.3.3)\n",
      "Requirement already satisfied: numpy>=1.17.3 in /home/giustino/.local/lib/python3.8/site-packages (from pandas) (1.19.5)\n",
      "Requirement already satisfied: pytz>=2017.3 in /home/giustino/miniconda3/lib/python3.8/site-packages (from pandas) (2021.1)\n",
      "Requirement already satisfied: python-dateutil>=2.7.3 in /home/giustino/miniconda3/lib/python3.8/site-packages (from pandas) (2.8.2)\n",
      "Requirement already satisfied: six>=1.5 in /home/giustino/.local/lib/python3.8/site-packages (from python-dateutil>=2.7.3->pandas) (1.15.0)\n",
      "Requirement already satisfied: numpy in /home/giustino/.local/lib/python3.8/site-packages (1.19.5)\n",
      "Requirement already satisfied: rdkit in /home/giustino/miniconda3/lib/python3.8/site-packages (2022.3.5)\n",
      "Requirement already satisfied: Pillow in /home/giustino/miniconda3/lib/python3.8/site-packages (from rdkit) (8.2.0)\n",
      "Requirement already satisfied: numpy in /home/giustino/.local/lib/python3.8/site-packages (from rdkit) (1.19.5)\n"
     ]
    }
   ],
   "source": [
    "!pip install openpyxl\n",
    "!pip install pandas\n",
    "!pip install numpy\n",
    "!pip install rdkit"
   ]
  },
  {
   "cell_type": "code",
   "execution_count": 2,
   "id": "furnished-press",
   "metadata": {
    "scrolled": true
   },
   "outputs": [],
   "source": [
    "import pandas as pd\n",
    "import numpy as np\n",
    "from rdkit import Chem\n",
    "from rdkit.Chem import AllChem\n",
    "from rdkit.Chem import Draw\n",
    "import matplotlib.pyplot as plt\n",
    "from sklearn.base import BaseEstimator, TransformerMixin\n",
    "from sklearn.linear_model import Ridge\n",
    "from sklearn.pipeline import Pipeline\n",
    "from sklearn.model_selection import GridSearchCV\n",
    "from sklearn.model_selection import train_test_split"
   ]
  },
  {
   "cell_type": "markdown",
   "id": "documented-pharmacology",
   "metadata": {},
   "source": [
    "Function that will be used to check that no \"na\" values appear:"
   ]
  },
  {
   "cell_type": "code",
   "execution_count": 3,
   "id": "bright-token",
   "metadata": {},
   "outputs": [],
   "source": [
    "def check_no_na(data):\n",
    "    if data.isna().sum().eq(0).all():\n",
    "        print(\"Success: No NA values found.\")\n",
    "        return\n",
    "    print(\"Warning: NA values found.\")"
   ]
  },
  {
   "cell_type": "markdown",
   "id": "weird-office",
   "metadata": {},
   "source": [
    "# Importing the dataset"
   ]
  },
  {
   "cell_type": "code",
   "execution_count": 4,
   "id": "decreased-bradford",
   "metadata": {
    "scrolled": true
   },
   "outputs": [
    {
     "data": {
      "text/html": [
       "<div>\n",
       "<style scoped>\n",
       "    .dataframe tbody tr th:only-of-type {\n",
       "        vertical-align: middle;\n",
       "    }\n",
       "\n",
       "    .dataframe tbody tr th {\n",
       "        vertical-align: top;\n",
       "    }\n",
       "\n",
       "    .dataframe thead th {\n",
       "        text-align: right;\n",
       "    }\n",
       "</style>\n",
       "<table border=\"1\" class=\"dataframe\">\n",
       "  <thead>\n",
       "    <tr style=\"text-align: right;\">\n",
       "      <th></th>\n",
       "      <th>Catalyst</th>\n",
       "      <th>Imine</th>\n",
       "      <th>Thiol</th>\n",
       "      <th>Output</th>\n",
       "    </tr>\n",
       "  </thead>\n",
       "  <tbody>\n",
       "    <tr>\n",
       "      <th>0</th>\n",
       "      <td>O=P1(O)OC2=C(C3=C(C4CCCCC4)C=C(C5CCCCC5)C=C3C6...</td>\n",
       "      <td>O=C(C1=CC=CC=C1)/N=C/C2=CC=C(Cl)C=C2Cl</td>\n",
       "      <td>SC1=CC=CC=C1C</td>\n",
       "      <td>3.134625</td>\n",
       "    </tr>\n",
       "    <tr>\n",
       "      <th>1</th>\n",
       "      <td>O=P1(O)OC2=C(C3=CC(C4=C(C)C=C(C)C=C4C)=CC(C5=C...</td>\n",
       "      <td>O=C(C1=CC=CC=C1)/N=C/C2=CC=C(OC)C=C2</td>\n",
       "      <td>SC1=CC=C(OC)C=C1</td>\n",
       "      <td>1.531803</td>\n",
       "    </tr>\n",
       "    <tr>\n",
       "      <th>2</th>\n",
       "      <td>O=P1(O)OC2=C(C3=CC=C(OC)C=C3)C=C4C(C=CC=C4)=C2...</td>\n",
       "      <td>O=C(C1=CC=CC=C1)/N=C/C2=CC=C(Cl)C=C2Cl</td>\n",
       "      <td>SC1=CC=CC=C1</td>\n",
       "      <td>1.074991</td>\n",
       "    </tr>\n",
       "    <tr>\n",
       "      <th>3</th>\n",
       "      <td>O=P1(O)OC2=[C@]([C@]3=C(Cl)C=C(Cl)C=C3Cl)C=C4C...</td>\n",
       "      <td>O=C(C1=CC=CC=C1)/N=C/C2=CC=C(OC)C=C2</td>\n",
       "      <td>SC1=CC=CC=C1C</td>\n",
       "      <td>1.334823</td>\n",
       "    </tr>\n",
       "    <tr>\n",
       "      <th>4</th>\n",
       "      <td>O=P1(O)OC2=C(C3=C(C=CC4=CC=CC(C=C5)=C46)C6=C5C...</td>\n",
       "      <td>O=C(C1=CC=CC=C1)/N=C/C2=CC=CC3=C2C=CC=C3</td>\n",
       "      <td>SC1=CC=CC=C1</td>\n",
       "      <td>1.743658</td>\n",
       "    </tr>\n",
       "  </tbody>\n",
       "</table>\n",
       "</div>"
      ],
      "text/plain": [
       "                                            Catalyst  \\\n",
       "0  O=P1(O)OC2=C(C3=C(C4CCCCC4)C=C(C5CCCCC5)C=C3C6...   \n",
       "1  O=P1(O)OC2=C(C3=CC(C4=C(C)C=C(C)C=C4C)=CC(C5=C...   \n",
       "2  O=P1(O)OC2=C(C3=CC=C(OC)C=C3)C=C4C(C=CC=C4)=C2...   \n",
       "3  O=P1(O)OC2=[C@]([C@]3=C(Cl)C=C(Cl)C=C3Cl)C=C4C...   \n",
       "4  O=P1(O)OC2=C(C3=C(C=CC4=CC=CC(C=C5)=C46)C6=C5C...   \n",
       "\n",
       "                                      Imine             Thiol    Output  \n",
       "0    O=C(C1=CC=CC=C1)/N=C/C2=CC=C(Cl)C=C2Cl     SC1=CC=CC=C1C  3.134625  \n",
       "1      O=C(C1=CC=CC=C1)/N=C/C2=CC=C(OC)C=C2  SC1=CC=C(OC)C=C1  1.531803  \n",
       "2    O=C(C1=CC=CC=C1)/N=C/C2=CC=C(Cl)C=C2Cl      SC1=CC=CC=C1  1.074991  \n",
       "3      O=C(C1=CC=CC=C1)/N=C/C2=CC=C(OC)C=C2     SC1=CC=CC=C1C  1.334823  \n",
       "4  O=C(C1=CC=CC=C1)/N=C/C2=CC=CC3=C2C=CC=C3      SC1=CC=CC=C1  1.743658  "
      ]
     },
     "execution_count": 4,
     "metadata": {},
     "output_type": "execute_result"
    }
   ],
   "source": [
    "df_raw=pd.read_excel(\"denmark.xlsx\")\n",
    "df_raw.head()"
   ]
  },
  {
   "cell_type": "markdown",
   "id": "broad-yahoo",
   "metadata": {},
   "source": [
    "# Looking at the data"
   ]
  },
  {
   "cell_type": "markdown",
   "id": "legendary-formation",
   "metadata": {},
   "source": [
    "### Target values"
   ]
  },
  {
   "cell_type": "markdown",
   "id": "popular-diabetes",
   "metadata": {},
   "source": [
    "First of all, it would be important to look at how output values are distributed:"
   ]
  },
  {
   "cell_type": "code",
   "execution_count": 5,
   "id": "essential-hands",
   "metadata": {},
   "outputs": [
    {
     "data": {
      "text/html": [
       "<div>\n",
       "<style scoped>\n",
       "    .dataframe tbody tr th:only-of-type {\n",
       "        vertical-align: middle;\n",
       "    }\n",
       "\n",
       "    .dataframe tbody tr th {\n",
       "        vertical-align: top;\n",
       "    }\n",
       "\n",
       "    .dataframe thead th {\n",
       "        text-align: right;\n",
       "    }\n",
       "</style>\n",
       "<table border=\"1\" class=\"dataframe\">\n",
       "  <thead>\n",
       "    <tr style=\"text-align: right;\">\n",
       "      <th></th>\n",
       "      <th>Output</th>\n",
       "    </tr>\n",
       "  </thead>\n",
       "  <tbody>\n",
       "    <tr>\n",
       "      <th>count</th>\n",
       "      <td>1075.000000</td>\n",
       "    </tr>\n",
       "    <tr>\n",
       "      <th>mean</th>\n",
       "      <td>0.987658</td>\n",
       "    </tr>\n",
       "    <tr>\n",
       "      <th>std</th>\n",
       "      <td>0.700524</td>\n",
       "    </tr>\n",
       "    <tr>\n",
       "      <th>min</th>\n",
       "      <td>-0.419378</td>\n",
       "    </tr>\n",
       "    <tr>\n",
       "      <th>25%</th>\n",
       "      <td>0.473820</td>\n",
       "    </tr>\n",
       "    <tr>\n",
       "      <th>50%</th>\n",
       "      <td>1.050757</td>\n",
       "    </tr>\n",
       "    <tr>\n",
       "      <th>75%</th>\n",
       "      <td>1.370104</td>\n",
       "    </tr>\n",
       "    <tr>\n",
       "      <th>max</th>\n",
       "      <td>3.134625</td>\n",
       "    </tr>\n",
       "  </tbody>\n",
       "</table>\n",
       "</div>"
      ],
      "text/plain": [
       "            Output\n",
       "count  1075.000000\n",
       "mean      0.987658\n",
       "std       0.700524\n",
       "min      -0.419378\n",
       "25%       0.473820\n",
       "50%       1.050757\n",
       "75%       1.370104\n",
       "max       3.134625"
      ]
     },
     "execution_count": 5,
     "metadata": {},
     "output_type": "execute_result"
    }
   ],
   "source": [
    "df_raw.describe()"
   ]
  },
  {
   "cell_type": "markdown",
   "id": "numerous-titanium",
   "metadata": {},
   "source": [
    "One could also look at the distribution of the target variable:"
   ]
  },
  {
   "cell_type": "code",
   "execution_count": 6,
   "id": "inner-norman",
   "metadata": {},
   "outputs": [
    {
     "data": {
      "image/png": "[encoded data removed]",
      "text/plain": [
       "<Figure size 432x288 with 1 Axes>"
      ]
     },
     "metadata": {
      "needs_background": "light"
     },
     "output_type": "display_data"
    }
   ],
   "source": [
    "plt.hist(x=df_raw[\"Output\"], bins=20);\n",
    "plt.title(\"Distribution of output values\")\n",
    "plt.xlabel(\"Ouput value\");"
   ]
  },
  {
   "cell_type": "markdown",
   "id": "engaging-battle",
   "metadata": {},
   "source": [
    "### Features"
   ]
  },
  {
   "cell_type": "markdown",
   "id": "severe-queens",
   "metadata": {},
   "source": [
    "Are there any \"na\" values?"
   ]
  },
  {
   "cell_type": "code",
   "execution_count": 7,
   "id": "broad-snapshot",
   "metadata": {
    "scrolled": true
   },
   "outputs": [
    {
     "name": "stdout",
     "output_type": "stream",
     "text": [
      "Success: No NA values found.\n"
     ]
    }
   ],
   "source": [
    "check_no_na(df_raw)"
   ]
  },
  {
   "cell_type": "markdown",
   "id": "median-latter",
   "metadata": {},
   "source": [
    "How many different molecules are there?"
   ]
  },
  {
   "cell_type": "code",
   "execution_count": 8,
   "id": "amber-aquarium",
   "metadata": {},
   "outputs": [
    {
     "data": {
      "text/html": [
       "<div>\n",
       "<style scoped>\n",
       "    .dataframe tbody tr th:only-of-type {\n",
       "        vertical-align: middle;\n",
       "    }\n",
       "\n",
       "    .dataframe tbody tr th {\n",
       "        vertical-align: top;\n",
       "    }\n",
       "\n",
       "    .dataframe thead th {\n",
       "        text-align: right;\n",
       "    }\n",
       "</style>\n",
       "<table border=\"1\" class=\"dataframe\">\n",
       "  <thead>\n",
       "    <tr style=\"text-align: right;\">\n",
       "      <th></th>\n",
       "      <th>Unique Catalysts</th>\n",
       "      <th>Unique Imines</th>\n",
       "      <th>Unique Thiols</th>\n",
       "    </tr>\n",
       "  </thead>\n",
       "  <tbody>\n",
       "    <tr>\n",
       "      <th>0</th>\n",
       "      <td>43</td>\n",
       "      <td>5</td>\n",
       "      <td>5</td>\n",
       "    </tr>\n",
       "  </tbody>\n",
       "</table>\n",
       "</div>"
      ],
      "text/plain": [
       "   Unique Catalysts  Unique Imines  Unique Thiols\n",
       "0                43              5              5"
      ]
     },
     "execution_count": 8,
     "metadata": {},
     "output_type": "execute_result"
    }
   ],
   "source": [
    "unique_catalysts=df_raw[\"Catalyst\"].unique()\n",
    "unique_imines=df_raw[\"Imine\"].unique()\n",
    "unique_thiols=df_raw[\"Thiol\"].unique()\n",
    "pd.DataFrame({\"Unique Catalysts\": [unique_catalysts.shape[0]], \"Unique Imines\": [unique_imines.shape[0]], \"Unique Thiols\": [unique_thiols.shape[0]]})"
   ]
  },
  {
   "cell_type": "markdown",
   "id": "general-overall",
   "metadata": {},
   "source": [
    "Here, one could use One-hot encoding for the Imines and Thiols. This idea was discarded since in the case another Thiol or Imine is added, one would have to retrain the model instead of being able to fine-tune it. "
   ]
  },
  {
   "cell_type": "markdown",
   "id": "placed-movement",
   "metadata": {},
   "source": [
    "Show 3 random different Catalysts:"
   ]
  },
  {
   "cell_type": "code",
   "execution_count": 9,
   "id": "correct-generation",
   "metadata": {},
   "outputs": [
    {
     "data": {
      "image/png": "[encoded data removed]",
      "text/plain": [
       "<IPython.core.display.Image object>"
      ]
     },
     "execution_count": 9,
     "metadata": {},
     "output_type": "execute_result"
    }
   ],
   "source": [
    "mol_list=[]\n",
    "unique_molecules=df_raw[\"Imine\"].unique()\n",
    "for i in range(3):\n",
    "    index=np.random.randint(0, unique_molecules.shape[0])\n",
    "    mol_list.append(Chem.MolFromSmiles(unique_molecules[index]))\n",
    "    unique_molecules=np.delete(unique_molecules,index)\n",
    "Draw.MolsToGridImage(mol_list)"
   ]
  },
  {
   "cell_type": "markdown",
   "id": "banner-edmonton",
   "metadata": {},
   "source": [
    "Show 3 random different Imine:"
   ]
  },
  {
   "cell_type": "code",
   "execution_count": 10,
   "id": "athletic-washington",
   "metadata": {},
   "outputs": [
    {
     "data": {
      "image/png": "[encoded data removed]",
      "text/plain": [
       "<IPython.core.display.Image object>"
      ]
     },
     "execution_count": 10,
     "metadata": {},
     "output_type": "execute_result"
    }
   ],
   "source": [
    "mol_list=[]\n",
    "unique_molecules=df_raw[\"Imine\"].unique()\n",
    "for i in range(3):\n",
    "    index=np.random.randint(0, unique_molecules.shape[0])\n",
    "    mol_list.append(Chem.MolFromSmiles(unique_molecules[index]))\n",
    "    unique_molecules=np.delete(unique_molecules,index)\n",
    "Draw.MolsToGridImage(mol_list)"
   ]
  },
  {
   "cell_type": "markdown",
   "id": "animated-weapon",
   "metadata": {},
   "source": [
    "Show 3 random different Thiol:"
   ]
  },
  {
   "cell_type": "code",
   "execution_count": 11,
   "id": "republican-business",
   "metadata": {},
   "outputs": [
    {
     "data": {
      "image/png": "[encoded data removed]",
      "text/plain": [
       "<IPython.core.display.Image object>"
      ]
     },
     "execution_count": 11,
     "metadata": {},
     "output_type": "execute_result"
    }
   ],
   "source": [
    "mol_list=[]\n",
    "unique_molecules=df_raw[\"Thiol\"].unique()\n",
    "for i in range(3):\n",
    "    index=np.random.randint(0, unique_molecules.shape[0])\n",
    "    mol_list.append(Chem.MolFromSmiles(unique_molecules[index]))\n",
    "    unique_molecules=np.delete(unique_molecules, index)\n",
    "Draw.MolsToGridImage(mol_list)"
   ]
  },
  {
   "cell_type": "markdown",
   "id": "common-finish",
   "metadata": {},
   "source": [
    "# Preprocessing"
   ]
  },
  {
   "cell_type": "markdown",
   "id": "thorough-switch",
   "metadata": {},
   "source": [
    "### Creating RDKit molecules"
   ]
  },
  {
   "cell_type": "markdown",
   "id": "after-germany",
   "metadata": {},
   "source": [
    "Translating the \"Catalyst\", the \"Imine\" and the \"Thiol\" columns from SMILES to a RDKit molecule:"
   ]
  },
  {
   "cell_type": "code",
   "execution_count": 12,
   "id": "confidential-teach",
   "metadata": {},
   "outputs": [
    {
     "data": {
      "text/html": [
       "<div>\n",
       "<style scoped>\n",
       "    .dataframe tbody tr th:only-of-type {\n",
       "        vertical-align: middle;\n",
       "    }\n",
       "\n",
       "    .dataframe tbody tr th {\n",
       "        vertical-align: top;\n",
       "    }\n",
       "\n",
       "    .dataframe thead th {\n",
       "        text-align: right;\n",
       "    }\n",
       "</style>\n",
       "<table border=\"1\" class=\"dataframe\">\n",
       "  <thead>\n",
       "    <tr style=\"text-align: right;\">\n",
       "      <th></th>\n",
       "      <th>Catalyst</th>\n",
       "      <th>Imine</th>\n",
       "      <th>Thiol</th>\n",
       "    </tr>\n",
       "  </thead>\n",
       "  <tbody>\n",
       "    <tr>\n",
       "      <th>0</th>\n",
       "      <td>&lt;rdkit.Chem.rdchem.Mol object at 0x7f9ddb568260&gt;</td>\n",
       "      <td>&lt;rdkit.Chem.rdchem.Mol object at 0x7f9ddb568300&gt;</td>\n",
       "      <td>&lt;rdkit.Chem.rdchem.Mol object at 0x7f9ddb4fef30&gt;</td>\n",
       "    </tr>\n",
       "    <tr>\n",
       "      <th>1</th>\n",
       "      <td>&lt;rdkit.Chem.rdchem.Mol object at 0x7f9ddb5683f0&gt;</td>\n",
       "      <td>&lt;rdkit.Chem.rdchem.Mol object at 0x7f9ddb5684e0&gt;</td>\n",
       "      <td>&lt;rdkit.Chem.rdchem.Mol object at 0x7f9ddb4fee90&gt;</td>\n",
       "    </tr>\n",
       "    <tr>\n",
       "      <th>2</th>\n",
       "      <td>&lt;rdkit.Chem.rdchem.Mol object at 0x7f9ddb568670&gt;</td>\n",
       "      <td>&lt;rdkit.Chem.rdchem.Mol object at 0x7f9ddb4fee40&gt;</td>\n",
       "      <td>&lt;rdkit.Chem.rdchem.Mol object at 0x7f9ddb514760&gt;</td>\n",
       "    </tr>\n",
       "    <tr>\n",
       "      <th>3</th>\n",
       "      <td>&lt;rdkit.Chem.rdchem.Mol object at 0x7f9ddb5686c0&gt;</td>\n",
       "      <td>&lt;rdkit.Chem.rdchem.Mol object at 0x7f9ddb4fedf0&gt;</td>\n",
       "      <td>&lt;rdkit.Chem.rdchem.Mol object at 0x7f9ddb514710&gt;</td>\n",
       "    </tr>\n",
       "    <tr>\n",
       "      <th>4</th>\n",
       "      <td>&lt;rdkit.Chem.rdchem.Mol object at 0x7f9ddb568710&gt;</td>\n",
       "      <td>&lt;rdkit.Chem.rdchem.Mol object at 0x7f9ddb4ff030&gt;</td>\n",
       "      <td>&lt;rdkit.Chem.rdchem.Mol object at 0x7f9ddb5146c0&gt;</td>\n",
       "    </tr>\n",
       "  </tbody>\n",
       "</table>\n",
       "</div>"
      ],
      "text/plain": [
       "                                           Catalyst  \\\n",
       "0  <rdkit.Chem.rdchem.Mol object at 0x7f9ddb568260>   \n",
       "1  <rdkit.Chem.rdchem.Mol object at 0x7f9ddb5683f0>   \n",
       "2  <rdkit.Chem.rdchem.Mol object at 0x7f9ddb568670>   \n",
       "3  <rdkit.Chem.rdchem.Mol object at 0x7f9ddb5686c0>   \n",
       "4  <rdkit.Chem.rdchem.Mol object at 0x7f9ddb568710>   \n",
       "\n",
       "                                              Imine  \\\n",
       "0  <rdkit.Chem.rdchem.Mol object at 0x7f9ddb568300>   \n",
       "1  <rdkit.Chem.rdchem.Mol object at 0x7f9ddb5684e0>   \n",
       "2  <rdkit.Chem.rdchem.Mol object at 0x7f9ddb4fee40>   \n",
       "3  <rdkit.Chem.rdchem.Mol object at 0x7f9ddb4fedf0>   \n",
       "4  <rdkit.Chem.rdchem.Mol object at 0x7f9ddb4ff030>   \n",
       "\n",
       "                                              Thiol  \n",
       "0  <rdkit.Chem.rdchem.Mol object at 0x7f9ddb4fef30>  \n",
       "1  <rdkit.Chem.rdchem.Mol object at 0x7f9ddb4fee90>  \n",
       "2  <rdkit.Chem.rdchem.Mol object at 0x7f9ddb514760>  \n",
       "3  <rdkit.Chem.rdchem.Mol object at 0x7f9ddb514710>  \n",
       "4  <rdkit.Chem.rdchem.Mol object at 0x7f9ddb5146c0>  "
      ]
     },
     "execution_count": 12,
     "metadata": {},
     "output_type": "execute_result"
    }
   ],
   "source": [
    "df_X=df_raw[[\"Catalyst\", \"Imine\", \"Thiol\"]].applymap(Chem.MolFromSmiles)\n",
    "df_y=df_raw[\"Output\"]\n",
    "df_X.head()"
   ]
  },
  {
   "cell_type": "markdown",
   "id": "black-hartford",
   "metadata": {},
   "source": [
    "Verifying that all the smiles transfered successfuly. The RDKit documentaton states:\n",
    "\n",
    ">or None on failure:\n",
    ">\n",
    ">> ```m = Chem.MolFromMolFile('data/invalid.mol')```\n",
    ">>\n",
    ">> ```m is None```\n",
    ">\n",
    ">True\n",
    "\n",
    "So the \"na\" instances are counted and should be 0 if no problems were encountered:"
   ]
  },
  {
   "cell_type": "code",
   "execution_count": 13,
   "id": "nominated-impact",
   "metadata": {},
   "outputs": [
    {
     "name": "stdout",
     "output_type": "stream",
     "text": [
      "Success: No NA values found.\n"
     ]
    }
   ],
   "source": [
    "check_no_na(df_X)"
   ]
  },
  {
   "cell_type": "markdown",
   "id": "preceding-order",
   "metadata": {},
   "source": [
    "For later on, Morgan fingerprints will be used. In order to try and search for the best parameters for these molecules, the atom radius and the number of bits used will be searched using grid search."
   ]
  },
  {
   "cell_type": "markdown",
   "id": "pending-dubai",
   "metadata": {},
   "source": [
    "### Creating a Pipeline"
   ]
  },
  {
   "cell_type": "markdown",
   "id": "preceding-forward",
   "metadata": {},
   "source": [
    "Here, in order to later use SKlearn's ```CVGridSearch```, a custom pipeline will be built in order to be able to find the ideal hyperparameters. First step: creating a custom transformer to be used in the pipeline, in order to use RDKit's ```GetMorganFingerprint```'s parameters as hyperparameters for the model."
   ]
  },
  {
   "cell_type": "code",
   "execution_count": 14,
   "id": "disturbed-opening",
   "metadata": {},
   "outputs": [],
   "source": [
    "class fingerprinter(BaseEstimator, TransformerMixin):\n",
    "    def __init__(self, n_bits=1024, n_atom=2):\n",
    "        self.n_bits = n_bits\n",
    "        self.n_atom = n_atom\n",
    "    def fit(self, X, y=None):\n",
    "        return self\n",
    "    def transform(self, X):\n",
    "        morgan_fp= lambda x: AllChem.GetMorganFingerprint(x, self.n_atom, nBits=self.n_bits)\n",
    "        X=np.vectorize(morgan_fp)\n",
    "        return X\n",
    "        "
   ]
  },
  {
   "cell_type": "markdown",
   "id": "headed-contemporary",
   "metadata": {},
   "source": [
    "Now, the first pipeline can be created:"
   ]
  },
  {
   "cell_type": "code",
   "execution_count": 15,
   "id": "unexpected-collective",
   "metadata": {},
   "outputs": [],
   "source": [
    "pipe = Pipeline([( \"fingerprinter\" , fingerprinter()),\n",
    "                       (\"ridge\",Ridge())])"
   ]
  },
  {
   "cell_type": "code",
   "execution_count": 16,
   "id": "focused-centre",
   "metadata": {},
   "outputs": [],
   "source": [
    "param_grid={\"fingerprinter__n_bits\":np.logspace(2, 4, 3, dtype=int), \"fingerprinter__n_atom\":np.arange(1, 3, 1), \"fingerprinter__n_bits\":np.logspace(2, 4, 3, dtype=int), \"ridge__alpha\":np.logspace(0, 3, 10)}"
   ]
  },
  {
   "cell_type": "code",
   "execution_count": 17,
   "id": "considered-receiver",
   "metadata": {},
   "outputs": [
    {
     "data": {
      "text/plain": [
       "{'fingerprinter__n_bits': array([  100,  1000, 10000]),\n",
       " 'fingerprinter__n_atom': array([1, 2]),\n",
       " 'ridge__alpha': array([   1.        ,    2.15443469,    4.64158883,   10.        ,\n",
       "          21.5443469 ,   46.41588834,  100.        ,  215.443469  ,\n",
       "         464.15888336, 1000.        ])}"
      ]
     },
     "execution_count": 17,
     "metadata": {},
     "output_type": "execute_result"
    }
   ],
   "source": [
    "param_grid"
   ]
  },
  {
   "cell_type": "code",
   "execution_count": 18,
   "id": "assumed-server",
   "metadata": {},
   "outputs": [],
   "source": [
    "X_train, X_test, y_train, y_test=train_test_split(df_X.to_numpy(), df_y.to_numpy(), train_size=0.75)"
   ]
  },
  {
   "cell_type": "code",
   "execution_count": 19,
   "id": "rental-timing",
   "metadata": {},
   "outputs": [
    {
     "ename": "TypeError",
     "evalue": "float() argument must be a string or a number, not 'vectorize'",
     "output_type": "error",
     "traceback": [
      "\u001b[0;31m---------------------------------------------------------------------------\u001b[0m",
      "\u001b[0;31m_RemoteTraceback\u001b[0m                          Traceback (most recent call last)",
      "\u001b[0;31m_RemoteTraceback\u001b[0m: \n\"\"\"\nTraceback (most recent call last):\n  File \"/home/giustino/miniconda3/lib/python3.8/site-packages/joblib/externals/loky/process_executor.py\", line 436, in _process_worker\n    r = call_item()\n  File \"/home/giustino/miniconda3/lib/python3.8/site-packages/joblib/externals/loky/process_executor.py\", line 288, in __call__\n    return self.fn(*self.args, **self.kwargs)\n  File \"/home/giustino/miniconda3/lib/python3.8/site-packages/joblib/_parallel_backends.py\", line 595, in __call__\n    return self.func(*args, **kwargs)\n  File \"/home/giustino/miniconda3/lib/python3.8/site-packages/joblib/parallel.py\", line 262, in __call__\n    return [func(*args, **kwargs)\n  File \"/home/giustino/miniconda3/lib/python3.8/site-packages/joblib/parallel.py\", line 262, in <listcomp>\n    return [func(*args, **kwargs)\n  File \"/home/giustino/miniconda3/lib/python3.8/site-packages/sklearn/utils/fixes.py\", line 117, in __call__\n    return self.function(*args, **kwargs)\n  File \"/home/giustino/miniconda3/lib/python3.8/site-packages/sklearn/model_selection/_validation.py\", line 686, in _fit_and_score\n    estimator.fit(X_train, y_train, **fit_params)\n  File \"/home/giustino/miniconda3/lib/python3.8/site-packages/sklearn/pipeline.py\", line 382, in fit\n    self._final_estimator.fit(Xt, y, **fit_params_last_step)\n  File \"/home/giustino/miniconda3/lib/python3.8/site-packages/sklearn/linear_model/_ridge.py\", line 1122, in fit\n    X, y = self._validate_data(\n  File \"/home/giustino/miniconda3/lib/python3.8/site-packages/sklearn/base.py\", line 596, in _validate_data\n    X, y = check_X_y(X, y, **check_params)\n  File \"/home/giustino/miniconda3/lib/python3.8/site-packages/sklearn/utils/validation.py\", line 1074, in check_X_y\n    X = check_array(\n  File \"/home/giustino/miniconda3/lib/python3.8/site-packages/sklearn/utils/validation.py\", line 856, in check_array\n    array = np.asarray(array, order=order, dtype=dtype)\n  File \"/home/giustino/.local/lib/python3.8/site-packages/numpy/core/_asarray.py\", line 83, in asarray\n    return array(a, dtype, copy=False, order=order)\nTypeError: float() argument must be a string or a number, not 'vectorize'\n\"\"\"",
      "\nThe above exception was the direct cause of the following exception:\n",
      "\u001b[0;31mTypeError\u001b[0m                                 Traceback (most recent call last)",
      "\u001b[0;32m<ipython-input-19-fce3e5a409dc>\u001b[0m in \u001b[0;36m<module>\u001b[0;34m\u001b[0m\n\u001b[1;32m      1\u001b[0m \u001b[0msearch\u001b[0m \u001b[0;34m=\u001b[0m \u001b[0mGridSearchCV\u001b[0m\u001b[0;34m(\u001b[0m\u001b[0mpipe\u001b[0m\u001b[0;34m,\u001b[0m \u001b[0mparam_grid\u001b[0m\u001b[0;34m,\u001b[0m \u001b[0mn_jobs\u001b[0m\u001b[0;34m=\u001b[0m\u001b[0;34m-\u001b[0m\u001b[0;36m1\u001b[0m\u001b[0;34m,\u001b[0m \u001b[0merror_score\u001b[0m\u001b[0;34m=\u001b[0m\u001b[0;34m'raise'\u001b[0m\u001b[0;34m)\u001b[0m\u001b[0;34m\u001b[0m\u001b[0;34m\u001b[0m\u001b[0m\n\u001b[0;32m----> 2\u001b[0;31m \u001b[0msearch\u001b[0m\u001b[0;34m.\u001b[0m\u001b[0mfit\u001b[0m\u001b[0;34m(\u001b[0m\u001b[0mX_train\u001b[0m\u001b[0;34m,\u001b[0m \u001b[0my_train\u001b[0m\u001b[0;34m)\u001b[0m\u001b[0;34m\u001b[0m\u001b[0;34m\u001b[0m\u001b[0m\n\u001b[0m",
      "\u001b[0;32m~/miniconda3/lib/python3.8/site-packages/sklearn/model_selection/_search.py\u001b[0m in \u001b[0;36mfit\u001b[0;34m(self, X, y, groups, **fit_params)\u001b[0m\n\u001b[1;32m    873\u001b[0m                 \u001b[0;32mreturn\u001b[0m \u001b[0mresults\u001b[0m\u001b[0;34m\u001b[0m\u001b[0;34m\u001b[0m\u001b[0m\n\u001b[1;32m    874\u001b[0m \u001b[0;34m\u001b[0m\u001b[0m\n\u001b[0;32m--> 875\u001b[0;31m             \u001b[0mself\u001b[0m\u001b[0;34m.\u001b[0m\u001b[0m_run_search\u001b[0m\u001b[0;34m(\u001b[0m\u001b[0mevaluate_candidates\u001b[0m\u001b[0;34m)\u001b[0m\u001b[0;34m\u001b[0m\u001b[0;34m\u001b[0m\u001b[0m\n\u001b[0m\u001b[1;32m    876\u001b[0m \u001b[0;34m\u001b[0m\u001b[0m\n\u001b[1;32m    877\u001b[0m             \u001b[0;31m# multimetric is determined here because in the case of a callable\u001b[0m\u001b[0;34m\u001b[0m\u001b[0;34m\u001b[0m\u001b[0;34m\u001b[0m\u001b[0m\n",
      "\u001b[0;32m~/miniconda3/lib/python3.8/site-packages/sklearn/model_selection/_search.py\u001b[0m in \u001b[0;36m_run_search\u001b[0;34m(self, evaluate_candidates)\u001b[0m\n\u001b[1;32m   1373\u001b[0m     \u001b[0;32mdef\u001b[0m \u001b[0m_run_search\u001b[0m\u001b[0;34m(\u001b[0m\u001b[0mself\u001b[0m\u001b[0;34m,\u001b[0m \u001b[0mevaluate_candidates\u001b[0m\u001b[0;34m)\u001b[0m\u001b[0;34m:\u001b[0m\u001b[0;34m\u001b[0m\u001b[0;34m\u001b[0m\u001b[0m\n\u001b[1;32m   1374\u001b[0m         \u001b[0;34m\"\"\"Search all candidates in param_grid\"\"\"\u001b[0m\u001b[0;34m\u001b[0m\u001b[0;34m\u001b[0m\u001b[0m\n\u001b[0;32m-> 1375\u001b[0;31m         \u001b[0mevaluate_candidates\u001b[0m\u001b[0;34m(\u001b[0m\u001b[0mParameterGrid\u001b[0m\u001b[0;34m(\u001b[0m\u001b[0mself\u001b[0m\u001b[0;34m.\u001b[0m\u001b[0mparam_grid\u001b[0m\u001b[0;34m)\u001b[0m\u001b[0;34m)\u001b[0m\u001b[0;34m\u001b[0m\u001b[0;34m\u001b[0m\u001b[0m\n\u001b[0m\u001b[1;32m   1376\u001b[0m \u001b[0;34m\u001b[0m\u001b[0m\n\u001b[1;32m   1377\u001b[0m \u001b[0;34m\u001b[0m\u001b[0m\n",
      "\u001b[0;32m~/miniconda3/lib/python3.8/site-packages/sklearn/model_selection/_search.py\u001b[0m in \u001b[0;36mevaluate_candidates\u001b[0;34m(candidate_params, cv, more_results)\u001b[0m\n\u001b[1;32m    820\u001b[0m                     )\n\u001b[1;32m    821\u001b[0m \u001b[0;34m\u001b[0m\u001b[0m\n\u001b[0;32m--> 822\u001b[0;31m                 out = parallel(\n\u001b[0m\u001b[1;32m    823\u001b[0m                     delayed(_fit_and_score)(\n\u001b[1;32m    824\u001b[0m                         \u001b[0mclone\u001b[0m\u001b[0;34m(\u001b[0m\u001b[0mbase_estimator\u001b[0m\u001b[0;34m)\u001b[0m\u001b[0;34m,\u001b[0m\u001b[0;34m\u001b[0m\u001b[0;34m\u001b[0m\u001b[0m\n",
      "\u001b[0;32m~/miniconda3/lib/python3.8/site-packages/joblib/parallel.py\u001b[0m in \u001b[0;36m__call__\u001b[0;34m(self, iterable)\u001b[0m\n\u001b[1;32m   1054\u001b[0m \u001b[0;34m\u001b[0m\u001b[0m\n\u001b[1;32m   1055\u001b[0m             \u001b[0;32mwith\u001b[0m \u001b[0mself\u001b[0m\u001b[0;34m.\u001b[0m\u001b[0m_backend\u001b[0m\u001b[0;34m.\u001b[0m\u001b[0mretrieval_context\u001b[0m\u001b[0;34m(\u001b[0m\u001b[0;34m)\u001b[0m\u001b[0;34m:\u001b[0m\u001b[0;34m\u001b[0m\u001b[0;34m\u001b[0m\u001b[0m\n\u001b[0;32m-> 1056\u001b[0;31m                 \u001b[0mself\u001b[0m\u001b[0;34m.\u001b[0m\u001b[0mretrieve\u001b[0m\u001b[0;34m(\u001b[0m\u001b[0;34m)\u001b[0m\u001b[0;34m\u001b[0m\u001b[0;34m\u001b[0m\u001b[0m\n\u001b[0m\u001b[1;32m   1057\u001b[0m             \u001b[0;31m# Make sure that we get a last message telling us we are done\u001b[0m\u001b[0;34m\u001b[0m\u001b[0;34m\u001b[0m\u001b[0;34m\u001b[0m\u001b[0m\n\u001b[1;32m   1058\u001b[0m             \u001b[0melapsed_time\u001b[0m \u001b[0;34m=\u001b[0m \u001b[0mtime\u001b[0m\u001b[0;34m.\u001b[0m\u001b[0mtime\u001b[0m\u001b[0;34m(\u001b[0m\u001b[0;34m)\u001b[0m \u001b[0;34m-\u001b[0m \u001b[0mself\u001b[0m\u001b[0;34m.\u001b[0m\u001b[0m_start_time\u001b[0m\u001b[0;34m\u001b[0m\u001b[0;34m\u001b[0m\u001b[0m\n",
      "\u001b[0;32m~/miniconda3/lib/python3.8/site-packages/joblib/parallel.py\u001b[0m in \u001b[0;36mretrieve\u001b[0;34m(self)\u001b[0m\n\u001b[1;32m    933\u001b[0m             \u001b[0;32mtry\u001b[0m\u001b[0;34m:\u001b[0m\u001b[0;34m\u001b[0m\u001b[0;34m\u001b[0m\u001b[0m\n\u001b[1;32m    934\u001b[0m                 \u001b[0;32mif\u001b[0m \u001b[0mgetattr\u001b[0m\u001b[0;34m(\u001b[0m\u001b[0mself\u001b[0m\u001b[0;34m.\u001b[0m\u001b[0m_backend\u001b[0m\u001b[0;34m,\u001b[0m \u001b[0;34m'supports_timeout'\u001b[0m\u001b[0;34m,\u001b[0m \u001b[0;32mFalse\u001b[0m\u001b[0;34m)\u001b[0m\u001b[0;34m:\u001b[0m\u001b[0;34m\u001b[0m\u001b[0;34m\u001b[0m\u001b[0m\n\u001b[0;32m--> 935\u001b[0;31m                     \u001b[0mself\u001b[0m\u001b[0;34m.\u001b[0m\u001b[0m_output\u001b[0m\u001b[0;34m.\u001b[0m\u001b[0mextend\u001b[0m\u001b[0;34m(\u001b[0m\u001b[0mjob\u001b[0m\u001b[0;34m.\u001b[0m\u001b[0mget\u001b[0m\u001b[0;34m(\u001b[0m\u001b[0mtimeout\u001b[0m\u001b[0;34m=\u001b[0m\u001b[0mself\u001b[0m\u001b[0;34m.\u001b[0m\u001b[0mtimeout\u001b[0m\u001b[0;34m)\u001b[0m\u001b[0;34m)\u001b[0m\u001b[0;34m\u001b[0m\u001b[0;34m\u001b[0m\u001b[0m\n\u001b[0m\u001b[1;32m    936\u001b[0m                 \u001b[0;32melse\u001b[0m\u001b[0;34m:\u001b[0m\u001b[0;34m\u001b[0m\u001b[0;34m\u001b[0m\u001b[0m\n\u001b[1;32m    937\u001b[0m                     \u001b[0mself\u001b[0m\u001b[0;34m.\u001b[0m\u001b[0m_output\u001b[0m\u001b[0;34m.\u001b[0m\u001b[0mextend\u001b[0m\u001b[0;34m(\u001b[0m\u001b[0mjob\u001b[0m\u001b[0;34m.\u001b[0m\u001b[0mget\u001b[0m\u001b[0;34m(\u001b[0m\u001b[0;34m)\u001b[0m\u001b[0;34m)\u001b[0m\u001b[0;34m\u001b[0m\u001b[0;34m\u001b[0m\u001b[0m\n",
      "\u001b[0;32m~/miniconda3/lib/python3.8/site-packages/joblib/_parallel_backends.py\u001b[0m in \u001b[0;36mwrap_future_result\u001b[0;34m(future, timeout)\u001b[0m\n\u001b[1;32m    540\u001b[0m         AsyncResults.get from multiprocessing.\"\"\"\n\u001b[1;32m    541\u001b[0m         \u001b[0;32mtry\u001b[0m\u001b[0;34m:\u001b[0m\u001b[0;34m\u001b[0m\u001b[0;34m\u001b[0m\u001b[0m\n\u001b[0;32m--> 542\u001b[0;31m             \u001b[0;32mreturn\u001b[0m \u001b[0mfuture\u001b[0m\u001b[0;34m.\u001b[0m\u001b[0mresult\u001b[0m\u001b[0;34m(\u001b[0m\u001b[0mtimeout\u001b[0m\u001b[0;34m=\u001b[0m\u001b[0mtimeout\u001b[0m\u001b[0;34m)\u001b[0m\u001b[0;34m\u001b[0m\u001b[0;34m\u001b[0m\u001b[0m\n\u001b[0m\u001b[1;32m    543\u001b[0m         \u001b[0;32mexcept\u001b[0m \u001b[0mCfTimeoutError\u001b[0m \u001b[0;32mas\u001b[0m \u001b[0me\u001b[0m\u001b[0;34m:\u001b[0m\u001b[0;34m\u001b[0m\u001b[0;34m\u001b[0m\u001b[0m\n\u001b[1;32m    544\u001b[0m             \u001b[0;32mraise\u001b[0m \u001b[0mTimeoutError\u001b[0m \u001b[0;32mfrom\u001b[0m \u001b[0me\u001b[0m\u001b[0;34m\u001b[0m\u001b[0;34m\u001b[0m\u001b[0m\n",
      "\u001b[0;32m~/miniconda3/lib/python3.8/concurrent/futures/_base.py\u001b[0m in \u001b[0;36mresult\u001b[0;34m(self, timeout)\u001b[0m\n\u001b[1;32m    437\u001b[0m                 \u001b[0;32mraise\u001b[0m \u001b[0mCancelledError\u001b[0m\u001b[0;34m(\u001b[0m\u001b[0;34m)\u001b[0m\u001b[0;34m\u001b[0m\u001b[0;34m\u001b[0m\u001b[0m\n\u001b[1;32m    438\u001b[0m             \u001b[0;32melif\u001b[0m \u001b[0mself\u001b[0m\u001b[0;34m.\u001b[0m\u001b[0m_state\u001b[0m \u001b[0;34m==\u001b[0m \u001b[0mFINISHED\u001b[0m\u001b[0;34m:\u001b[0m\u001b[0;34m\u001b[0m\u001b[0;34m\u001b[0m\u001b[0m\n\u001b[0;32m--> 439\u001b[0;31m                 \u001b[0;32mreturn\u001b[0m \u001b[0mself\u001b[0m\u001b[0;34m.\u001b[0m\u001b[0m__get_result\u001b[0m\u001b[0;34m(\u001b[0m\u001b[0;34m)\u001b[0m\u001b[0;34m\u001b[0m\u001b[0;34m\u001b[0m\u001b[0m\n\u001b[0m\u001b[1;32m    440\u001b[0m             \u001b[0;32melse\u001b[0m\u001b[0;34m:\u001b[0m\u001b[0;34m\u001b[0m\u001b[0;34m\u001b[0m\u001b[0m\n\u001b[1;32m    441\u001b[0m                 \u001b[0;32mraise\u001b[0m \u001b[0mTimeoutError\u001b[0m\u001b[0;34m(\u001b[0m\u001b[0;34m)\u001b[0m\u001b[0;34m\u001b[0m\u001b[0;34m\u001b[0m\u001b[0m\n",
      "\u001b[0;32m~/miniconda3/lib/python3.8/concurrent/futures/_base.py\u001b[0m in \u001b[0;36m__get_result\u001b[0;34m(self)\u001b[0m\n\u001b[1;32m    386\u001b[0m     \u001b[0;32mdef\u001b[0m \u001b[0m__get_result\u001b[0m\u001b[0;34m(\u001b[0m\u001b[0mself\u001b[0m\u001b[0;34m)\u001b[0m\u001b[0;34m:\u001b[0m\u001b[0;34m\u001b[0m\u001b[0;34m\u001b[0m\u001b[0m\n\u001b[1;32m    387\u001b[0m         \u001b[0;32mif\u001b[0m \u001b[0mself\u001b[0m\u001b[0;34m.\u001b[0m\u001b[0m_exception\u001b[0m\u001b[0;34m:\u001b[0m\u001b[0;34m\u001b[0m\u001b[0;34m\u001b[0m\u001b[0m\n\u001b[0;32m--> 388\u001b[0;31m             \u001b[0;32mraise\u001b[0m \u001b[0mself\u001b[0m\u001b[0;34m.\u001b[0m\u001b[0m_exception\u001b[0m\u001b[0;34m\u001b[0m\u001b[0;34m\u001b[0m\u001b[0m\n\u001b[0m\u001b[1;32m    389\u001b[0m         \u001b[0;32melse\u001b[0m\u001b[0;34m:\u001b[0m\u001b[0;34m\u001b[0m\u001b[0;34m\u001b[0m\u001b[0m\n\u001b[1;32m    390\u001b[0m             \u001b[0;32mreturn\u001b[0m \u001b[0mself\u001b[0m\u001b[0;34m.\u001b[0m\u001b[0m_result\u001b[0m\u001b[0;34m\u001b[0m\u001b[0;34m\u001b[0m\u001b[0m\n",
      "\u001b[0;31mTypeError\u001b[0m: float() argument must be a string or a number, not 'vectorize'"
     ]
    }
   ],
   "source": [
    "search = GridSearchCV(pipe, param_grid, n_jobs=-1)\n",
    "search.fit(X_train, y_train)"
   ]
  },
  {
   "cell_type": "markdown",
   "id": "native-identification",
   "metadata": {},
   "source": [
    "idea: use qsar fingerprints: http://www.qsar4u.com/files/qsar_rdkit_tutorial/qsar-rdkit.html\n",
    "\n",
    "idea: https://pubs.acs.org/doi/10.1021/acs.jcim.7b00616\n"
   ]
  }
 ],
 "metadata": {
  "kernelspec": {
   "display_name": "Python 3",
   "language": "python",
   "name": "python3"
  },
  "language_info": {
   "codemirror_mode": {
    "name": "ipython",
    "version": 3
   },
   "file_extension": ".py",
   "mimetype": "text/x-python",
   "name": "python",
   "nbconvert_exporter": "python",
   "pygments_lexer": "ipython3",
   "version": "3.8.5"
  }
 },
 "nbformat": 4,
 "nbformat_minor": 5
}
