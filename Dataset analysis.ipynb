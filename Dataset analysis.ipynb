{
 "cells": [
  {
   "cell_type": "markdown",
   "id": "forward-passenger",
   "metadata": {},
   "source": [
    "# Installing and importing dependencies"
   ]
  },
  {
   "cell_type": "code",
   "execution_count": 1,
   "id": "destroyed-words",
   "metadata": {
    "scrolled": true
   },
   "outputs": [
    {
     "name": "stdout",
     "output_type": "stream",
     "text": [
      "Requirement already satisfied: openpyxl in /home/giustino/miniconda3/lib/python3.8/site-packages (3.0.10)\n",
      "Requirement already satisfied: et-xmlfile in /home/giustino/miniconda3/lib/python3.8/site-packages (from openpyxl) (1.1.0)\n",
      "Requirement already satisfied: pandas in /home/giustino/.local/lib/python3.8/site-packages (1.3.3)\n",
      "Requirement already satisfied: pytz>=2017.3 in /home/giustino/miniconda3/lib/python3.8/site-packages (from pandas) (2021.1)\n",
      "Requirement already satisfied: numpy>=1.17.3 in /home/giustino/.local/lib/python3.8/site-packages (from pandas) (1.19.5)\n",
      "Requirement already satisfied: python-dateutil>=2.7.3 in /home/giustino/miniconda3/lib/python3.8/site-packages (from pandas) (2.8.2)\n",
      "Requirement already satisfied: six>=1.5 in /home/giustino/.local/lib/python3.8/site-packages (from python-dateutil>=2.7.3->pandas) (1.15.0)\n",
      "Requirement already satisfied: numpy in /home/giustino/.local/lib/python3.8/site-packages (1.19.5)\n",
      "Requirement already satisfied: rdkit in /home/giustino/miniconda3/lib/python3.8/site-packages (2022.3.5)\n",
      "Requirement already satisfied: Pillow in /home/giustino/miniconda3/lib/python3.8/site-packages (from rdkit) (8.2.0)\n",
      "Requirement already satisfied: numpy in /home/giustino/.local/lib/python3.8/site-packages (from rdkit) (1.19.5)\n"
     ]
    }
   ],
   "source": [
    "!pip install openpyxl\n",
    "!pip install pandas\n",
    "!pip install numpy\n",
    "!pip install rdkit"
   ]
  },
  {
   "cell_type": "code",
   "execution_count": 2,
   "id": "furnished-press",
   "metadata": {
    "scrolled": true
   },
   "outputs": [],
   "source": [
    "import pandas as pd\n",
    "import numpy as np\n",
    "from rdkit import Chem\n",
    "from rdkit.Chem import AllChem\n",
    "from rdkit.Chem import Draw\n",
    "import matplotlib.pyplot as plt\n",
    "from sklearn.base import BaseEstimator, TransformerMixin\n",
    "from sklearn.linear_model import Ridge\n",
    "from sklearn.pipeline import Pipeline\n",
    "from sklearn.model_selection import GridSearchCV\n",
    "from sklearn.model_selection import train_test_split\n",
    "from rdkit.Chem import DataStructs\n",
    "import tensorflow as tf\n",
    "from tensorflow.keras import Sequential\n",
    "from tensorflow.keras.layers import Dense\n",
    "import seaborn as sns"
   ]
  },
  {
   "cell_type": "code",
   "execution_count": 3,
   "id": "44b5c43e-20ce-40f9-b79e-ced6d88eb9a4",
   "metadata": {},
   "outputs": [],
   "source": [
    "#plt.style.use(['science'])\n",
    "%matplotlib inline\n",
    "sns.set_theme()\n",
    "#plt.style.use([])\n",
    "#plt.style.use(['science','ieee'])"
   ]
  },
  {
   "cell_type": "markdown",
   "id": "documented-pharmacology",
   "metadata": {},
   "source": [
    "Function that will be used to check that no \"na\" values appear:"
   ]
  },
  {
   "cell_type": "code",
   "execution_count": 4,
   "id": "bright-token",
   "metadata": {},
   "outputs": [],
   "source": [
    "def check_no_na(data):\n",
    "    if data.isna().sum().eq(0).all():\n",
    "        print(\"Success: No NA values found.\")\n",
    "        return\n",
    "    print(\"Warning: NA values found.\")"
   ]
  },
  {
   "cell_type": "markdown",
   "id": "ac88f0e4-6b00-4100-bd73-402337d5cef3",
   "metadata": {},
   "source": [
    "Function to build a joint plot:"
   ]
  },
  {
   "cell_type": "code",
   "execution_count": 129,
   "id": "f090c9af-f01b-487e-89c2-2733279ed6f7",
   "metadata": {},
   "outputs": [],
   "source": [
    "def plot_joint(y_pred, height=7, name=\"MODEL\"):\n",
    "    plot = sns.JointGrid(x=y_pred, y=y_test, height=height);\n",
    "    plot.plot_joint(sns.scatterplot, s=100, color='slateblue')\n",
    "    plot.plot_marginals(sns.kdeplot, color='slateblue', fill=True)\n",
    "\n",
    "    x_eq_y=np.arange(np.array(plt.axis()).min(), np.array(plt.axis()).max())\n",
    "\n",
    "    plot.ax_joint.plot(x_eq_y, x_eq_y, 'k', linewidth = 2, linestyle='--')\n",
    "    \n",
    "    plot.ax_joint.set_xlabel(\"y predicted\")\n",
    "    plot.ax_joint.set_ylabel(\"y target\")\n",
    "    plot.fig.suptitle(f\"target vs predicted Output for the {name} model\", y=1.01)\n",
    "    return plot"
   ]
  },
  {
   "cell_type": "markdown",
   "id": "weird-office",
   "metadata": {},
   "source": [
    "# Importing the dataset"
   ]
  },
  {
   "cell_type": "code",
   "execution_count": 5,
   "id": "decreased-bradford",
   "metadata": {
    "scrolled": true
   },
   "outputs": [
    {
     "data": {
      "text/html": [
       "<div>\n",
       "<style scoped>\n",
       "    .dataframe tbody tr th:only-of-type {\n",
       "        vertical-align: middle;\n",
       "    }\n",
       "\n",
       "    .dataframe tbody tr th {\n",
       "        vertical-align: top;\n",
       "    }\n",
       "\n",
       "    .dataframe thead th {\n",
       "        text-align: right;\n",
       "    }\n",
       "</style>\n",
       "<table border=\"1\" class=\"dataframe\">\n",
       "  <thead>\n",
       "    <tr style=\"text-align: right;\">\n",
       "      <th></th>\n",
       "      <th>Catalyst</th>\n",
       "      <th>Imine</th>\n",
       "      <th>Thiol</th>\n",
       "      <th>Output</th>\n",
       "    </tr>\n",
       "  </thead>\n",
       "  <tbody>\n",
       "    <tr>\n",
       "      <th>0</th>\n",
       "      <td>O=P1(O)OC2=C(C3=C(C4CCCCC4)C=C(C5CCCCC5)C=C3C6...</td>\n",
       "      <td>O=C(C1=CC=CC=C1)/N=C/C2=CC=C(Cl)C=C2Cl</td>\n",
       "      <td>SC1=CC=CC=C1C</td>\n",
       "      <td>3.134625</td>\n",
       "    </tr>\n",
       "    <tr>\n",
       "      <th>1</th>\n",
       "      <td>O=P1(O)OC2=C(C3=CC(C4=C(C)C=C(C)C=C4C)=CC(C5=C...</td>\n",
       "      <td>O=C(C1=CC=CC=C1)/N=C/C2=CC=C(OC)C=C2</td>\n",
       "      <td>SC1=CC=C(OC)C=C1</td>\n",
       "      <td>1.531803</td>\n",
       "    </tr>\n",
       "    <tr>\n",
       "      <th>2</th>\n",
       "      <td>O=P1(O)OC2=C(C3=CC=C(OC)C=C3)C=C4C(C=CC=C4)=C2...</td>\n",
       "      <td>O=C(C1=CC=CC=C1)/N=C/C2=CC=C(Cl)C=C2Cl</td>\n",
       "      <td>SC1=CC=CC=C1</td>\n",
       "      <td>1.074991</td>\n",
       "    </tr>\n",
       "    <tr>\n",
       "      <th>3</th>\n",
       "      <td>O=P1(O)OC2=[C@]([C@]3=C(Cl)C=C(Cl)C=C3Cl)C=C4C...</td>\n",
       "      <td>O=C(C1=CC=CC=C1)/N=C/C2=CC=C(OC)C=C2</td>\n",
       "      <td>SC1=CC=CC=C1C</td>\n",
       "      <td>1.334823</td>\n",
       "    </tr>\n",
       "    <tr>\n",
       "      <th>4</th>\n",
       "      <td>O=P1(O)OC2=C(C3=C(C=CC4=CC=CC(C=C5)=C46)C6=C5C...</td>\n",
       "      <td>O=C(C1=CC=CC=C1)/N=C/C2=CC=CC3=C2C=CC=C3</td>\n",
       "      <td>SC1=CC=CC=C1</td>\n",
       "      <td>1.743658</td>\n",
       "    </tr>\n",
       "  </tbody>\n",
       "</table>\n",
       "</div>"
      ],
      "text/plain": [
       "                                            Catalyst  \\\n",
       "0  O=P1(O)OC2=C(C3=C(C4CCCCC4)C=C(C5CCCCC5)C=C3C6...   \n",
       "1  O=P1(O)OC2=C(C3=CC(C4=C(C)C=C(C)C=C4C)=CC(C5=C...   \n",
       "2  O=P1(O)OC2=C(C3=CC=C(OC)C=C3)C=C4C(C=CC=C4)=C2...   \n",
       "3  O=P1(O)OC2=[C@]([C@]3=C(Cl)C=C(Cl)C=C3Cl)C=C4C...   \n",
       "4  O=P1(O)OC2=C(C3=C(C=CC4=CC=CC(C=C5)=C46)C6=C5C...   \n",
       "\n",
       "                                      Imine             Thiol    Output  \n",
       "0    O=C(C1=CC=CC=C1)/N=C/C2=CC=C(Cl)C=C2Cl     SC1=CC=CC=C1C  3.134625  \n",
       "1      O=C(C1=CC=CC=C1)/N=C/C2=CC=C(OC)C=C2  SC1=CC=C(OC)C=C1  1.531803  \n",
       "2    O=C(C1=CC=CC=C1)/N=C/C2=CC=C(Cl)C=C2Cl      SC1=CC=CC=C1  1.074991  \n",
       "3      O=C(C1=CC=CC=C1)/N=C/C2=CC=C(OC)C=C2     SC1=CC=CC=C1C  1.334823  \n",
       "4  O=C(C1=CC=CC=C1)/N=C/C2=CC=CC3=C2C=CC=C3      SC1=CC=CC=C1  1.743658  "
      ]
     },
     "execution_count": 5,
     "metadata": {},
     "output_type": "execute_result"
    }
   ],
   "source": [
    "df_raw=pd.read_excel(\"denmark.xlsx\")\n",
    "df_raw.head()"
   ]
  },
  {
   "cell_type": "markdown",
   "id": "broad-yahoo",
   "metadata": {},
   "source": [
    "# Looking at the data"
   ]
  },
  {
   "cell_type": "markdown",
   "id": "legendary-formation",
   "metadata": {},
   "source": [
    "### Target values"
   ]
  },
  {
   "cell_type": "markdown",
   "id": "popular-diabetes",
   "metadata": {},
   "source": [
    "First of all, it would be important to look at how output values are distributed:"
   ]
  },
  {
   "cell_type": "code",
   "execution_count": 6,
   "id": "essential-hands",
   "metadata": {},
   "outputs": [
    {
     "data": {
      "text/html": [
       "<div>\n",
       "<style scoped>\n",
       "    .dataframe tbody tr th:only-of-type {\n",
       "        vertical-align: middle;\n",
       "    }\n",
       "\n",
       "    .dataframe tbody tr th {\n",
       "        vertical-align: top;\n",
       "    }\n",
       "\n",
       "    .dataframe thead th {\n",
       "        text-align: right;\n",
       "    }\n",
       "</style>\n",
       "<table border=\"1\" class=\"dataframe\">\n",
       "  <thead>\n",
       "    <tr style=\"text-align: right;\">\n",
       "      <th></th>\n",
       "      <th>Output</th>\n",
       "    </tr>\n",
       "  </thead>\n",
       "  <tbody>\n",
       "    <tr>\n",
       "      <th>count</th>\n",
       "      <td>1075.000000</td>\n",
       "    </tr>\n",
       "    <tr>\n",
       "      <th>mean</th>\n",
       "      <td>0.987658</td>\n",
       "    </tr>\n",
       "    <tr>\n",
       "      <th>std</th>\n",
       "      <td>0.700524</td>\n",
       "    </tr>\n",
       "    <tr>\n",
       "      <th>min</th>\n",
       "      <td>-0.419378</td>\n",
       "    </tr>\n",
       "    <tr>\n",
       "      <th>25%</th>\n",
       "      <td>0.473820</td>\n",
       "    </tr>\n",
       "    <tr>\n",
       "      <th>50%</th>\n",
       "      <td>1.050757</td>\n",
       "    </tr>\n",
       "    <tr>\n",
       "      <th>75%</th>\n",
       "      <td>1.370104</td>\n",
       "    </tr>\n",
       "    <tr>\n",
       "      <th>max</th>\n",
       "      <td>3.134625</td>\n",
       "    </tr>\n",
       "  </tbody>\n",
       "</table>\n",
       "</div>"
      ],
      "text/plain": [
       "            Output\n",
       "count  1075.000000\n",
       "mean      0.987658\n",
       "std       0.700524\n",
       "min      -0.419378\n",
       "25%       0.473820\n",
       "50%       1.050757\n",
       "75%       1.370104\n",
       "max       3.134625"
      ]
     },
     "execution_count": 6,
     "metadata": {},
     "output_type": "execute_result"
    }
   ],
   "source": [
    "df_raw.describe()"
   ]
  },
  {
   "cell_type": "markdown",
   "id": "numerous-titanium",
   "metadata": {},
   "source": [
    "One could also look at the distribution of the target variable:"
   ]
  },
  {
   "cell_type": "code",
   "execution_count": 7,
   "id": "inner-norman",
   "metadata": {},
   "outputs": [
    {
     "data": {
      "image/png": "[encoded data removed]",
      "text/plain": [
       "<Figure size 1008x504 with 1 Axes>"
      ]
     },
     "metadata": {},
     "output_type": "display_data"
    }
   ],
   "source": [
    "sns.displot(x=df_raw[\"Output\"], bins=20, height=7, aspect=2)\n",
    "plt.title(\"Distribution of output values\")\n",
    "plt.xlabel(\"Ouput value\")\n",
    "plt.show()"
   ]
  },
  {
   "cell_type": "markdown",
   "id": "186a39b9-d5b8-4e42-8b17-2fcf376314b4",
   "metadata": {},
   "source": [
    "The target variable looks to be roughly in the same magnitude and has an approximate gaussian distribution (with a slight tail), which is a good sign as this means that no further transformation is required for it."
   ]
  },
  {
   "cell_type": "markdown",
   "id": "engaging-battle",
   "metadata": {},
   "source": [
    "### Features"
   ]
  },
  {
   "cell_type": "markdown",
   "id": "severe-queens",
   "metadata": {},
   "source": [
    "Are there any \"na\" values?"
   ]
  },
  {
   "cell_type": "code",
   "execution_count": 8,
   "id": "broad-snapshot",
   "metadata": {
    "scrolled": true
   },
   "outputs": [
    {
     "name": "stdout",
     "output_type": "stream",
     "text": [
      "Success: No NA values found.\n"
     ]
    }
   ],
   "source": [
    "check_no_na(df_raw)"
   ]
  },
  {
   "cell_type": "markdown",
   "id": "median-latter",
   "metadata": {},
   "source": [
    "How many different molecules are there?"
   ]
  },
  {
   "cell_type": "code",
   "execution_count": 9,
   "id": "amber-aquarium",
   "metadata": {},
   "outputs": [
    {
     "data": {
      "text/html": [
       "<div>\n",
       "<style scoped>\n",
       "    .dataframe tbody tr th:only-of-type {\n",
       "        vertical-align: middle;\n",
       "    }\n",
       "\n",
       "    .dataframe tbody tr th {\n",
       "        vertical-align: top;\n",
       "    }\n",
       "\n",
       "    .dataframe thead th {\n",
       "        text-align: right;\n",
       "    }\n",
       "</style>\n",
       "<table border=\"1\" class=\"dataframe\">\n",
       "  <thead>\n",
       "    <tr style=\"text-align: right;\">\n",
       "      <th></th>\n",
       "      <th>Unique Catalysts</th>\n",
       "      <th>Unique Imines</th>\n",
       "      <th>Unique Thiols</th>\n",
       "    </tr>\n",
       "  </thead>\n",
       "  <tbody>\n",
       "    <tr>\n",
       "      <th>0</th>\n",
       "      <td>43</td>\n",
       "      <td>5</td>\n",
       "      <td>5</td>\n",
       "    </tr>\n",
       "  </tbody>\n",
       "</table>\n",
       "</div>"
      ],
      "text/plain": [
       "   Unique Catalysts  Unique Imines  Unique Thiols\n",
       "0                43              5              5"
      ]
     },
     "execution_count": 9,
     "metadata": {},
     "output_type": "execute_result"
    }
   ],
   "source": [
    "unique_catalysts=df_raw[\"Catalyst\"].unique()\n",
    "unique_imines=df_raw[\"Imine\"].unique()\n",
    "unique_thiols=df_raw[\"Thiol\"].unique()\n",
    "pd.DataFrame({\"Unique Catalysts\": [unique_catalysts.shape[0]], \"Unique Imines\": [unique_imines.shape[0]], \"Unique Thiols\": [unique_thiols.shape[0]]})"
   ]
  },
  {
   "cell_type": "markdown",
   "id": "general-overall",
   "metadata": {},
   "source": [
    "Here, one could use One-hot encoding for the Imines and Thiols. This idea was discarded since in the case another Thiol or Imine is added, one would have to retrain the model instead of being able to fine-tune it. "
   ]
  },
  {
   "cell_type": "markdown",
   "id": "placed-movement",
   "metadata": {},
   "source": [
    "Show 3 random different Catalysts:"
   ]
  },
  {
   "cell_type": "code",
   "execution_count": 10,
   "id": "correct-generation",
   "metadata": {},
   "outputs": [
    {
     "data": {
      "image/png": "[encoded data removed]",
      "text/plain": [
       "<IPython.core.display.Image object>"
      ]
     },
     "execution_count": 10,
     "metadata": {},
     "output_type": "execute_result"
    }
   ],
   "source": [
    "mol_list=[]\n",
    "unique_molecules=df_raw[\"Imine\"].unique()\n",
    "for i in range(3):\n",
    "    index=np.random.randint(0, unique_molecules.shape[0])\n",
    "    mol_list.append(Chem.MolFromSmiles(unique_molecules[index]))\n",
    "    unique_molecules=np.delete(unique_molecules,index)\n",
    "Draw.MolsToGridImage(mol_list)"
   ]
  },
  {
   "cell_type": "markdown",
   "id": "banner-edmonton",
   "metadata": {},
   "source": [
    "Show 3 random different Imine:"
   ]
  },
  {
   "cell_type": "code",
   "execution_count": 11,
   "id": "athletic-washington",
   "metadata": {},
   "outputs": [
    {
     "data": {
      "image/png": "[encoded data removed]",
      "text/plain": [
       "<IPython.core.display.Image object>"
      ]
     },
     "execution_count": 11,
     "metadata": {},
     "output_type": "execute_result"
    }
   ],
   "source": [
    "mol_list=[]\n",
    "unique_molecules=df_raw[\"Imine\"].unique()\n",
    "for i in range(3):\n",
    "    index=np.random.randint(0, unique_molecules.shape[0])\n",
    "    mol_list.append(Chem.MolFromSmiles(unique_molecules[index]))\n",
    "    unique_molecules=np.delete(unique_molecules,index)\n",
    "Draw.MolsToGridImage(mol_list)"
   ]
  },
  {
   "cell_type": "markdown",
   "id": "animated-weapon",
   "metadata": {},
   "source": [
    "Show 3 random different Thiol:"
   ]
  },
  {
   "cell_type": "code",
   "execution_count": 12,
   "id": "republican-business",
   "metadata": {},
   "outputs": [
    {
     "data": {
      "image/png": "[encoded data removed]",
      "text/plain": [
       "<IPython.core.display.Image object>"
      ]
     },
     "execution_count": 12,
     "metadata": {},
     "output_type": "execute_result"
    }
   ],
   "source": [
    "mol_list=[]\n",
    "unique_molecules=df_raw[\"Thiol\"].unique()\n",
    "for i in range(3):\n",
    "    index=np.random.randint(0, unique_molecules.shape[0])\n",
    "    mol_list.append(Chem.MolFromSmiles(unique_molecules[index]))\n",
    "    unique_molecules=np.delete(unique_molecules, index)\n",
    "Draw.MolsToGridImage(mol_list)"
   ]
  },
  {
   "cell_type": "markdown",
   "id": "common-finish",
   "metadata": {},
   "source": [
    "# Preprocessing"
   ]
  },
  {
   "cell_type": "markdown",
   "id": "thorough-switch",
   "metadata": {},
   "source": [
    "### Creating RDKit molecules"
   ]
  },
  {
   "cell_type": "markdown",
   "id": "after-germany",
   "metadata": {},
   "source": [
    "Translating the \"Catalyst\", the \"Imine\" and the \"Thiol\" columns from SMILES to a RDKit molecule:"
   ]
  },
  {
   "cell_type": "code",
   "execution_count": 13,
   "id": "confidential-teach",
   "metadata": {},
   "outputs": [
    {
     "data": {
      "text/html": [
       "<div>\n",
       "<style scoped>\n",
       "    .dataframe tbody tr th:only-of-type {\n",
       "        vertical-align: middle;\n",
       "    }\n",
       "\n",
       "    .dataframe tbody tr th {\n",
       "        vertical-align: top;\n",
       "    }\n",
       "\n",
       "    .dataframe thead th {\n",
       "        text-align: right;\n",
       "    }\n",
       "</style>\n",
       "<table border=\"1\" class=\"dataframe\">\n",
       "  <thead>\n",
       "    <tr style=\"text-align: right;\">\n",
       "      <th></th>\n",
       "      <th>Catalyst</th>\n",
       "      <th>Imine</th>\n",
       "      <th>Thiol</th>\n",
       "    </tr>\n",
       "  </thead>\n",
       "  <tbody>\n",
       "    <tr>\n",
       "      <th>0</th>\n",
       "      <td>&lt;rdkit.Chem.rdchem.Mol object at 0x7f9a9e19e2b0&gt;</td>\n",
       "      <td>&lt;rdkit.Chem.rdchem.Mol object at 0x7f9a9e19e1c0&gt;</td>\n",
       "      <td>&lt;rdkit.Chem.rdchem.Mol object at 0x7f9a9e19e080&gt;</td>\n",
       "    </tr>\n",
       "    <tr>\n",
       "      <th>1</th>\n",
       "      <td>&lt;rdkit.Chem.rdchem.Mol object at 0x7f9a9e19e0d0&gt;</td>\n",
       "      <td>&lt;rdkit.Chem.rdchem.Mol object at 0x7f9a9e19e030&gt;</td>\n",
       "      <td>&lt;rdkit.Chem.rdchem.Mol object at 0x7f9a9e1b9b20&gt;</td>\n",
       "    </tr>\n",
       "    <tr>\n",
       "      <th>2</th>\n",
       "      <td>&lt;rdkit.Chem.rdchem.Mol object at 0x7f9a9e19e300&gt;</td>\n",
       "      <td>&lt;rdkit.Chem.rdchem.Mol object at 0x7f9a9e1b9ad0&gt;</td>\n",
       "      <td>&lt;rdkit.Chem.rdchem.Mol object at 0x7f9a9614f300&gt;</td>\n",
       "    </tr>\n",
       "    <tr>\n",
       "      <th>3</th>\n",
       "      <td>&lt;rdkit.Chem.rdchem.Mol object at 0x7f9a9e19e350&gt;</td>\n",
       "      <td>&lt;rdkit.Chem.rdchem.Mol object at 0x7f9a9e1b9a80&gt;</td>\n",
       "      <td>&lt;rdkit.Chem.rdchem.Mol object at 0x7f9a9614f2b0&gt;</td>\n",
       "    </tr>\n",
       "    <tr>\n",
       "      <th>4</th>\n",
       "      <td>&lt;rdkit.Chem.rdchem.Mol object at 0x7f9a9e19e3a0&gt;</td>\n",
       "      <td>&lt;rdkit.Chem.rdchem.Mol object at 0x7f9a9e1b9a30&gt;</td>\n",
       "      <td>&lt;rdkit.Chem.rdchem.Mol object at 0x7f9a9614f260&gt;</td>\n",
       "    </tr>\n",
       "  </tbody>\n",
       "</table>\n",
       "</div>"
      ],
      "text/plain": [
       "                                           Catalyst  \\\n",
       "0  <rdkit.Chem.rdchem.Mol object at 0x7f9a9e19e2b0>   \n",
       "1  <rdkit.Chem.rdchem.Mol object at 0x7f9a9e19e0d0>   \n",
       "2  <rdkit.Chem.rdchem.Mol object at 0x7f9a9e19e300>   \n",
       "3  <rdkit.Chem.rdchem.Mol object at 0x7f9a9e19e350>   \n",
       "4  <rdkit.Chem.rdchem.Mol object at 0x7f9a9e19e3a0>   \n",
       "\n",
       "                                              Imine  \\\n",
       "0  <rdkit.Chem.rdchem.Mol object at 0x7f9a9e19e1c0>   \n",
       "1  <rdkit.Chem.rdchem.Mol object at 0x7f9a9e19e030>   \n",
       "2  <rdkit.Chem.rdchem.Mol object at 0x7f9a9e1b9ad0>   \n",
       "3  <rdkit.Chem.rdchem.Mol object at 0x7f9a9e1b9a80>   \n",
       "4  <rdkit.Chem.rdchem.Mol object at 0x7f9a9e1b9a30>   \n",
       "\n",
       "                                              Thiol  \n",
       "0  <rdkit.Chem.rdchem.Mol object at 0x7f9a9e19e080>  \n",
       "1  <rdkit.Chem.rdchem.Mol object at 0x7f9a9e1b9b20>  \n",
       "2  <rdkit.Chem.rdchem.Mol object at 0x7f9a9614f300>  \n",
       "3  <rdkit.Chem.rdchem.Mol object at 0x7f9a9614f2b0>  \n",
       "4  <rdkit.Chem.rdchem.Mol object at 0x7f9a9614f260>  "
      ]
     },
     "execution_count": 13,
     "metadata": {},
     "output_type": "execute_result"
    }
   ],
   "source": [
    "df_X=df_raw[[\"Catalyst\", \"Imine\", \"Thiol\"]].applymap(Chem.MolFromSmiles)\n",
    "df_y=df_raw[\"Output\"]\n",
    "df_X.head()"
   ]
  },
  {
   "cell_type": "markdown",
   "id": "black-hartford",
   "metadata": {},
   "source": [
    "Verifying that all the smiles transfered successfuly. The RDKit documentaton states:\n",
    "\n",
    ">or None on failure:\n",
    ">\n",
    ">> ```m = Chem.MolFromMolFile('data/invalid.mol')```\n",
    ">>\n",
    ">> ```m is None```\n",
    ">\n",
    ">True\n",
    "\n",
    "So the \"na\" instances are counted and should be 0 if no problems were encountered:"
   ]
  },
  {
   "cell_type": "code",
   "execution_count": 14,
   "id": "nominated-impact",
   "metadata": {},
   "outputs": [
    {
     "name": "stdout",
     "output_type": "stream",
     "text": [
      "Success: No NA values found.\n"
     ]
    }
   ],
   "source": [
    "check_no_na(df_X)"
   ]
  },
  {
   "cell_type": "markdown",
   "id": "preceding-order",
   "metadata": {},
   "source": [
    "For later on, Morgan fingerprints will be used. In order to try and search for the best parameters for these molecules, the atom radius and the number of bits used will be searched using grid search."
   ]
  },
  {
   "cell_type": "markdown",
   "id": "pending-dubai",
   "metadata": {},
   "source": [
    "# Ridge regression"
   ]
  },
  {
   "cell_type": "markdown",
   "id": "dcfa3ca5-1055-48f5-aa17-bc4db13afbe9",
   "metadata": {},
   "source": [
    "### Pipeline"
   ]
  },
  {
   "cell_type": "markdown",
   "id": "preceding-forward",
   "metadata": {},
   "source": [
    "Here, in order to later use SKlearn's ```CVGridSearch```, a custom pipeline will be built in order to be able to find the ideal hyperparameters. First step: creating a custom transformer to be used in the pipeline, in order to use RDKit's ```GetMorganFingerprint```'s parameters as hyperparameters for the model."
   ]
  },
  {
   "cell_type": "markdown",
   "id": "06e1517f-d256-4625-86c4-33fa933e3655",
   "metadata": {},
   "source": [
    "A similar pipeline template will be used for later trials, using the same functions. Although it is intuitive to assume that the same fingerprint parameters should be used for every model, the ```n_bits``` and the ```n_atom``` hyperparameters should be computed in order to verify that this hypothesis holds for different models."
   ]
  },
  {
   "cell_type": "markdown",
   "id": "d8b5cb9b-1410-40e9-add2-3f5af3d4afc2",
   "metadata": {},
   "source": [
    "Personal note: As this is the first time I work with molecules, my first thought was to build a simple ridge regressor and try to give it a morgan fingerprint as input. This is probably not viable since the number of parameters used is too great. Later on, the idea would be to add descriptors into the features, potentially using TF's functional API."
   ]
  },
  {
   "cell_type": "code",
   "execution_count": 15,
   "id": "disturbed-opening",
   "metadata": {},
   "outputs": [],
   "source": [
    "def morgan_fp(X, n_bits, n_atom):\n",
    "    \"\"\"Returns numpy array with bits from morgan fingerprint\"\"\"\n",
    "    fp=AllChem.GetMorganFingerprintAsBitVect(X,int(n_atom), nBits=int(n_bits))\n",
    "    arr = np.zeros((0,), dtype=np.int8)\n",
    "    DataStructs.ConvertToNumpyArray(fp,arr)\n",
    "    return arr\n",
    "\n",
    "class fingerprinter(BaseEstimator, TransformerMixin):\n",
    "    def __init__(self, n_bits=1024, n_atom=2):\n",
    "        self.n_bits = n_bits # int necessary, otherwise rdkit c++ library doesn't play along\n",
    "        self.n_atom = n_atom\n",
    "    def fit(self, X, y=None):\n",
    "        return self\n",
    "    def transform(self, X):\n",
    "        \n",
    "        new_X=np.array([])\n",
    "        for row in X:\n",
    "            new_row=np.array([])\n",
    "            for element in row:\n",
    "                fp=morgan_fp(element, self.n_bits, self.n_atom)\n",
    "                new_row=np.append(new_row, fp, 0)\n",
    "            #new_row=new_row.reshape((df_X.shape[1],-1))\n",
    "            new_X=np.append(new_X, new_row)\n",
    "            new_X=new_X.reshape([-1, new_row.shape[0]])\n",
    "        return new_X\n",
    "#fingerprinter([2,3,4][0], np.linspace(1000, 5000, 10, dtype=int)[0]).transform(X_train)"
   ]
  },
  {
   "cell_type": "markdown",
   "id": "headed-contemporary",
   "metadata": {},
   "source": [
    "Now, the first pipeline can be created:"
   ]
  },
  {
   "cell_type": "code",
   "execution_count": 16,
   "id": "unexpected-collective",
   "metadata": {},
   "outputs": [],
   "source": [
    "pipe = Pipeline([( \"fingerprinter\" , fingerprinter()),\n",
    "                       (\"ridge\",Ridge())])"
   ]
  },
  {
   "cell_type": "markdown",
   "id": "e14eee80-0a3f-44f6-899c-ea5834c6dea5",
   "metadata": {},
   "source": [
    "Parameter grid, to be fed into the grid search algorithm to find the optimal hyperparameters using cross-validation in order to reduce any biais that could be introduced by the shuffling."
   ]
  },
  {
   "cell_type": "code",
   "execution_count": 17,
   "id": "focused-centre",
   "metadata": {},
   "outputs": [
    {
     "data": {
      "text/plain": [
       "{'fingerprinter__n_bits': array([1500, 1666, 1833, 2000, 2166, 2333, 2500, 2666, 2833, 3000]),\n",
       " 'fingerprinter__n_atom': array([2, 3, 4]),\n",
       " 'ridge__alpha': array([1.00000000e-03, 4.64158883e-03, 2.15443469e-02, 1.00000000e-01,\n",
       "        4.64158883e-01, 2.15443469e+00, 1.00000000e+01, 4.64158883e+01,\n",
       "        2.15443469e+02, 1.00000000e+03])}"
      ]
     },
     "execution_count": 17,
     "metadata": {},
     "output_type": "execute_result"
    }
   ],
   "source": [
    "#param_grid={\"fingerprinter__n_bits\":np.logspace(3, 4, 10, dtype=int), \"fingerprinter__n_atom\":np.arange(1, 4, 1), \"ridge__alpha\":np.logspace(0, 2, 4)}\n",
    "#param_grid={\"fingerprinter__n_bits\": np.linspace(1000, 5000, 10, dtype=int), \"fingerprinter__n_atom\":np.array([2, 3, 4]), \"ridge__alpha\":np.logspace(-3, 1, 5)}\n",
    "param_grid={\"fingerprinter__n_bits\": np.linspace(1500, 3000, 10, dtype=int), \"fingerprinter__n_atom\":np.array([2,3,4]), \"ridge__alpha\":np.logspace(-3, 3, 10)}\n",
    "param_grid"
   ]
  },
  {
   "cell_type": "markdown",
   "id": "e2d69f38-6b98-400e-84d2-e9000d91b498",
   "metadata": {},
   "source": [
    "The train/test ratio was chosen arbitrarily. This could eventually be added as a hyperparameter to find an optimum as has been done [here](https://www.sciencedirect.com/science/article/pii/S2451929420300851). "
   ]
  },
  {
   "cell_type": "code",
   "execution_count": 18,
   "id": "assumed-server",
   "metadata": {},
   "outputs": [],
   "source": [
    "X_train, X_test, y_train, y_test=train_test_split(df_X.to_numpy(), df_y.to_numpy(), train_size=0.75)"
   ]
  },
  {
   "cell_type": "markdown",
   "id": "000a9521-0a86-4c88-9747-3af5a2b810fb",
   "metadata": {},
   "source": [
    "The default cross-validation of 5-fold were chosen, as the available computational power is relatively low."
   ]
  },
  {
   "cell_type": "markdown",
   "id": "c563a2cf-853a-4c1c-a682-3338c453640d",
   "metadata": {},
   "source": [
    "### Fitting"
   ]
  },
  {
   "cell_type": "code",
   "execution_count": 19,
   "id": "rental-timing",
   "metadata": {},
   "outputs": [
    {
     "name": "stdout",
     "output_type": "stream",
     "text": [
      "Fitting 5 folds for each of 300 candidates, totalling 1500 fits\n"
     ]
    },
    {
     "data": {
      "text/html": [
       "<style>#sk-container-id-1 {color: black;background-color: white;}#sk-container-id-1 pre{padding: 0;}#sk-container-id-1 div.sk-toggleable {background-color: white;}#sk-container-id-1 label.sk-toggleable__label {cursor: pointer;display: block;width: 100%;margin-bottom: 0;padding: 0.3em;box-sizing: border-box;text-align: center;}#sk-container-id-1 label.sk-toggleable__label-arrow:before {content: \"▸\";float: left;margin-right: 0.25em;color: #696969;}#sk-container-id-1 label.sk-toggleable__label-arrow:hover:before {color: black;}#sk-container-id-1 div.sk-estimator:hover label.sk-toggleable__label-arrow:before {color: black;}#sk-container-id-1 div.sk-toggleable__content {max-height: 0;max-width: 0;overflow: hidden;text-align: left;background-color: #f0f8ff;}#sk-container-id-1 div.sk-toggleable__content pre {margin: 0.2em;color: black;border-radius: 0.25em;background-color: #f0f8ff;}#sk-container-id-1 input.sk-toggleable__control:checked~div.sk-toggleable__content {max-height: 200px;max-width: 100%;overflow: auto;}#sk-container-id-1 input.sk-toggleable__control:checked~label.sk-toggleable__label-arrow:before {content: \"▾\";}#sk-container-id-1 div.sk-estimator input.sk-toggleable__control:checked~label.sk-toggleable__label {background-color: #d4ebff;}#sk-container-id-1 div.sk-label input.sk-toggleable__control:checked~label.sk-toggleable__label {background-color: #d4ebff;}#sk-container-id-1 input.sk-hidden--visually {border: 0;clip: rect(1px 1px 1px 1px);clip: rect(1px, 1px, 1px, 1px);height: 1px;margin: -1px;overflow: hidden;padding: 0;position: absolute;width: 1px;}#sk-container-id-1 div.sk-estimator {font-family: monospace;background-color: #f0f8ff;border: 1px dotted black;border-radius: 0.25em;box-sizing: border-box;margin-bottom: 0.5em;}#sk-container-id-1 div.sk-estimator:hover {background-color: #d4ebff;}#sk-container-id-1 div.sk-parallel-item::after {content: \"\";width: 100%;border-bottom: 1px solid gray;flex-grow: 1;}#sk-container-id-1 div.sk-label:hover label.sk-toggleable__label {background-color: #d4ebff;}#sk-container-id-1 div.sk-serial::before {content: \"\";position: absolute;border-left: 1px solid gray;box-sizing: border-box;top: 0;bottom: 0;left: 50%;z-index: 0;}#sk-container-id-1 div.sk-serial {display: flex;flex-direction: column;align-items: center;background-color: white;padding-right: 0.2em;padding-left: 0.2em;position: relative;}#sk-container-id-1 div.sk-item {position: relative;z-index: 1;}#sk-container-id-1 div.sk-parallel {display: flex;align-items: stretch;justify-content: center;background-color: white;position: relative;}#sk-container-id-1 div.sk-item::before, #sk-container-id-1 div.sk-parallel-item::before {content: \"\";position: absolute;border-left: 1px solid gray;box-sizing: border-box;top: 0;bottom: 0;left: 50%;z-index: -1;}#sk-container-id-1 div.sk-parallel-item {display: flex;flex-direction: column;z-index: 1;position: relative;background-color: white;}#sk-container-id-1 div.sk-parallel-item:first-child::after {align-self: flex-end;width: 50%;}#sk-container-id-1 div.sk-parallel-item:last-child::after {align-self: flex-start;width: 50%;}#sk-container-id-1 div.sk-parallel-item:only-child::after {width: 0;}#sk-container-id-1 div.sk-dashed-wrapped {border: 1px dashed gray;margin: 0 0.4em 0.5em 0.4em;box-sizing: border-box;padding-bottom: 0.4em;background-color: white;}#sk-container-id-1 div.sk-label label {font-family: monospace;font-weight: bold;display: inline-block;line-height: 1.2em;}#sk-container-id-1 div.sk-label-container {text-align: center;}#sk-container-id-1 div.sk-container {/* jupyter's `normalize.less` sets `[hidden] { display: none; }` but bootstrap.min.css set `[hidden] { display: none !important; }` so we also need the `!important` here to be able to override the default hidden behavior on the sphinx rendered scikit-learn.org. See: https://github.com/scikit-learn/scikit-learn/issues/21755 */display: inline-block !important;position: relative;}#sk-container-id-1 div.sk-text-repr-fallback {display: none;}</style><div id=\"sk-container-id-1\" class=\"sk-top-container\"><div class=\"sk-text-repr-fallback\"><pre>GridSearchCV(estimator=Pipeline(steps=[(&#x27;fingerprinter&#x27;, fingerprinter()),\n",
       "                                       (&#x27;ridge&#x27;, Ridge())]),\n",
       "             n_jobs=-1,\n",
       "             param_grid={&#x27;fingerprinter__n_atom&#x27;: array([2, 3, 4]),\n",
       "                         &#x27;fingerprinter__n_bits&#x27;: array([1500, 1666, 1833, 2000, 2166, 2333, 2500, 2666, 2833, 3000]),\n",
       "                         &#x27;ridge__alpha&#x27;: array([1.00000000e-03, 4.64158883e-03, 2.15443469e-02, 1.00000000e-01,\n",
       "       4.64158883e-01, 2.15443469e+00, 1.00000000e+01, 4.64158883e+01,\n",
       "       2.15443469e+02, 1.00000000e+03])},\n",
       "             verbose=3)</pre><b>In a Jupyter environment, please rerun this cell to show the HTML representation or trust the notebook. <br />On GitHub, the HTML representation is unable to render, please try loading this page with nbviewer.org.</b></div><div class=\"sk-container\" hidden><div class=\"sk-item sk-dashed-wrapped\"><div class=\"sk-label-container\"><div class=\"sk-label sk-toggleable\"><input class=\"sk-toggleable__control sk-hidden--visually\" id=\"sk-estimator-id-1\" type=\"checkbox\" ><label for=\"sk-estimator-id-1\" class=\"sk-toggleable__label sk-toggleable__label-arrow\">GridSearchCV</label><div class=\"sk-toggleable__content\"><pre>GridSearchCV(estimator=Pipeline(steps=[(&#x27;fingerprinter&#x27;, fingerprinter()),\n",
       "                                       (&#x27;ridge&#x27;, Ridge())]),\n",
       "             n_jobs=-1,\n",
       "             param_grid={&#x27;fingerprinter__n_atom&#x27;: array([2, 3, 4]),\n",
       "                         &#x27;fingerprinter__n_bits&#x27;: array([1500, 1666, 1833, 2000, 2166, 2333, 2500, 2666, 2833, 3000]),\n",
       "                         &#x27;ridge__alpha&#x27;: array([1.00000000e-03, 4.64158883e-03, 2.15443469e-02, 1.00000000e-01,\n",
       "       4.64158883e-01, 2.15443469e+00, 1.00000000e+01, 4.64158883e+01,\n",
       "       2.15443469e+02, 1.00000000e+03])},\n",
       "             verbose=3)</pre></div></div></div><div class=\"sk-parallel\"><div class=\"sk-parallel-item\"><div class=\"sk-item\"><div class=\"sk-label-container\"><div class=\"sk-label sk-toggleable\"><input class=\"sk-toggleable__control sk-hidden--visually\" id=\"sk-estimator-id-2\" type=\"checkbox\" ><label for=\"sk-estimator-id-2\" class=\"sk-toggleable__label sk-toggleable__label-arrow\">estimator: Pipeline</label><div class=\"sk-toggleable__content\"><pre>Pipeline(steps=[(&#x27;fingerprinter&#x27;, fingerprinter()), (&#x27;ridge&#x27;, Ridge())])</pre></div></div></div><div class=\"sk-serial\"><div class=\"sk-item\"><div class=\"sk-serial\"><div class=\"sk-item\"><div class=\"sk-estimator sk-toggleable\"><input class=\"sk-toggleable__control sk-hidden--visually\" id=\"sk-estimator-id-3\" type=\"checkbox\" ><label for=\"sk-estimator-id-3\" class=\"sk-toggleable__label sk-toggleable__label-arrow\">fingerprinter</label><div class=\"sk-toggleable__content\"><pre>fingerprinter()</pre></div></div></div><div class=\"sk-item\"><div class=\"sk-estimator sk-toggleable\"><input class=\"sk-toggleable__control sk-hidden--visually\" id=\"sk-estimator-id-4\" type=\"checkbox\" ><label for=\"sk-estimator-id-4\" class=\"sk-toggleable__label sk-toggleable__label-arrow\">Ridge</label><div class=\"sk-toggleable__content\"><pre>Ridge()</pre></div></div></div></div></div></div></div></div></div></div></div></div>"
      ],
      "text/plain": [
       "GridSearchCV(estimator=Pipeline(steps=[('fingerprinter', fingerprinter()),\n",
       "                                       ('ridge', Ridge())]),\n",
       "             n_jobs=-1,\n",
       "             param_grid={'fingerprinter__n_atom': array([2, 3, 4]),\n",
       "                         'fingerprinter__n_bits': array([1500, 1666, 1833, 2000, 2166, 2333, 2500, 2666, 2833, 3000]),\n",
       "                         'ridge__alpha': array([1.00000000e-03, 4.64158883e-03, 2.15443469e-02, 1.00000000e-01,\n",
       "       4.64158883e-01, 2.15443469e+00, 1.00000000e+01, 4.64158883e+01,\n",
       "       2.15443469e+02, 1.00000000e+03])},\n",
       "             verbose=3)"
      ]
     },
     "execution_count": 19,
     "metadata": {},
     "output_type": "execute_result"
    }
   ],
   "source": [
    "ridge_search = GridSearchCV(pipe, param_grid, n_jobs=-1, verbose=3)\n",
    "ridge_search.fit(X_train, y_train)"
   ]
  },
  {
   "cell_type": "code",
   "execution_count": 20,
   "id": "ceafc059-0708-4c80-9a81-7226a43218de",
   "metadata": {},
   "outputs": [
    {
     "name": "stdout",
     "output_type": "stream",
     "text": [
      " Results from Grid Search \n",
      "\n",
      " The best estimator across ALL searched params:\n",
      " Pipeline(steps=[('fingerprinter', fingerprinter(n_bits=1666)),\n",
      "                ('ridge', Ridge(alpha=10.0))])\n",
      "\n",
      " The best TRAIN score (R^2) across ALL searched params:\n",
      " 0.8614169219574302\n",
      "\n",
      " The TEST MAE of the best estimator:\n",
      " 0.8614169219574302\n",
      "\n",
      " The best parameters across ALL searched params:\n",
      " {'fingerprinter__n_atom': 2, 'fingerprinter__n_bits': 1666, 'ridge__alpha': 10.0}\n"
     ]
    }
   ],
   "source": [
    "print(\" Results from Grid Search \" )\n",
    "print(\"\\n The best estimator across ALL searched params:\\n\",ridge_search.best_estimator_)\n",
    "print(\"\\n The best TRAIN score (R^2) across ALL searched params:\\n\",ridge_search.best_score_)\n",
    "print(\"\\n The TEST MAE of the best estimator:\\n\",ridge_search.best_score_)\n",
    "print(\"\\n The best parameters across ALL searched params:\\n\",ridge_search.best_params_)"
   ]
  },
  {
   "cell_type": "code",
   "execution_count": 21,
   "id": "032415fd-b34f-4b95-ab37-3ab09f77ec1d",
   "metadata": {},
   "outputs": [
    {
     "data": {
      "text/plain": [
       "{'alpha': 10.0,\n",
       " 'copy_X': True,\n",
       " 'fit_intercept': True,\n",
       " 'max_iter': None,\n",
       " 'normalize': 'deprecated',\n",
       " 'positive': False,\n",
       " 'random_state': None,\n",
       " 'solver': 'auto',\n",
       " 'tol': 0.001}"
      ]
     },
     "execution_count": 21,
     "metadata": {},
     "output_type": "execute_result"
    }
   ],
   "source": [
    "ridge_search.best_estimator_[1].get_params()"
   ]
  },
  {
   "cell_type": "code",
   "execution_count": 131,
   "id": "ecea6d08-1930-41cb-a5b4-4434b0921cf7",
   "metadata": {},
   "outputs": [
    {
     "data": {
      "image/png": "[encoded data removed]",
      "text/plain": [
       "<Figure size 504x504 with 3 Axes>"
      ]
     },
     "metadata": {},
     "output_type": "display_data"
    }
   ],
   "source": [
    "plot_joint(ridge_search.best_estimator_.predict(X_test), name=\"Ridge\");"
   ]
  },
  {
   "cell_type": "code",
   "execution_count": 23,
   "id": "eec32216-2386-42ee-bff8-289d7348b707",
   "metadata": {},
   "outputs": [],
   "source": [
    "def create_model(optimizer='Adam',\n",
    "                 dropout=0.2):\n",
    "    model = Sequential()\n",
    "    model.add(Dense(64,activation='relu'))\n",
    "    model.add(Dropout(dropout))\n",
    "    model.add(Dense(1,activation='sigmoid'))\n",
    "    \n",
    "    model.compile(loss='binary_crossentropy',optimizer=optimizer, metrics=['accuracy'])\n",
    "\n",
    "    return model"
   ]
  },
  {
   "cell_type": "markdown",
   "id": "native-identification",
   "metadata": {},
   "source": [
    "Alternative: use qsar fingerprints: http://www.qsar4u.com/files/qsar_rdkit_tutorial/qsar-rdkit.html\n",
    "\n",
    "Alternative to consider: https://pubs.acs.org/doi/10.1021/acs.jcim.7b00616\n",
    "\n",
    "Why the morgan fingerprint? The litterature does not seem to agree but they seem to lean towards that fingerprint: http://practicalcheminformatics.blogspot.com/2020/03/benchmarking-one-molecular-fingerprint.html"
   ]
  },
  {
   "cell_type": "markdown",
   "id": "dec8a0ae-555f-4c5c-b551-695de4cec319",
   "metadata": {},
   "source": [
    "Iterations:\n",
    "1. Tried to compute morgan fingerprint and take that output to compute a ridge regression. This would have been the simplest and most naive iteration. Initially a failure, I ended up being able to fine tune it more or less. Due to the high cost of the computations I did not fine-tune the hyperparameters too much.\n",
    "2. "
   ]
  },
  {
   "cell_type": "markdown",
   "id": "80eab035-ca68-440d-a96e-7a89b1046022",
   "metadata": {},
   "source": [
    "For the bootstrapping: sample size has to be extremely small, otherwise it does the take too much time (>7h...). Is pretty useless like this. In case of trying again: https://ogrisel.github.io/scikit-learn.org/sklearn-tutorial/modules/generated/sklearn.cross_validation.Bootstrap.html"
   ]
  },
  {
   "cell_type": "code",
   "execution_count": null,
   "id": "87bdb65e-a99a-4712-96e3-b14c58d580de",
   "metadata": {},
   "outputs": [],
   "source": []
  }
 ],
 "metadata": {
  "kernelspec": {
   "display_name": "Python 3",
   "language": "python",
   "name": "python3"
  },
  "language_info": {
   "codemirror_mode": {
    "name": "ipython",
    "version": 3
   },
   "file_extension": ".py",
   "mimetype": "text/x-python",
   "name": "python",
   "nbconvert_exporter": "python",
   "pygments_lexer": "ipython3",
   "version": "3.8.5"
  }
 },
 "nbformat": 4,
 "nbformat_minor": 5
}
